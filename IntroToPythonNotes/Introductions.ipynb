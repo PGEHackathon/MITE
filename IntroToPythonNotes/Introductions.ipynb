{
 "cells": [
  {
   "cell_type": "markdown",
   "id": "e59658e6",
   "metadata": {
    "slideshow": {
     "slide_type": "slide"
    }
   },
   "source": [
    "<center>\n",
    "    <h1>daytum.io/classroom</h1>\n",
    "</center>"
   ]
  },
  {
   "cell_type": "markdown",
   "id": "6004983a",
   "metadata": {
    "slideshow": {
     "slide_type": "slide"
    }
   },
   "source": [
    "# Introductions"
   ]
  },
  {
   "cell_type": "markdown",
   "id": "05795e3f",
   "metadata": {
    "slideshow": {
     "slide_type": "slide"
    }
   },
   "source": [
    "# About me..."
   ]
  },
  {
   "cell_type": "markdown",
   "id": "551ad4ac",
   "metadata": {
    "slideshow": {
     "slide_type": "-"
    }
   },
   "source": [
    "${}$\n",
    "\n",
    "<table style=\"border: hidden; \" align=\"center\">\n",
    "  <tr>\n",
    "    <td style=\"border: hidden; text-align: center; background-color : white\"><img src=\"http://www.engr.utexas.edu/images/faculty/Foster-John.jpg\" width=300></td>\n",
    "  </tr>\n",
    "    <tr>\n",
    "    <td style=\"border: hidden; text-align: center; background-color : white\"><a href=\"http://johnfoster.pge.utexas.edu\">John T. Foster, Ph.D, P.E.</a></td>\n",
    "  </tr>\n",
    "    <tr>\n",
    "    <td style=\"border: hidden; text-align: center; background-color : white; white-space: nowrap\"><a href=\"https://github.com/johntfoster\"><img src=\"https://github.githubassets.com/images/modules/logos_page/GitHub-Mark.png\" width=20></a><a href=\"https://twitter.com/johntfoster\"><img src=\"https://img.icons8.com/fluency/512/twitter.png\" width=20></a></td>\n",
    "  </tr>\n",
    "</table>"
   ]
  },
  {
   "cell_type": "markdown",
   "id": "45a45309",
   "metadata": {
    "slideshow": {
     "slide_type": "slide"
    }
   },
   "source": [
    "# Now your turn\n",
    "\n",
    "* Name\n",
    "\n",
    "* Professional background\n",
    "\n",
    "  * Engineer / Geoscientists / Data Scientist / Other\n",
    "    \n",
    "* Expectations for class"
   ]
  }
 ],
 "metadata": {
  "celltoolbar": "Slideshow",
  "kernelspec": {
   "display_name": "Python 3 (ipykernel)",
   "language": "python",
   "name": "python3"
  },
  "language_info": {
   "codemirror_mode": {
    "name": "ipython",
    "version": 3
   },
   "file_extension": ".py",
   "mimetype": "text/x-python",
   "name": "python",
   "nbconvert_exporter": "python",
   "pygments_lexer": "ipython3",
   "version": "3.10.8"
  },
  "rise": {
   "auto_select": null,
   "autolaunch": false,
   "controls": true,
   "enable_chalkboard": false,
   "footer": "<img src='https://github.com/daytum/logos/blob/master/daytum_logo_2019.png?raw=true' width='220'>",
   "progress": true,
   "scroll": true,
   "slideNumber": false,
   "theme": "simple"
  },
  "toc-showcode": true,
  "toc-showmarkdowntxt": false,
  "toc-showtags": true
 },
 "nbformat": 4,
 "nbformat_minor": 5
}
