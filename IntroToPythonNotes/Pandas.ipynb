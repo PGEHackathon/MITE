{
 "cells": [
  {
   "cell_type": "markdown",
   "metadata": {
    "slideshow": {
     "slide_type": "slide"
    },
    "tags": [
     "remove_cell"
    ]
   },
   "source": [
    "# Pandas: Python Data Anaylsis Library"
   ]
  },
  {
   "cell_type": "markdown",
   "metadata": {
    "slideshow": {
     "slide_type": "skip"
    }
   },
   "source": [
    "[Pandas](https://pandas.pydata.org/) is a library for working with and manipulating tabular style data.  In many ways you can think of it as a replacement for a spreadsheet only it's much more powerful.  Whereas [NumPy](https://numpy.org/) provides $N$-dimensional data structures, Pandas is best utilized on two-dimensional, *labeled* data.  The fundamental data structures in Pandas are the `Series` and the `Dataframe`.  \n",
    "\n",
    "A Pandas Series contains a single column of data and an *index*.  The index is a way to reference the rows of data in the Series.  Common examples of an index would be simply a monotonically increasing set of integers, or time/date stamps for time series data.\n",
    "\n",
    "A Pandas DataFrame can be thought of being created by combining more than one Series that share a common index.  So a table with multiple column labels and common index would be an example of a DataFrame.  The description of these data structures will be made clear through examples in the sequel."
   ]
  },
  {
   "cell_type": "markdown",
   "metadata": {
    "slideshow": {
     "slide_type": "subslide"
    },
    "tags": [
     "popout"
    ]
   },
   "source": [
    "Similarly to the way we import NumPy, it's idiomatic Python to import Pandas as\n",
    "\n",
    "```python\n",
    "import pandas as pd\n",
    "```"
   ]
  },
  {
   "cell_type": "code",
   "execution_count": 1,
   "metadata": {
    "scrolled": true,
    "slideshow": {
     "slide_type": "skip"
    }
   },
   "outputs": [],
   "source": [
    "import numpy as np\n",
    "import pandas as pd"
   ]
  },
  {
   "cell_type": "markdown",
   "metadata": {
    "slideshow": {
     "slide_type": "slide"
    }
   },
   "source": [
    "## Loading Data "
   ]
  },
  {
   "cell_type": "markdown",
   "metadata": {
    "slideshow": {
     "slide_type": "skip"
    }
   },
   "source": [
    "Pandas offers some of the best utilities available for reading/parsing data from text files. The function [`read_csv`](https://pandas.pydata.org/pandas-docs/stable/reference/api/pandas.read_csv.html) has numerous options for managing header/footer lines in files, parsing dates, selecting specific columns, etc in comma separated value (CSV) files.  The default index for the Dataframe is set to a set of monotonically increasing integers unless otherwise specified with the keyword argument `index_col`.\n",
    "\n",
    "There are similar functions for reading Microsoft Excel spreadsheets ([`read_excel`](https://pandas.pydata.org/pandas-docs/stable/reference/api/pandas.read_excel.html)) and fixed width formatted text  ([`read_fwf`](https://pandas.pydata.org/pandas-docs/stable/reference/api/pandas.read_fwf.html#pandas.read_fwf)).\n",
    "\n",
    "The file `'200wells.csv'` contains a dataset with X and Y coordinates, facies 1 and 2 (1 is sandstone and 2 interbedded sand and mudstone), porosity , permeability (mD) and acoustic impedance ($\\mbox{kg} / (\\mbox{m}^2 \\cdot \\mbox{s} \\cdot 10^6)$)."
   ]
  },
  {
   "cell_type": "markdown",
   "metadata": {
    "slideshow": {
     "slide_type": "skip"
    },
    "tags": [
     "popout"
    ]
   },
   "source": [
    "The [`head()`](https://pandas.pydata.org/pandas-docs/stable/reference/api/pandas.DataFrame.head.html) member function for DataFrames displays the first 5 rows of the DataFrame.  Optionally, you can specify an argument (e.g. `head(n=10)` to display more/less rows"
   ]
  },
  {
   "cell_type": "code",
   "execution_count": 2,
   "metadata": {},
   "outputs": [
    {
     "data": {
      "text/html": [
       "<div>\n",
       "<style scoped>\n",
       "    .dataframe tbody tr th:only-of-type {\n",
       "        vertical-align: middle;\n",
       "    }\n",
       "\n",
       "    .dataframe tbody tr th {\n",
       "        vertical-align: top;\n",
       "    }\n",
       "\n",
       "    .dataframe thead th {\n",
       "        text-align: right;\n",
       "    }\n",
       "</style>\n",
       "<table border=\"1\" class=\"dataframe\">\n",
       "  <thead>\n",
       "    <tr style=\"text-align: right;\">\n",
       "      <th></th>\n",
       "      <th>X</th>\n",
       "      <th>Y</th>\n",
       "      <th>facies_threshold_0.3</th>\n",
       "      <th>porosity</th>\n",
       "      <th>permeability</th>\n",
       "      <th>acoustic_impedance</th>\n",
       "    </tr>\n",
       "  </thead>\n",
       "  <tbody>\n",
       "    <tr>\n",
       "      <th>0</th>\n",
       "      <td>565</td>\n",
       "      <td>1485</td>\n",
       "      <td>1</td>\n",
       "      <td>0.1184</td>\n",
       "      <td>6.170</td>\n",
       "      <td>2.009</td>\n",
       "    </tr>\n",
       "    <tr>\n",
       "      <th>1</th>\n",
       "      <td>2585</td>\n",
       "      <td>1185</td>\n",
       "      <td>1</td>\n",
       "      <td>0.1566</td>\n",
       "      <td>6.275</td>\n",
       "      <td>2.864</td>\n",
       "    </tr>\n",
       "    <tr>\n",
       "      <th>2</th>\n",
       "      <td>2065</td>\n",
       "      <td>2865</td>\n",
       "      <td>2</td>\n",
       "      <td>0.1920</td>\n",
       "      <td>92.297</td>\n",
       "      <td>3.524</td>\n",
       "    </tr>\n",
       "    <tr>\n",
       "      <th>3</th>\n",
       "      <td>3575</td>\n",
       "      <td>2655</td>\n",
       "      <td>1</td>\n",
       "      <td>0.1621</td>\n",
       "      <td>9.048</td>\n",
       "      <td>2.157</td>\n",
       "    </tr>\n",
       "    <tr>\n",
       "      <th>4</th>\n",
       "      <td>1835</td>\n",
       "      <td>35</td>\n",
       "      <td>1</td>\n",
       "      <td>0.1766</td>\n",
       "      <td>7.123</td>\n",
       "      <td>3.979</td>\n",
       "    </tr>\n",
       "  </tbody>\n",
       "</table>\n",
       "</div>"
      ],
      "text/plain": [
       "      X     Y  facies_threshold_0.3  porosity  permeability  \\\n",
       "0   565  1485                     1    0.1184         6.170   \n",
       "1  2585  1185                     1    0.1566         6.275   \n",
       "2  2065  2865                     2    0.1920        92.297   \n",
       "3  3575  2655                     1    0.1621         9.048   \n",
       "4  1835    35                     1    0.1766         7.123   \n",
       "\n",
       "   acoustic_impedance  \n",
       "0               2.009  \n",
       "1               2.864  \n",
       "2               3.524  \n",
       "3               2.157  \n",
       "4               3.979  "
      ]
     },
     "execution_count": 2,
     "metadata": {},
     "output_type": "execute_result"
    }
   ],
   "source": [
    "df = pd.read_csv('datasets/200wells.csv'); df.head()"
   ]
  },
  {
   "cell_type": "markdown",
   "metadata": {
    "slideshow": {
     "scroll": true,
     "slide_type": "slide"
    }
   },
   "source": [
    "## Summary Statistics"
   ]
  },
  {
   "cell_type": "markdown",
   "metadata": {
    "slideshow": {
     "slide_type": "skip"
    }
   },
   "source": [
    "The DataFrame member function [`describe`](https://pandas.pydata.org/pandas-docs/stable/reference/api/pandas.DataFrame.describe.html) provides useful summary statistics such as the total number of samples, mean, standard deviations, min/max, and quartiles for each column of the DataFrame. "
   ]
  },
  {
   "cell_type": "code",
   "execution_count": 3,
   "metadata": {},
   "outputs": [
    {
     "data": {
      "text/html": [
       "<div>\n",
       "<style scoped>\n",
       "    .dataframe tbody tr th:only-of-type {\n",
       "        vertical-align: middle;\n",
       "    }\n",
       "\n",
       "    .dataframe tbody tr th {\n",
       "        vertical-align: top;\n",
       "    }\n",
       "\n",
       "    .dataframe thead th {\n",
       "        text-align: right;\n",
       "    }\n",
       "</style>\n",
       "<table border=\"1\" class=\"dataframe\">\n",
       "  <thead>\n",
       "    <tr style=\"text-align: right;\">\n",
       "      <th></th>\n",
       "      <th>X</th>\n",
       "      <th>Y</th>\n",
       "      <th>facies_threshold_0.3</th>\n",
       "      <th>porosity</th>\n",
       "      <th>permeability</th>\n",
       "      <th>acoustic_impedance</th>\n",
       "    </tr>\n",
       "  </thead>\n",
       "  <tbody>\n",
       "    <tr>\n",
       "      <th>count</th>\n",
       "      <td>200.000000</td>\n",
       "      <td>200.00000</td>\n",
       "      <td>200.000000</td>\n",
       "      <td>200.000000</td>\n",
       "      <td>200.000000</td>\n",
       "      <td>200.000000</td>\n",
       "    </tr>\n",
       "    <tr>\n",
       "      <th>mean</th>\n",
       "      <td>2053.400000</td>\n",
       "      <td>1876.15000</td>\n",
       "      <td>1.330000</td>\n",
       "      <td>0.149300</td>\n",
       "      <td>25.287462</td>\n",
       "      <td>3.000435</td>\n",
       "    </tr>\n",
       "    <tr>\n",
       "      <th>std</th>\n",
       "      <td>1113.524641</td>\n",
       "      <td>1137.58016</td>\n",
       "      <td>0.471393</td>\n",
       "      <td>0.032948</td>\n",
       "      <td>64.470135</td>\n",
       "      <td>0.592201</td>\n",
       "    </tr>\n",
       "    <tr>\n",
       "      <th>min</th>\n",
       "      <td>25.000000</td>\n",
       "      <td>35.00000</td>\n",
       "      <td>1.000000</td>\n",
       "      <td>0.050000</td>\n",
       "      <td>0.015820</td>\n",
       "      <td>2.009000</td>\n",
       "    </tr>\n",
       "    <tr>\n",
       "      <th>25%</th>\n",
       "      <td>1112.500000</td>\n",
       "      <td>920.00000</td>\n",
       "      <td>1.000000</td>\n",
       "      <td>0.132175</td>\n",
       "      <td>1.366750</td>\n",
       "      <td>2.483250</td>\n",
       "    </tr>\n",
       "    <tr>\n",
       "      <th>50%</th>\n",
       "      <td>2160.000000</td>\n",
       "      <td>1855.00000</td>\n",
       "      <td>1.000000</td>\n",
       "      <td>0.150150</td>\n",
       "      <td>4.825500</td>\n",
       "      <td>2.964500</td>\n",
       "    </tr>\n",
       "    <tr>\n",
       "      <th>75%</th>\n",
       "      <td>2915.000000</td>\n",
       "      <td>2782.50000</td>\n",
       "      <td>2.000000</td>\n",
       "      <td>0.174200</td>\n",
       "      <td>14.597000</td>\n",
       "      <td>3.527000</td>\n",
       "    </tr>\n",
       "    <tr>\n",
       "      <th>max</th>\n",
       "      <td>3955.000000</td>\n",
       "      <td>3995.00000</td>\n",
       "      <td>2.000000</td>\n",
       "      <td>0.223200</td>\n",
       "      <td>463.641000</td>\n",
       "      <td>3.984000</td>\n",
       "    </tr>\n",
       "  </tbody>\n",
       "</table>\n",
       "</div>"
      ],
      "text/plain": [
       "                 X           Y  facies_threshold_0.3    porosity  \\\n",
       "count   200.000000   200.00000            200.000000  200.000000   \n",
       "mean   2053.400000  1876.15000              1.330000    0.149300   \n",
       "std    1113.524641  1137.58016              0.471393    0.032948   \n",
       "min      25.000000    35.00000              1.000000    0.050000   \n",
       "25%    1112.500000   920.00000              1.000000    0.132175   \n",
       "50%    2160.000000  1855.00000              1.000000    0.150150   \n",
       "75%    2915.000000  2782.50000              2.000000    0.174200   \n",
       "max    3955.000000  3995.00000              2.000000    0.223200   \n",
       "\n",
       "       permeability  acoustic_impedance  \n",
       "count    200.000000          200.000000  \n",
       "mean      25.287462            3.000435  \n",
       "std       64.470135            0.592201  \n",
       "min        0.015820            2.009000  \n",
       "25%        1.366750            2.483250  \n",
       "50%        4.825500            2.964500  \n",
       "75%       14.597000            3.527000  \n",
       "max      463.641000            3.984000  "
      ]
     },
     "execution_count": 3,
     "metadata": {},
     "output_type": "execute_result"
    }
   ],
   "source": [
    "df.describe()"
   ]
  },
  {
   "cell_type": "markdown",
   "metadata": {
    "slideshow": {
     "scrolling": true,
     "slide_type": "slide"
    }
   },
   "source": [
    "## Indexing and Selecting Data"
   ]
  },
  {
   "cell_type": "markdown",
   "metadata": {},
   "source": [
    "We can access parts of the DataFrame by their labels or their numerical indices. The most basic and useful operation is to select an entire column of data by it's label."
   ]
  },
  {
   "cell_type": "code",
   "execution_count": 4,
   "metadata": {},
   "outputs": [
    {
     "data": {
      "text/html": [
       "<div>\n",
       "<style scoped>\n",
       "    .dataframe tbody tr th:only-of-type {\n",
       "        vertical-align: middle;\n",
       "    }\n",
       "\n",
       "    .dataframe tbody tr th {\n",
       "        vertical-align: top;\n",
       "    }\n",
       "\n",
       "    .dataframe thead th {\n",
       "        text-align: right;\n",
       "    }\n",
       "</style>\n",
       "<table border=\"1\" class=\"dataframe\">\n",
       "  <thead>\n",
       "    <tr style=\"text-align: right;\">\n",
       "      <th></th>\n",
       "      <th>porosity</th>\n",
       "    </tr>\n",
       "  </thead>\n",
       "  <tbody>\n",
       "    <tr>\n",
       "      <th>0</th>\n",
       "      <td>0.1184</td>\n",
       "    </tr>\n",
       "    <tr>\n",
       "      <th>1</th>\n",
       "      <td>0.1566</td>\n",
       "    </tr>\n",
       "    <tr>\n",
       "      <th>2</th>\n",
       "      <td>0.1920</td>\n",
       "    </tr>\n",
       "    <tr>\n",
       "      <th>3</th>\n",
       "      <td>0.1621</td>\n",
       "    </tr>\n",
       "    <tr>\n",
       "      <th>4</th>\n",
       "      <td>0.1766</td>\n",
       "    </tr>\n",
       "  </tbody>\n",
       "</table>\n",
       "</div>"
      ],
      "text/plain": [
       "   porosity\n",
       "0    0.1184\n",
       "1    0.1566\n",
       "2    0.1920\n",
       "3    0.1621\n",
       "4    0.1766"
      ]
     },
     "execution_count": 4,
     "metadata": {},
     "output_type": "execute_result"
    }
   ],
   "source": [
    "df[['porosity']].head()"
   ]
  },
  {
   "cell_type": "markdown",
   "metadata": {},
   "source": [
    "Multiple columns can be selected by passing in a list of labels."
   ]
  },
  {
   "cell_type": "code",
   "execution_count": 5,
   "metadata": {},
   "outputs": [
    {
     "data": {
      "text/html": [
       "<div>\n",
       "<style scoped>\n",
       "    .dataframe tbody tr th:only-of-type {\n",
       "        vertical-align: middle;\n",
       "    }\n",
       "\n",
       "    .dataframe tbody tr th {\n",
       "        vertical-align: top;\n",
       "    }\n",
       "\n",
       "    .dataframe thead th {\n",
       "        text-align: right;\n",
       "    }\n",
       "</style>\n",
       "<table border=\"1\" class=\"dataframe\">\n",
       "  <thead>\n",
       "    <tr style=\"text-align: right;\">\n",
       "      <th></th>\n",
       "      <th>porosity</th>\n",
       "      <th>permeability</th>\n",
       "    </tr>\n",
       "  </thead>\n",
       "  <tbody>\n",
       "    <tr>\n",
       "      <th>0</th>\n",
       "      <td>0.1184</td>\n",
       "      <td>6.170</td>\n",
       "    </tr>\n",
       "    <tr>\n",
       "      <th>1</th>\n",
       "      <td>0.1566</td>\n",
       "      <td>6.275</td>\n",
       "    </tr>\n",
       "    <tr>\n",
       "      <th>2</th>\n",
       "      <td>0.1920</td>\n",
       "      <td>92.297</td>\n",
       "    </tr>\n",
       "    <tr>\n",
       "      <th>3</th>\n",
       "      <td>0.1621</td>\n",
       "      <td>9.048</td>\n",
       "    </tr>\n",
       "    <tr>\n",
       "      <th>4</th>\n",
       "      <td>0.1766</td>\n",
       "      <td>7.123</td>\n",
       "    </tr>\n",
       "  </tbody>\n",
       "</table>\n",
       "</div>"
      ],
      "text/plain": [
       "   porosity  permeability\n",
       "0    0.1184         6.170\n",
       "1    0.1566         6.275\n",
       "2    0.1920        92.297\n",
       "3    0.1621         9.048\n",
       "4    0.1766         7.123"
      ]
     },
     "execution_count": 5,
     "metadata": {},
     "output_type": "execute_result"
    }
   ],
   "source": [
    "df[['porosity', 'permeability']].head()"
   ]
  },
  {
   "cell_type": "markdown",
   "metadata": {
    "slideshow": {
     "slide_type": "subslide"
    }
   },
   "source": [
    "### Label based selection"
   ]
  },
  {
   "cell_type": "markdown",
   "metadata": {},
   "source": [
    "The member function [`loc`](https://pandas.pydata.org/pandas-docs/stable/reference/api/pandas.DataFrame.loc.html) can be used to select both rows and columns of data by their labels.  The index is interpreted as the row label."
   ]
  },
  {
   "cell_type": "code",
   "execution_count": 6,
   "metadata": {},
   "outputs": [
    {
     "data": {
      "text/html": [
       "<div>\n",
       "<style scoped>\n",
       "    .dataframe tbody tr th:only-of-type {\n",
       "        vertical-align: middle;\n",
       "    }\n",
       "\n",
       "    .dataframe tbody tr th {\n",
       "        vertical-align: top;\n",
       "    }\n",
       "\n",
       "    .dataframe thead th {\n",
       "        text-align: right;\n",
       "    }\n",
       "</style>\n",
       "<table border=\"1\" class=\"dataframe\">\n",
       "  <thead>\n",
       "    <tr style=\"text-align: right;\">\n",
       "      <th></th>\n",
       "      <th>porosity</th>\n",
       "      <th>permeability</th>\n",
       "    </tr>\n",
       "  </thead>\n",
       "  <tbody>\n",
       "    <tr>\n",
       "      <th>1</th>\n",
       "      <td>0.1566</td>\n",
       "      <td>6.275</td>\n",
       "    </tr>\n",
       "    <tr>\n",
       "      <th>2</th>\n",
       "      <td>0.1920</td>\n",
       "      <td>92.297</td>\n",
       "    </tr>\n",
       "  </tbody>\n",
       "</table>\n",
       "</div>"
      ],
      "text/plain": [
       "   porosity  permeability\n",
       "1    0.1566         6.275\n",
       "2    0.1920        92.297"
      ]
     },
     "execution_count": 6,
     "metadata": {},
     "output_type": "execute_result"
    }
   ],
   "source": [
    "df.loc[1:2, ['porosity', 'permeability']]"
   ]
  },
  {
   "cell_type": "markdown",
   "metadata": {},
   "source": [
    "`loc` support NumPy-style *slicing* notation to select sequences of labels."
   ]
  },
  {
   "cell_type": "code",
   "execution_count": 7,
   "metadata": {},
   "outputs": [
    {
     "data": {
      "text/html": [
       "<div>\n",
       "<style scoped>\n",
       "    .dataframe tbody tr th:only-of-type {\n",
       "        vertical-align: middle;\n",
       "    }\n",
       "\n",
       "    .dataframe tbody tr th {\n",
       "        vertical-align: top;\n",
       "    }\n",
       "\n",
       "    .dataframe thead th {\n",
       "        text-align: right;\n",
       "    }\n",
       "</style>\n",
       "<table border=\"1\" class=\"dataframe\">\n",
       "  <thead>\n",
       "    <tr style=\"text-align: right;\">\n",
       "      <th></th>\n",
       "      <th>porosity</th>\n",
       "      <th>permeability</th>\n",
       "      <th>acoustic_impedance</th>\n",
       "    </tr>\n",
       "  </thead>\n",
       "  <tbody>\n",
       "    <tr>\n",
       "      <th>1</th>\n",
       "      <td>0.1566</td>\n",
       "      <td>6.275</td>\n",
       "      <td>2.864</td>\n",
       "    </tr>\n",
       "    <tr>\n",
       "      <th>2</th>\n",
       "      <td>0.1920</td>\n",
       "      <td>92.297</td>\n",
       "      <td>3.524</td>\n",
       "    </tr>\n",
       "  </tbody>\n",
       "</table>\n",
       "</div>"
      ],
      "text/plain": [
       "   porosity  permeability  acoustic_impedance\n",
       "1    0.1566         6.275               2.864\n",
       "2    0.1920        92.297               3.524"
      ]
     },
     "execution_count": 7,
     "metadata": {},
     "output_type": "execute_result"
    }
   ],
   "source": [
    "df.loc[1:2, 'porosity':'acoustic_impedance']"
   ]
  },
  {
   "cell_type": "markdown",
   "metadata": {
    "slideshow": {
     "slide_type": "subslide"
    }
   },
   "source": [
    "### Index based selection"
   ]
  },
  {
   "cell_type": "markdown",
   "metadata": {},
   "source": [
    "The member function [`iloc`](https://pandas.pydata.org/pandas-docs/stable/reference/api/pandas.DataFrame.iloc.html) can be used to select both rows and columns of data by their integer index.  `iloc` supports Python-list style slicing."
   ]
  },
  {
   "cell_type": "code",
   "execution_count": 8,
   "metadata": {},
   "outputs": [
    {
     "data": {
      "text/html": [
       "<div>\n",
       "<style scoped>\n",
       "    .dataframe tbody tr th:only-of-type {\n",
       "        vertical-align: middle;\n",
       "    }\n",
       "\n",
       "    .dataframe tbody tr th {\n",
       "        vertical-align: top;\n",
       "    }\n",
       "\n",
       "    .dataframe thead th {\n",
       "        text-align: right;\n",
       "    }\n",
       "</style>\n",
       "<table border=\"1\" class=\"dataframe\">\n",
       "  <thead>\n",
       "    <tr style=\"text-align: right;\">\n",
       "      <th></th>\n",
       "      <th>porosity</th>\n",
       "      <th>permeability</th>\n",
       "    </tr>\n",
       "  </thead>\n",
       "  <tbody>\n",
       "    <tr>\n",
       "      <th>1</th>\n",
       "      <td>0.1566</td>\n",
       "      <td>6.275</td>\n",
       "    </tr>\n",
       "    <tr>\n",
       "      <th>2</th>\n",
       "      <td>0.1920</td>\n",
       "      <td>92.297</td>\n",
       "    </tr>\n",
       "  </tbody>\n",
       "</table>\n",
       "</div>"
      ],
      "text/plain": [
       "   porosity  permeability\n",
       "1    0.1566         6.275\n",
       "2    0.1920        92.297"
      ]
     },
     "execution_count": 8,
     "metadata": {},
     "output_type": "execute_result"
    }
   ],
   "source": [
    "df.iloc[1:3, 3:5]"
   ]
  },
  {
   "cell_type": "markdown",
   "metadata": {
    "slideshow": {
     "slide_type": "subslide"
    }
   },
   "source": [
    "### Get data as NumPy array "
   ]
  },
  {
   "cell_type": "markdown",
   "metadata": {
    "slideshow": {
     "slide_type": "-"
    }
   },
   "source": [
    "We can get the underlying data in a Series/DataFrame as a NumPy array with the `to_numpy()` method."
   ]
  },
  {
   "cell_type": "code",
   "execution_count": 9,
   "metadata": {
    "scrolled": true,
    "slideshow": {
     "scrolled": true,
     "slide_type": "-"
    }
   },
   "outputs": [
    {
     "data": {
      "text/plain": [
       "array([0.1184 , 0.1566 , 0.192  , 0.1621 , 0.1766 , 0.1239 , 0.179  ,\n",
       "       0.1914 , 0.1763 , 0.1674 , 0.1369 , 0.1095 , 0.1677 , 0.1817 ,\n",
       "       0.119  , 0.1774 , 0.1418 , 0.1296 , 0.1325 , 0.1729 , 0.08494,\n",
       "       0.188  , 0.1147 , 0.1795 , 0.1981 , 0.1258 , 0.215  , 0.1781 ,\n",
       "       0.1428 , 0.1495 , 0.1435 , 0.1026 , 0.1772 , 0.19   , 0.1597 ,\n",
       "       0.1453 , 0.1653 , 0.176  , 0.2232 , 0.1336 , 0.1819 , 0.1591 ,\n",
       "       0.1328 , 0.1517 , 0.1061 , 0.08187, 0.1682 , 0.1367 , 0.1628 ,\n",
       "       0.1305 , 0.1097 , 0.2062 , 0.168  , 0.1663 , 0.1231 , 0.1965 ,\n",
       "       0.1292 , 0.1347 , 0.1481 , 0.1523 , 0.1388 , 0.1574 , 0.1769 ,\n",
       "       0.1982 , 0.161  , 0.1584 , 0.1594 , 0.1146 , 0.1367 , 0.1742 ,\n",
       "       0.1585 , 0.1065 , 0.181  , 0.1372 , 0.1384 , 0.0991 , 0.137  ,\n",
       "       0.1957 , 0.1032 , 0.1973 , 0.1336 , 0.1792 , 0.152  , 0.08245,\n",
       "       0.1505 , 0.0938 , 0.1563 , 0.1277 , 0.141  , 0.1712 , 0.1428 ,\n",
       "       0.07338, 0.1595 , 0.1079 , 0.1191 , 0.132  , 0.1394 , 0.2154 ,\n",
       "       0.1428 , 0.1416 , 0.1658 , 0.187  , 0.1796 , 0.177  , 0.1714 ,\n",
       "       0.1438 , 0.186  , 0.0964 , 0.1455 , 0.1322 , 0.06726, 0.1162 ,\n",
       "       0.1021 , 0.1396 , 0.1139 , 0.1576 , 0.1417 , 0.2159 , 0.1352 ,\n",
       "       0.0964 , 0.1853 , 0.1898 , 0.1785 , 0.1648 , 0.1367 , 0.1644 ,\n",
       "       0.1376 , 0.1974 , 0.1498 , 0.1524 , 0.1579 , 0.147  , 0.1105 ,\n",
       "       0.1825 , 0.1227 , 0.1414 , 0.1347 , 0.165  , 0.2019 , 0.1487 ,\n",
       "       0.1784 , 0.0784 , 0.1061 , 0.1491 , 0.0915 , 0.1677 , 0.1811 ,\n",
       "       0.1377 , 0.2158 , 0.1356 , 0.1062 , 0.132  , 0.05   , 0.08678,\n",
       "       0.1474 , 0.164  , 0.15   , 0.1606 , 0.1478 , 0.1645 , 0.1415 ,\n",
       "       0.1821 , 0.1319 , 0.08012, 0.2158 , 0.177  , 0.08209, 0.1254 ,\n",
       "       0.1611 , 0.1916 , 0.1742 , 0.2063 , 0.122  , 0.1541 , 0.1435 ,\n",
       "       0.1505 , 0.192  , 0.1104 , 0.1717 , 0.1394 , 0.1503 , 0.18   ,\n",
       "       0.164  , 0.1808 , 0.1577 , 0.1211 , 0.1523 , 0.1467 , 0.1591 ,\n",
       "       0.1367 , 0.192  , 0.1359 , 0.1513 , 0.1473 , 0.1377 , 0.1634 ,\n",
       "       0.1548 , 0.1321 , 0.06092, 0.1505 ])"
      ]
     },
     "execution_count": 9,
     "metadata": {},
     "output_type": "execute_result"
    }
   ],
   "source": [
    "df['porosity'].to_numpy()"
   ]
  },
  {
   "cell_type": "markdown",
   "metadata": {
    "slideshow": {
     "slide_type": "slide"
    }
   },
   "source": [
    "## DataFrame Transformations"
   ]
  },
  {
   "cell_type": "markdown",
   "metadata": {
    "slideshow": {
     "slide_type": "skip"
    }
   },
   "source": [
    "There are several member functions that allow for transformations of the DataFrame labels, adding/removing columns, etc.\n",
    "\n",
    "To rename DataFrame column labels, we pass a Python dictionary where the keywords are the current labels and the values are the new labels.  For example,"
   ]
  },
  {
   "cell_type": "markdown",
   "metadata": {
    "slideshow": {
     "slide_type": "skip"
    },
    "tags": [
     "popout"
    ]
   },
   "source": [
    "The use of the keyword argument `inplace = True` has an equivalent outcome as writing\n",
    "\n",
    "```python\n",
    "df = df.rename(...\n",
    "```"
   ]
  },
  {
   "cell_type": "code",
   "execution_count": 10,
   "metadata": {},
   "outputs": [
    {
     "data": {
      "text/html": [
       "<div>\n",
       "<style scoped>\n",
       "    .dataframe tbody tr th:only-of-type {\n",
       "        vertical-align: middle;\n",
       "    }\n",
       "\n",
       "    .dataframe tbody tr th {\n",
       "        vertical-align: top;\n",
       "    }\n",
       "\n",
       "    .dataframe thead th {\n",
       "        text-align: right;\n",
       "    }\n",
       "</style>\n",
       "<table border=\"1\" class=\"dataframe\">\n",
       "  <thead>\n",
       "    <tr style=\"text-align: right;\">\n",
       "      <th></th>\n",
       "      <th>X</th>\n",
       "      <th>Y</th>\n",
       "      <th>facies</th>\n",
       "      <th>porosity</th>\n",
       "      <th>perm</th>\n",
       "      <th>ai</th>\n",
       "    </tr>\n",
       "  </thead>\n",
       "  <tbody>\n",
       "    <tr>\n",
       "      <th>0</th>\n",
       "      <td>565</td>\n",
       "      <td>1485</td>\n",
       "      <td>1</td>\n",
       "      <td>0.1184</td>\n",
       "      <td>6.170</td>\n",
       "      <td>2.009</td>\n",
       "    </tr>\n",
       "    <tr>\n",
       "      <th>1</th>\n",
       "      <td>2585</td>\n",
       "      <td>1185</td>\n",
       "      <td>1</td>\n",
       "      <td>0.1566</td>\n",
       "      <td>6.275</td>\n",
       "      <td>2.864</td>\n",
       "    </tr>\n",
       "    <tr>\n",
       "      <th>2</th>\n",
       "      <td>2065</td>\n",
       "      <td>2865</td>\n",
       "      <td>2</td>\n",
       "      <td>0.1920</td>\n",
       "      <td>92.297</td>\n",
       "      <td>3.524</td>\n",
       "    </tr>\n",
       "    <tr>\n",
       "      <th>3</th>\n",
       "      <td>3575</td>\n",
       "      <td>2655</td>\n",
       "      <td>1</td>\n",
       "      <td>0.1621</td>\n",
       "      <td>9.048</td>\n",
       "      <td>2.157</td>\n",
       "    </tr>\n",
       "    <tr>\n",
       "      <th>4</th>\n",
       "      <td>1835</td>\n",
       "      <td>35</td>\n",
       "      <td>1</td>\n",
       "      <td>0.1766</td>\n",
       "      <td>7.123</td>\n",
       "      <td>3.979</td>\n",
       "    </tr>\n",
       "  </tbody>\n",
       "</table>\n",
       "</div>"
      ],
      "text/plain": [
       "      X     Y  facies  porosity    perm     ai\n",
       "0   565  1485       1    0.1184   6.170  2.009\n",
       "1  2585  1185       1    0.1566   6.275  2.864\n",
       "2  2065  2865       2    0.1920  92.297  3.524\n",
       "3  3575  2655       1    0.1621   9.048  2.157\n",
       "4  1835    35       1    0.1766   7.123  3.979"
      ]
     },
     "execution_count": 10,
     "metadata": {},
     "output_type": "execute_result"
    }
   ],
   "source": [
    "df.rename(columns={'facies_threshold_0.3': 'facies', \n",
    "                   'permeability': 'perm', \n",
    "                   'acoustic_impedance': 'ai'}, inplace = True)\n",
    "df.head()"
   ]
  },
  {
   "cell_type": "markdown",
   "metadata": {
    "slideshow": {
     "slide_type": "subslide"
    }
   },
   "source": [
    "### Adding a New Column"
   ]
  },
  {
   "cell_type": "markdown",
   "metadata": {
    "slideshow": {
     "slide_type": "skip"
    }
   },
   "source": [
    "Pandas DataFrames share a lot of the same syntax with Python dictionaries including accessing columns by label (i.e. keyword) and adding entries.  The example below shows how to add a new column with the label `'zero'`."
   ]
  },
  {
   "cell_type": "code",
   "execution_count": 11,
   "metadata": {},
   "outputs": [
    {
     "data": {
      "text/html": [
       "<div>\n",
       "<style scoped>\n",
       "    .dataframe tbody tr th:only-of-type {\n",
       "        vertical-align: middle;\n",
       "    }\n",
       "\n",
       "    .dataframe tbody tr th {\n",
       "        vertical-align: top;\n",
       "    }\n",
       "\n",
       "    .dataframe thead th {\n",
       "        text-align: right;\n",
       "    }\n",
       "</style>\n",
       "<table border=\"1\" class=\"dataframe\">\n",
       "  <thead>\n",
       "    <tr style=\"text-align: right;\">\n",
       "      <th></th>\n",
       "      <th>X</th>\n",
       "      <th>Y</th>\n",
       "      <th>facies</th>\n",
       "      <th>porosity</th>\n",
       "      <th>perm</th>\n",
       "      <th>ai</th>\n",
       "      <th>zero</th>\n",
       "    </tr>\n",
       "  </thead>\n",
       "  <tbody>\n",
       "    <tr>\n",
       "      <th>0</th>\n",
       "      <td>565</td>\n",
       "      <td>1485</td>\n",
       "      <td>1</td>\n",
       "      <td>0.1184</td>\n",
       "      <td>6.170</td>\n",
       "      <td>2.009</td>\n",
       "      <td>0.0</td>\n",
       "    </tr>\n",
       "    <tr>\n",
       "      <th>1</th>\n",
       "      <td>2585</td>\n",
       "      <td>1185</td>\n",
       "      <td>1</td>\n",
       "      <td>0.1566</td>\n",
       "      <td>6.275</td>\n",
       "      <td>2.864</td>\n",
       "      <td>0.0</td>\n",
       "    </tr>\n",
       "    <tr>\n",
       "      <th>2</th>\n",
       "      <td>2065</td>\n",
       "      <td>2865</td>\n",
       "      <td>2</td>\n",
       "      <td>0.1920</td>\n",
       "      <td>92.297</td>\n",
       "      <td>3.524</td>\n",
       "      <td>0.0</td>\n",
       "    </tr>\n",
       "    <tr>\n",
       "      <th>3</th>\n",
       "      <td>3575</td>\n",
       "      <td>2655</td>\n",
       "      <td>1</td>\n",
       "      <td>0.1621</td>\n",
       "      <td>9.048</td>\n",
       "      <td>2.157</td>\n",
       "      <td>0.0</td>\n",
       "    </tr>\n",
       "    <tr>\n",
       "      <th>4</th>\n",
       "      <td>1835</td>\n",
       "      <td>35</td>\n",
       "      <td>1</td>\n",
       "      <td>0.1766</td>\n",
       "      <td>7.123</td>\n",
       "      <td>3.979</td>\n",
       "      <td>0.0</td>\n",
       "    </tr>\n",
       "  </tbody>\n",
       "</table>\n",
       "</div>"
      ],
      "text/plain": [
       "      X     Y  facies  porosity    perm     ai  zero\n",
       "0   565  1485       1    0.1184   6.170  2.009   0.0\n",
       "1  2585  1185       1    0.1566   6.275  2.864   0.0\n",
       "2  2065  2865       2    0.1920  92.297  3.524   0.0\n",
       "3  3575  2655       1    0.1621   9.048  2.157   0.0\n",
       "4  1835    35       1    0.1766   7.123  3.979   0.0"
      ]
     },
     "execution_count": 11,
     "metadata": {},
     "output_type": "execute_result"
    }
   ],
   "source": [
    "df['zero'] = np.zeros(len(df)) \n",
    "df.head()"
   ]
  },
  {
   "cell_type": "markdown",
   "metadata": {
    "slideshow": {
     "slide_type": "subslide"
    }
   },
   "source": [
    "### Removing Columns "
   ]
  },
  {
   "cell_type": "markdown",
   "metadata": {
    "slideshow": {
     "slide_type": "skip"
    }
   },
   "source": [
    "We can remove unwanted columns with the [`drop`](https://pandas.pydata.org/pandas-docs/stable/reference/api/pandas.DataFrame.drop.html) member function. The argument `inplace = True` modifies the existing DataFrame in place in memory, i.e. `'zero'` will no longer be accessible in any way in the DataFrame."
   ]
  },
  {
   "cell_type": "markdown",
   "metadata": {
    "tags": [
     "popout"
    ]
   },
   "source": [
    "The argument `axis = 1` refers to columns, the default is `axis = 0` in which case the positional argument would be expected to be an index label."
   ]
  },
  {
   "cell_type": "code",
   "execution_count": 12,
   "metadata": {},
   "outputs": [
    {
     "data": {
      "text/html": [
       "<div>\n",
       "<style scoped>\n",
       "    .dataframe tbody tr th:only-of-type {\n",
       "        vertical-align: middle;\n",
       "    }\n",
       "\n",
       "    .dataframe tbody tr th {\n",
       "        vertical-align: top;\n",
       "    }\n",
       "\n",
       "    .dataframe thead th {\n",
       "        text-align: right;\n",
       "    }\n",
       "</style>\n",
       "<table border=\"1\" class=\"dataframe\">\n",
       "  <thead>\n",
       "    <tr style=\"text-align: right;\">\n",
       "      <th></th>\n",
       "      <th>X</th>\n",
       "      <th>Y</th>\n",
       "      <th>facies</th>\n",
       "      <th>porosity</th>\n",
       "      <th>perm</th>\n",
       "      <th>ai</th>\n",
       "    </tr>\n",
       "  </thead>\n",
       "  <tbody>\n",
       "    <tr>\n",
       "      <th>0</th>\n",
       "      <td>565</td>\n",
       "      <td>1485</td>\n",
       "      <td>1</td>\n",
       "      <td>0.1184</td>\n",
       "      <td>6.170</td>\n",
       "      <td>2.009</td>\n",
       "    </tr>\n",
       "    <tr>\n",
       "      <th>1</th>\n",
       "      <td>2585</td>\n",
       "      <td>1185</td>\n",
       "      <td>1</td>\n",
       "      <td>0.1566</td>\n",
       "      <td>6.275</td>\n",
       "      <td>2.864</td>\n",
       "    </tr>\n",
       "    <tr>\n",
       "      <th>2</th>\n",
       "      <td>2065</td>\n",
       "      <td>2865</td>\n",
       "      <td>2</td>\n",
       "      <td>0.1920</td>\n",
       "      <td>92.297</td>\n",
       "      <td>3.524</td>\n",
       "    </tr>\n",
       "    <tr>\n",
       "      <th>3</th>\n",
       "      <td>3575</td>\n",
       "      <td>2655</td>\n",
       "      <td>1</td>\n",
       "      <td>0.1621</td>\n",
       "      <td>9.048</td>\n",
       "      <td>2.157</td>\n",
       "    </tr>\n",
       "    <tr>\n",
       "      <th>4</th>\n",
       "      <td>1835</td>\n",
       "      <td>35</td>\n",
       "      <td>1</td>\n",
       "      <td>0.1766</td>\n",
       "      <td>7.123</td>\n",
       "      <td>3.979</td>\n",
       "    </tr>\n",
       "  </tbody>\n",
       "</table>\n",
       "</div>"
      ],
      "text/plain": [
       "      X     Y  facies  porosity    perm     ai\n",
       "0   565  1485       1    0.1184   6.170  2.009\n",
       "1  2585  1185       1    0.1566   6.275  2.864\n",
       "2  2065  2865       2    0.1920  92.297  3.524\n",
       "3  3575  2655       1    0.1621   9.048  2.157\n",
       "4  1835    35       1    0.1766   7.123  3.979"
      ]
     },
     "execution_count": 12,
     "metadata": {},
     "output_type": "execute_result"
    }
   ],
   "source": [
    "df.drop('zero', axis=1, inplace=True)\n",
    "df.head()"
   ]
  },
  {
   "cell_type": "markdown",
   "metadata": {
    "slideshow": {
     "slide_type": "subslide"
    }
   },
   "source": [
    "### Removing Rows"
   ]
  },
  {
   "cell_type": "markdown",
   "metadata": {
    "slideshow": {
     "slide_type": "skip"
    }
   },
   "source": [
    "We can remove the row indexed by `1` as follows."
   ]
  },
  {
   "cell_type": "markdown",
   "metadata": {
    "slideshow": {
     "slide_type": "skip"
    },
    "tags": [
     "popout"
    ]
   },
   "source": [
    "Notice we can stack member function commands, i.e. the `drop` function is immediately followed by `head` to display the DataFrame with row index `1` removed."
   ]
  },
  {
   "cell_type": "code",
   "execution_count": 13,
   "metadata": {},
   "outputs": [
    {
     "data": {
      "text/html": [
       "<div>\n",
       "<style scoped>\n",
       "    .dataframe tbody tr th:only-of-type {\n",
       "        vertical-align: middle;\n",
       "    }\n",
       "\n",
       "    .dataframe tbody tr th {\n",
       "        vertical-align: top;\n",
       "    }\n",
       "\n",
       "    .dataframe thead th {\n",
       "        text-align: right;\n",
       "    }\n",
       "</style>\n",
       "<table border=\"1\" class=\"dataframe\">\n",
       "  <thead>\n",
       "    <tr style=\"text-align: right;\">\n",
       "      <th></th>\n",
       "      <th>X</th>\n",
       "      <th>Y</th>\n",
       "      <th>facies</th>\n",
       "      <th>porosity</th>\n",
       "      <th>perm</th>\n",
       "      <th>ai</th>\n",
       "    </tr>\n",
       "  </thead>\n",
       "  <tbody>\n",
       "    <tr>\n",
       "      <th>0</th>\n",
       "      <td>565</td>\n",
       "      <td>1485</td>\n",
       "      <td>1</td>\n",
       "      <td>0.1184</td>\n",
       "      <td>6.170</td>\n",
       "      <td>2.009</td>\n",
       "    </tr>\n",
       "    <tr>\n",
       "      <th>2</th>\n",
       "      <td>2065</td>\n",
       "      <td>2865</td>\n",
       "      <td>2</td>\n",
       "      <td>0.1920</td>\n",
       "      <td>92.297</td>\n",
       "      <td>3.524</td>\n",
       "    </tr>\n",
       "    <tr>\n",
       "      <th>3</th>\n",
       "      <td>3575</td>\n",
       "      <td>2655</td>\n",
       "      <td>1</td>\n",
       "      <td>0.1621</td>\n",
       "      <td>9.048</td>\n",
       "      <td>2.157</td>\n",
       "    </tr>\n",
       "    <tr>\n",
       "      <th>4</th>\n",
       "      <td>1835</td>\n",
       "      <td>35</td>\n",
       "      <td>1</td>\n",
       "      <td>0.1766</td>\n",
       "      <td>7.123</td>\n",
       "      <td>3.979</td>\n",
       "    </tr>\n",
       "    <tr>\n",
       "      <th>5</th>\n",
       "      <td>3375</td>\n",
       "      <td>2525</td>\n",
       "      <td>1</td>\n",
       "      <td>0.1239</td>\n",
       "      <td>1.468</td>\n",
       "      <td>2.337</td>\n",
       "    </tr>\n",
       "  </tbody>\n",
       "</table>\n",
       "</div>"
      ],
      "text/plain": [
       "      X     Y  facies  porosity    perm     ai\n",
       "0   565  1485       1    0.1184   6.170  2.009\n",
       "2  2065  2865       2    0.1920  92.297  3.524\n",
       "3  3575  2655       1    0.1621   9.048  2.157\n",
       "4  1835    35       1    0.1766   7.123  3.979\n",
       "5  3375  2525       1    0.1239   1.468  2.337"
      ]
     },
     "execution_count": 13,
     "metadata": {},
     "output_type": "execute_result"
    }
   ],
   "source": [
    "df.drop(1).head()"
   ]
  },
  {
   "cell_type": "markdown",
   "metadata": {
    "slideshow": {
     "slide_type": "skip"
    }
   },
   "source": [
    "Because the argument `inplace = True` was not given, the orginal DataFrame is unchanged.  "
   ]
  },
  {
   "cell_type": "code",
   "execution_count": 14,
   "metadata": {
    "slideshow": {
     "slide_type": "skip"
    }
   },
   "outputs": [
    {
     "data": {
      "text/html": [
       "<div>\n",
       "<style scoped>\n",
       "    .dataframe tbody tr th:only-of-type {\n",
       "        vertical-align: middle;\n",
       "    }\n",
       "\n",
       "    .dataframe tbody tr th {\n",
       "        vertical-align: top;\n",
       "    }\n",
       "\n",
       "    .dataframe thead th {\n",
       "        text-align: right;\n",
       "    }\n",
       "</style>\n",
       "<table border=\"1\" class=\"dataframe\">\n",
       "  <thead>\n",
       "    <tr style=\"text-align: right;\">\n",
       "      <th></th>\n",
       "      <th>X</th>\n",
       "      <th>Y</th>\n",
       "      <th>facies</th>\n",
       "      <th>porosity</th>\n",
       "      <th>perm</th>\n",
       "      <th>ai</th>\n",
       "    </tr>\n",
       "  </thead>\n",
       "  <tbody>\n",
       "    <tr>\n",
       "      <th>0</th>\n",
       "      <td>565</td>\n",
       "      <td>1485</td>\n",
       "      <td>1</td>\n",
       "      <td>0.1184</td>\n",
       "      <td>6.170</td>\n",
       "      <td>2.009</td>\n",
       "    </tr>\n",
       "    <tr>\n",
       "      <th>1</th>\n",
       "      <td>2585</td>\n",
       "      <td>1185</td>\n",
       "      <td>1</td>\n",
       "      <td>0.1566</td>\n",
       "      <td>6.275</td>\n",
       "      <td>2.864</td>\n",
       "    </tr>\n",
       "    <tr>\n",
       "      <th>2</th>\n",
       "      <td>2065</td>\n",
       "      <td>2865</td>\n",
       "      <td>2</td>\n",
       "      <td>0.1920</td>\n",
       "      <td>92.297</td>\n",
       "      <td>3.524</td>\n",
       "    </tr>\n",
       "    <tr>\n",
       "      <th>3</th>\n",
       "      <td>3575</td>\n",
       "      <td>2655</td>\n",
       "      <td>1</td>\n",
       "      <td>0.1621</td>\n",
       "      <td>9.048</td>\n",
       "      <td>2.157</td>\n",
       "    </tr>\n",
       "    <tr>\n",
       "      <th>4</th>\n",
       "      <td>1835</td>\n",
       "      <td>35</td>\n",
       "      <td>1</td>\n",
       "      <td>0.1766</td>\n",
       "      <td>7.123</td>\n",
       "      <td>3.979</td>\n",
       "    </tr>\n",
       "  </tbody>\n",
       "</table>\n",
       "</div>"
      ],
      "text/plain": [
       "      X     Y  facies  porosity    perm     ai\n",
       "0   565  1485       1    0.1184   6.170  2.009\n",
       "1  2585  1185       1    0.1566   6.275  2.864\n",
       "2  2065  2865       2    0.1920  92.297  3.524\n",
       "3  3575  2655       1    0.1621   9.048  2.157\n",
       "4  1835    35       1    0.1766   7.123  3.979"
      ]
     },
     "execution_count": 14,
     "metadata": {},
     "output_type": "execute_result"
    }
   ],
   "source": [
    "df.head()"
   ]
  },
  {
   "cell_type": "markdown",
   "metadata": {
    "slideshow": {
     "scroll": true,
     "slide_type": "subslide"
    }
   },
   "source": [
    "### Sorting"
   ]
  },
  {
   "cell_type": "markdown",
   "metadata": {
    "slideshow": {
     "slide_type": "skip"
    }
   },
   "source": [
    "We can sort the DataFrame in either ascending or desending order by any column label."
   ]
  },
  {
   "cell_type": "code",
   "execution_count": 15,
   "metadata": {},
   "outputs": [
    {
     "data": {
      "text/html": [
       "<div>\n",
       "<style scoped>\n",
       "    .dataframe tbody tr th:only-of-type {\n",
       "        vertical-align: middle;\n",
       "    }\n",
       "\n",
       "    .dataframe tbody tr th {\n",
       "        vertical-align: top;\n",
       "    }\n",
       "\n",
       "    .dataframe thead th {\n",
       "        text-align: right;\n",
       "    }\n",
       "</style>\n",
       "<table border=\"1\" class=\"dataframe\">\n",
       "  <thead>\n",
       "    <tr style=\"text-align: right;\">\n",
       "      <th></th>\n",
       "      <th>X</th>\n",
       "      <th>Y</th>\n",
       "      <th>facies</th>\n",
       "      <th>porosity</th>\n",
       "      <th>perm</th>\n",
       "      <th>ai</th>\n",
       "    </tr>\n",
       "  </thead>\n",
       "  <tbody>\n",
       "    <tr>\n",
       "      <th>38</th>\n",
       "      <td>3505</td>\n",
       "      <td>1525</td>\n",
       "      <td>2</td>\n",
       "      <td>0.2232</td>\n",
       "      <td>174.654</td>\n",
       "      <td>3.344</td>\n",
       "    </tr>\n",
       "    <tr>\n",
       "      <th>117</th>\n",
       "      <td>2665</td>\n",
       "      <td>3205</td>\n",
       "      <td>2</td>\n",
       "      <td>0.2159</td>\n",
       "      <td>273.980</td>\n",
       "      <td>2.551</td>\n",
       "    </tr>\n",
       "    <tr>\n",
       "      <th>164</th>\n",
       "      <td>2455</td>\n",
       "      <td>2885</td>\n",
       "      <td>2</td>\n",
       "      <td>0.2158</td>\n",
       "      <td>9.592</td>\n",
       "      <td>2.773</td>\n",
       "    </tr>\n",
       "    <tr>\n",
       "      <th>148</th>\n",
       "      <td>1975</td>\n",
       "      <td>2745</td>\n",
       "      <td>2</td>\n",
       "      <td>0.2158</td>\n",
       "      <td>361.704</td>\n",
       "      <td>3.839</td>\n",
       "    </tr>\n",
       "    <tr>\n",
       "      <th>97</th>\n",
       "      <td>1855</td>\n",
       "      <td>3025</td>\n",
       "      <td>2</td>\n",
       "      <td>0.2154</td>\n",
       "      <td>463.641</td>\n",
       "      <td>3.091</td>\n",
       "    </tr>\n",
       "    <tr>\n",
       "      <th>26</th>\n",
       "      <td>1785</td>\n",
       "      <td>3145</td>\n",
       "      <td>2</td>\n",
       "      <td>0.2150</td>\n",
       "      <td>201.363</td>\n",
       "      <td>2.877</td>\n",
       "    </tr>\n",
       "    <tr>\n",
       "      <th>171</th>\n",
       "      <td>3735</td>\n",
       "      <td>2585</td>\n",
       "      <td>1</td>\n",
       "      <td>0.2063</td>\n",
       "      <td>30.258</td>\n",
       "      <td>2.100</td>\n",
       "    </tr>\n",
       "    <tr>\n",
       "      <th>51</th>\n",
       "      <td>1655</td>\n",
       "      <td>2985</td>\n",
       "      <td>2</td>\n",
       "      <td>0.2062</td>\n",
       "      <td>17.585</td>\n",
       "      <td>3.444</td>\n",
       "    </tr>\n",
       "    <tr>\n",
       "      <th>138</th>\n",
       "      <td>1855</td>\n",
       "      <td>3095</td>\n",
       "      <td>2</td>\n",
       "      <td>0.2019</td>\n",
       "      <td>257.990</td>\n",
       "      <td>2.886</td>\n",
       "    </tr>\n",
       "    <tr>\n",
       "      <th>63</th>\n",
       "      <td>845</td>\n",
       "      <td>3915</td>\n",
       "      <td>1</td>\n",
       "      <td>0.1982</td>\n",
       "      <td>410.570</td>\n",
       "      <td>2.781</td>\n",
       "    </tr>\n",
       "    <tr>\n",
       "      <th>24</th>\n",
       "      <td>2625</td>\n",
       "      <td>3185</td>\n",
       "      <td>1</td>\n",
       "      <td>0.1981</td>\n",
       "      <td>124.222</td>\n",
       "      <td>2.451</td>\n",
       "    </tr>\n",
       "    <tr>\n",
       "      <th>127</th>\n",
       "      <td>1615</td>\n",
       "      <td>2285</td>\n",
       "      <td>2</td>\n",
       "      <td>0.1974</td>\n",
       "      <td>159.567</td>\n",
       "      <td>3.167</td>\n",
       "    </tr>\n",
       "    <tr>\n",
       "      <th>79</th>\n",
       "      <td>1265</td>\n",
       "      <td>3105</td>\n",
       "      <td>2</td>\n",
       "      <td>0.1973</td>\n",
       "      <td>114.044</td>\n",
       "      <td>2.750</td>\n",
       "    </tr>\n",
       "  </tbody>\n",
       "</table>\n",
       "</div>"
      ],
      "text/plain": [
       "        X     Y  facies  porosity     perm     ai\n",
       "38   3505  1525       2    0.2232  174.654  3.344\n",
       "117  2665  3205       2    0.2159  273.980  2.551\n",
       "164  2455  2885       2    0.2158    9.592  2.773\n",
       "148  1975  2745       2    0.2158  361.704  3.839\n",
       "97   1855  3025       2    0.2154  463.641  3.091\n",
       "26   1785  3145       2    0.2150  201.363  2.877\n",
       "171  3735  2585       1    0.2063   30.258  2.100\n",
       "51   1655  2985       2    0.2062   17.585  3.444\n",
       "138  1855  3095       2    0.2019  257.990  2.886\n",
       "63    845  3915       1    0.1982  410.570  2.781\n",
       "24   2625  3185       1    0.1981  124.222  2.451\n",
       "127  1615  2285       2    0.1974  159.567  3.167\n",
       "79   1265  3105       2    0.1973  114.044  2.750"
      ]
     },
     "execution_count": 15,
     "metadata": {},
     "output_type": "execute_result"
    }
   ],
   "source": [
    "df.sort_values('porosity', ascending=False, inplace=True)\n",
    "df.head(n=13)"
   ]
  },
  {
   "cell_type": "markdown",
   "metadata": {
    "slideshow": {
     "scroll": true,
     "slide_type": "subslide"
    }
   },
   "source": [
    "### Reseting Indices"
   ]
  },
  {
   "cell_type": "markdown",
   "metadata": {
    "slideshow": {
     "slide_type": "skip"
    }
   },
   "source": [
    "In the previous example, the resulting indices are now out of order after the sorting operation.  This can be fixed, if desired, with the [`reset_index`](https://pandas.pydata.org/pandas-docs/stable/reference/api/pandas.DataFrame.reset_index.html) member function."
   ]
  },
  {
   "cell_type": "markdown",
   "metadata": {
    "slideshow": {
     "slide_type": "skip"
    },
    "tags": [
     "popout"
    ]
   },
   "source": [
    "The reindexing operation could have been accomplished during the sort operation by passing the argument `ingnore_index = True`."
   ]
  },
  {
   "cell_type": "code",
   "execution_count": 16,
   "metadata": {},
   "outputs": [
    {
     "data": {
      "text/html": [
       "<div>\n",
       "<style scoped>\n",
       "    .dataframe tbody tr th:only-of-type {\n",
       "        vertical-align: middle;\n",
       "    }\n",
       "\n",
       "    .dataframe tbody tr th {\n",
       "        vertical-align: top;\n",
       "    }\n",
       "\n",
       "    .dataframe thead th {\n",
       "        text-align: right;\n",
       "    }\n",
       "</style>\n",
       "<table border=\"1\" class=\"dataframe\">\n",
       "  <thead>\n",
       "    <tr style=\"text-align: right;\">\n",
       "      <th></th>\n",
       "      <th>X</th>\n",
       "      <th>Y</th>\n",
       "      <th>facies</th>\n",
       "      <th>porosity</th>\n",
       "      <th>perm</th>\n",
       "      <th>ai</th>\n",
       "    </tr>\n",
       "  </thead>\n",
       "  <tbody>\n",
       "    <tr>\n",
       "      <th>0</th>\n",
       "      <td>3505</td>\n",
       "      <td>1525</td>\n",
       "      <td>2</td>\n",
       "      <td>0.2232</td>\n",
       "      <td>174.654</td>\n",
       "      <td>3.344</td>\n",
       "    </tr>\n",
       "    <tr>\n",
       "      <th>1</th>\n",
       "      <td>2665</td>\n",
       "      <td>3205</td>\n",
       "      <td>2</td>\n",
       "      <td>0.2159</td>\n",
       "      <td>273.980</td>\n",
       "      <td>2.551</td>\n",
       "    </tr>\n",
       "    <tr>\n",
       "      <th>2</th>\n",
       "      <td>2455</td>\n",
       "      <td>2885</td>\n",
       "      <td>2</td>\n",
       "      <td>0.2158</td>\n",
       "      <td>9.592</td>\n",
       "      <td>2.773</td>\n",
       "    </tr>\n",
       "    <tr>\n",
       "      <th>3</th>\n",
       "      <td>1975</td>\n",
       "      <td>2745</td>\n",
       "      <td>2</td>\n",
       "      <td>0.2158</td>\n",
       "      <td>361.704</td>\n",
       "      <td>3.839</td>\n",
       "    </tr>\n",
       "    <tr>\n",
       "      <th>4</th>\n",
       "      <td>1855</td>\n",
       "      <td>3025</td>\n",
       "      <td>2</td>\n",
       "      <td>0.2154</td>\n",
       "      <td>463.641</td>\n",
       "      <td>3.091</td>\n",
       "    </tr>\n",
       "    <tr>\n",
       "      <th>5</th>\n",
       "      <td>1785</td>\n",
       "      <td>3145</td>\n",
       "      <td>2</td>\n",
       "      <td>0.2150</td>\n",
       "      <td>201.363</td>\n",
       "      <td>2.877</td>\n",
       "    </tr>\n",
       "    <tr>\n",
       "      <th>6</th>\n",
       "      <td>3735</td>\n",
       "      <td>2585</td>\n",
       "      <td>1</td>\n",
       "      <td>0.2063</td>\n",
       "      <td>30.258</td>\n",
       "      <td>2.100</td>\n",
       "    </tr>\n",
       "    <tr>\n",
       "      <th>7</th>\n",
       "      <td>1655</td>\n",
       "      <td>2985</td>\n",
       "      <td>2</td>\n",
       "      <td>0.2062</td>\n",
       "      <td>17.585</td>\n",
       "      <td>3.444</td>\n",
       "    </tr>\n",
       "    <tr>\n",
       "      <th>8</th>\n",
       "      <td>1855</td>\n",
       "      <td>3095</td>\n",
       "      <td>2</td>\n",
       "      <td>0.2019</td>\n",
       "      <td>257.990</td>\n",
       "      <td>2.886</td>\n",
       "    </tr>\n",
       "    <tr>\n",
       "      <th>9</th>\n",
       "      <td>845</td>\n",
       "      <td>3915</td>\n",
       "      <td>1</td>\n",
       "      <td>0.1982</td>\n",
       "      <td>410.570</td>\n",
       "      <td>2.781</td>\n",
       "    </tr>\n",
       "    <tr>\n",
       "      <th>10</th>\n",
       "      <td>2625</td>\n",
       "      <td>3185</td>\n",
       "      <td>1</td>\n",
       "      <td>0.1981</td>\n",
       "      <td>124.222</td>\n",
       "      <td>2.451</td>\n",
       "    </tr>\n",
       "    <tr>\n",
       "      <th>11</th>\n",
       "      <td>1615</td>\n",
       "      <td>2285</td>\n",
       "      <td>2</td>\n",
       "      <td>0.1974</td>\n",
       "      <td>159.567</td>\n",
       "      <td>3.167</td>\n",
       "    </tr>\n",
       "    <tr>\n",
       "      <th>12</th>\n",
       "      <td>1265</td>\n",
       "      <td>3105</td>\n",
       "      <td>2</td>\n",
       "      <td>0.1973</td>\n",
       "      <td>114.044</td>\n",
       "      <td>2.750</td>\n",
       "    </tr>\n",
       "  </tbody>\n",
       "</table>\n",
       "</div>"
      ],
      "text/plain": [
       "       X     Y  facies  porosity     perm     ai\n",
       "0   3505  1525       2    0.2232  174.654  3.344\n",
       "1   2665  3205       2    0.2159  273.980  2.551\n",
       "2   2455  2885       2    0.2158    9.592  2.773\n",
       "3   1975  2745       2    0.2158  361.704  3.839\n",
       "4   1855  3025       2    0.2154  463.641  3.091\n",
       "5   1785  3145       2    0.2150  201.363  2.877\n",
       "6   3735  2585       1    0.2063   30.258  2.100\n",
       "7   1655  2985       2    0.2062   17.585  3.444\n",
       "8   1855  3095       2    0.2019  257.990  2.886\n",
       "9    845  3915       1    0.1982  410.570  2.781\n",
       "10  2625  3185       1    0.1981  124.222  2.451\n",
       "11  1615  2285       2    0.1974  159.567  3.167\n",
       "12  1265  3105       2    0.1973  114.044  2.750"
      ]
     },
     "execution_count": 16,
     "metadata": {},
     "output_type": "execute_result"
    }
   ],
   "source": [
    "df.reset_index(inplace=True, drop=True)\n",
    "df.head(n = 13)"
   ]
  },
  {
   "cell_type": "markdown",
   "metadata": {
    "slideshow": {
     "scroll": true,
     "slide_type": "slide"
    }
   },
   "source": [
    "## Feature Engineering "
   ]
  },
  {
   "cell_type": "markdown",
   "metadata": {
    "slideshow": {
     "slide_type": "skip"
    }
   },
   "source": [
    "In the field of data science, DataFrame column labels are often referred to as *features*.  *Feature engineering* is the process of creating new features and/or transforming features for further analysis.  In the example below, we create two new features through manipulations of existing features."
   ]
  },
  {
   "cell_type": "markdown",
   "metadata": {
    "slideshow": {
     "slide_type": "skip"
    },
    "tags": [
     "popout"
    ]
   },
   "source": [
    "Mathematical operations can be performed directly on the DataFrame columns that are accessed by their labels."
   ]
  },
  {
   "cell_type": "code",
   "execution_count": 17,
   "metadata": {},
   "outputs": [
    {
     "data": {
      "text/html": [
       "<div>\n",
       "<style scoped>\n",
       "    .dataframe tbody tr th:only-of-type {\n",
       "        vertical-align: middle;\n",
       "    }\n",
       "\n",
       "    .dataframe tbody tr th {\n",
       "        vertical-align: top;\n",
       "    }\n",
       "\n",
       "    .dataframe thead th {\n",
       "        text-align: right;\n",
       "    }\n",
       "</style>\n",
       "<table border=\"1\" class=\"dataframe\">\n",
       "  <thead>\n",
       "    <tr style=\"text-align: right;\">\n",
       "      <th></th>\n",
       "      <th>X</th>\n",
       "      <th>Y</th>\n",
       "      <th>facies</th>\n",
       "      <th>porosity</th>\n",
       "      <th>perm</th>\n",
       "      <th>ai</th>\n",
       "      <th>% porosity</th>\n",
       "      <th>perm-por ratio</th>\n",
       "    </tr>\n",
       "  </thead>\n",
       "  <tbody>\n",
       "    <tr>\n",
       "      <th>0</th>\n",
       "      <td>3505</td>\n",
       "      <td>1525</td>\n",
       "      <td>2</td>\n",
       "      <td>0.2232</td>\n",
       "      <td>174.654</td>\n",
       "      <td>3.344</td>\n",
       "      <td>22.32</td>\n",
       "      <td>782.500000</td>\n",
       "    </tr>\n",
       "    <tr>\n",
       "      <th>1</th>\n",
       "      <td>2665</td>\n",
       "      <td>3205</td>\n",
       "      <td>2</td>\n",
       "      <td>0.2159</td>\n",
       "      <td>273.980</td>\n",
       "      <td>2.551</td>\n",
       "      <td>21.59</td>\n",
       "      <td>1269.013432</td>\n",
       "    </tr>\n",
       "    <tr>\n",
       "      <th>2</th>\n",
       "      <td>2455</td>\n",
       "      <td>2885</td>\n",
       "      <td>2</td>\n",
       "      <td>0.2158</td>\n",
       "      <td>9.592</td>\n",
       "      <td>2.773</td>\n",
       "      <td>21.58</td>\n",
       "      <td>44.448563</td>\n",
       "    </tr>\n",
       "    <tr>\n",
       "      <th>3</th>\n",
       "      <td>1975</td>\n",
       "      <td>2745</td>\n",
       "      <td>2</td>\n",
       "      <td>0.2158</td>\n",
       "      <td>361.704</td>\n",
       "      <td>3.839</td>\n",
       "      <td>21.58</td>\n",
       "      <td>1676.107507</td>\n",
       "    </tr>\n",
       "    <tr>\n",
       "      <th>4</th>\n",
       "      <td>1855</td>\n",
       "      <td>3025</td>\n",
       "      <td>2</td>\n",
       "      <td>0.2154</td>\n",
       "      <td>463.641</td>\n",
       "      <td>3.091</td>\n",
       "      <td>21.54</td>\n",
       "      <td>2152.465181</td>\n",
       "    </tr>\n",
       "  </tbody>\n",
       "</table>\n",
       "</div>"
      ],
      "text/plain": [
       "      X     Y  facies  porosity     perm     ai  % porosity  perm-por ratio\n",
       "0  3505  1525       2    0.2232  174.654  3.344       22.32      782.500000\n",
       "1  2665  3205       2    0.2159  273.980  2.551       21.59     1269.013432\n",
       "2  2455  2885       2    0.2158    9.592  2.773       21.58       44.448563\n",
       "3  1975  2745       2    0.2158  361.704  3.839       21.58     1676.107507\n",
       "4  1855  3025       2    0.2154  463.641  3.091       21.54     2152.465181"
      ]
     },
     "execution_count": 17,
     "metadata": {},
     "output_type": "execute_result"
    }
   ],
   "source": [
    "df['% porosity'] = df['porosity'] * 100\n",
    "df['perm-por ratio'] = df['perm'] / df['porosity']          \n",
    "df.head()"
   ]
  },
  {
   "cell_type": "markdown",
   "metadata": {
    "slideshow": {
     "scroll": true,
     "slide_type": "subslide"
    }
   },
   "source": [
    "### Assigning Conditional Categories"
   ]
  },
  {
   "cell_type": "markdown",
   "metadata": {
    "slideshow": {
     "slide_type": "skip"
    }
   },
   "source": [
    "We can also use conditional statements when assigning values to a new feature.  For example, we could have a categorical porosity measure for high and low porosity, called `'porosity type'`."
   ]
  },
  {
   "cell_type": "markdown",
   "metadata": {
    "slideshow": {
     "slide_type": "skip"
    },
    "tags": [
     "popout"
    ]
   },
   "source": [
    "Most NumPy functions such as [`where`](https://docs.scipy.org/doc/numpy/reference/generated/numpy.where.html) will work directly on Pandas DataFrame columns."
   ]
  },
  {
   "cell_type": "code",
   "execution_count": 18,
   "metadata": {},
   "outputs": [
    {
     "data": {
      "text/html": [
       "<div>\n",
       "<style scoped>\n",
       "    .dataframe tbody tr th:only-of-type {\n",
       "        vertical-align: middle;\n",
       "    }\n",
       "\n",
       "    .dataframe tbody tr th {\n",
       "        vertical-align: top;\n",
       "    }\n",
       "\n",
       "    .dataframe thead th {\n",
       "        text-align: right;\n",
       "    }\n",
       "</style>\n",
       "<table border=\"1\" class=\"dataframe\">\n",
       "  <thead>\n",
       "    <tr style=\"text-align: right;\">\n",
       "      <th></th>\n",
       "      <th>X</th>\n",
       "      <th>Y</th>\n",
       "      <th>facies</th>\n",
       "      <th>porosity</th>\n",
       "      <th>perm</th>\n",
       "      <th>ai</th>\n",
       "      <th>% porosity</th>\n",
       "      <th>perm-por ratio</th>\n",
       "      <th>porosity type</th>\n",
       "    </tr>\n",
       "  </thead>\n",
       "  <tbody>\n",
       "    <tr>\n",
       "      <th>0</th>\n",
       "      <td>3505</td>\n",
       "      <td>1525</td>\n",
       "      <td>2</td>\n",
       "      <td>0.2232</td>\n",
       "      <td>174.654</td>\n",
       "      <td>3.344</td>\n",
       "      <td>22.32</td>\n",
       "      <td>782.500000</td>\n",
       "      <td>high</td>\n",
       "    </tr>\n",
       "    <tr>\n",
       "      <th>1</th>\n",
       "      <td>2665</td>\n",
       "      <td>3205</td>\n",
       "      <td>2</td>\n",
       "      <td>0.2159</td>\n",
       "      <td>273.980</td>\n",
       "      <td>2.551</td>\n",
       "      <td>21.59</td>\n",
       "      <td>1269.013432</td>\n",
       "      <td>high</td>\n",
       "    </tr>\n",
       "    <tr>\n",
       "      <th>2</th>\n",
       "      <td>2455</td>\n",
       "      <td>2885</td>\n",
       "      <td>2</td>\n",
       "      <td>0.2158</td>\n",
       "      <td>9.592</td>\n",
       "      <td>2.773</td>\n",
       "      <td>21.58</td>\n",
       "      <td>44.448563</td>\n",
       "      <td>high</td>\n",
       "    </tr>\n",
       "  </tbody>\n",
       "</table>\n",
       "</div>"
      ],
      "text/plain": [
       "      X     Y  facies  porosity     perm     ai  % porosity  perm-por ratio  \\\n",
       "0  3505  1525       2    0.2232  174.654  3.344       22.32      782.500000   \n",
       "1  2665  3205       2    0.2159  273.980  2.551       21.59     1269.013432   \n",
       "2  2455  2885       2    0.2158    9.592  2.773       21.58       44.448563   \n",
       "\n",
       "  porosity type  \n",
       "0          high  \n",
       "1          high  \n",
       "2          high  "
      ]
     },
     "execution_count": 18,
     "metadata": {},
     "output_type": "execute_result"
    }
   ],
   "source": [
    "df['porosity type'] = np.where(df['porosity'] > 0.12, 'high', 'low')\n",
    "df[df['porosity type'] == 'high'].head(n=3)"
   ]
  },
  {
   "cell_type": "code",
   "execution_count": 19,
   "metadata": {},
   "outputs": [
    {
     "data": {
      "text/html": [
       "<div>\n",
       "<style scoped>\n",
       "    .dataframe tbody tr th:only-of-type {\n",
       "        vertical-align: middle;\n",
       "    }\n",
       "\n",
       "    .dataframe tbody tr th {\n",
       "        vertical-align: top;\n",
       "    }\n",
       "\n",
       "    .dataframe thead th {\n",
       "        text-align: right;\n",
       "    }\n",
       "</style>\n",
       "<table border=\"1\" class=\"dataframe\">\n",
       "  <thead>\n",
       "    <tr style=\"text-align: right;\">\n",
       "      <th></th>\n",
       "      <th>X</th>\n",
       "      <th>Y</th>\n",
       "      <th>facies</th>\n",
       "      <th>porosity</th>\n",
       "      <th>perm</th>\n",
       "      <th>ai</th>\n",
       "      <th>% porosity</th>\n",
       "      <th>perm-por ratio</th>\n",
       "      <th>porosity type</th>\n",
       "    </tr>\n",
       "  </thead>\n",
       "  <tbody>\n",
       "    <tr>\n",
       "      <th>165</th>\n",
       "      <td>1365</td>\n",
       "      <td>2715</td>\n",
       "      <td>1</td>\n",
       "      <td>0.1191</td>\n",
       "      <td>0.2666</td>\n",
       "      <td>2.788</td>\n",
       "      <td>11.91</td>\n",
       "      <td>2.238455</td>\n",
       "      <td>low</td>\n",
       "    </tr>\n",
       "    <tr>\n",
       "      <th>166</th>\n",
       "      <td>2765</td>\n",
       "      <td>925</td>\n",
       "      <td>1</td>\n",
       "      <td>0.1190</td>\n",
       "      <td>0.7731</td>\n",
       "      <td>2.323</td>\n",
       "      <td>11.90</td>\n",
       "      <td>6.496639</td>\n",
       "      <td>low</td>\n",
       "    </tr>\n",
       "    <tr>\n",
       "      <th>167</th>\n",
       "      <td>565</td>\n",
       "      <td>1485</td>\n",
       "      <td>1</td>\n",
       "      <td>0.1184</td>\n",
       "      <td>6.1700</td>\n",
       "      <td>2.009</td>\n",
       "      <td>11.84</td>\n",
       "      <td>52.111486</td>\n",
       "      <td>low</td>\n",
       "    </tr>\n",
       "  </tbody>\n",
       "</table>\n",
       "</div>"
      ],
      "text/plain": [
       "        X     Y  facies  porosity    perm     ai  % porosity  perm-por ratio  \\\n",
       "165  1365  2715       1    0.1191  0.2666  2.788       11.91        2.238455   \n",
       "166  2765   925       1    0.1190  0.7731  2.323       11.90        6.496639   \n",
       "167   565  1485       1    0.1184  6.1700  2.009       11.84       52.111486   \n",
       "\n",
       "    porosity type  \n",
       "165           low  \n",
       "166           low  \n",
       "167           low  "
      ]
     },
     "execution_count": 19,
     "metadata": {},
     "output_type": "execute_result"
    }
   ],
   "source": [
    "df[df['porosity type'] == 'low'].head(n=3)"
   ]
  },
  {
   "cell_type": "markdown",
   "metadata": {
    "slideshow": {
     "scroll": true,
     "slide_type": "subslide"
    }
   },
   "source": [
    "### Feature Truncation"
   ]
  },
  {
   "cell_type": "markdown",
   "metadata": {
    "slideshow": {
     "slide_type": "skip"
    }
   },
   "source": [
    "Here's an example where we use a conditional statement to assign a very low permeability value (0.0001 mD) for all porosity values below a threshold. Of course, this is for demonstration, in practice a much lower porosity threshold would likely be applied.  "
   ]
  },
  {
   "cell_type": "code",
   "execution_count": 20,
   "metadata": {},
   "outputs": [
    {
     "data": {
      "text/html": [
       "<div>\n",
       "<style scoped>\n",
       "    .dataframe tbody tr th:only-of-type {\n",
       "        vertical-align: middle;\n",
       "    }\n",
       "\n",
       "    .dataframe tbody tr th {\n",
       "        vertical-align: top;\n",
       "    }\n",
       "\n",
       "    .dataframe thead th {\n",
       "        text-align: right;\n",
       "    }\n",
       "</style>\n",
       "<table border=\"1\" class=\"dataframe\">\n",
       "  <thead>\n",
       "    <tr style=\"text-align: right;\">\n",
       "      <th></th>\n",
       "      <th>X</th>\n",
       "      <th>Y</th>\n",
       "      <th>facies</th>\n",
       "      <th>porosity</th>\n",
       "      <th>perm</th>\n",
       "      <th>ai</th>\n",
       "      <th>% porosity</th>\n",
       "      <th>perm-por ratio</th>\n",
       "      <th>porosity type</th>\n",
       "      <th>perm cutoff</th>\n",
       "    </tr>\n",
       "  </thead>\n",
       "  <tbody>\n",
       "    <tr>\n",
       "      <th>0</th>\n",
       "      <td>3505</td>\n",
       "      <td>1525</td>\n",
       "      <td>2</td>\n",
       "      <td>0.2232</td>\n",
       "      <td>174.654</td>\n",
       "      <td>3.344</td>\n",
       "      <td>22.32</td>\n",
       "      <td>782.500000</td>\n",
       "      <td>high</td>\n",
       "      <td>174.654</td>\n",
       "    </tr>\n",
       "    <tr>\n",
       "      <th>1</th>\n",
       "      <td>2665</td>\n",
       "      <td>3205</td>\n",
       "      <td>2</td>\n",
       "      <td>0.2159</td>\n",
       "      <td>273.980</td>\n",
       "      <td>2.551</td>\n",
       "      <td>21.59</td>\n",
       "      <td>1269.013432</td>\n",
       "      <td>high</td>\n",
       "      <td>273.980</td>\n",
       "    </tr>\n",
       "    <tr>\n",
       "      <th>2</th>\n",
       "      <td>2455</td>\n",
       "      <td>2885</td>\n",
       "      <td>2</td>\n",
       "      <td>0.2158</td>\n",
       "      <td>9.592</td>\n",
       "      <td>2.773</td>\n",
       "      <td>21.58</td>\n",
       "      <td>44.448563</td>\n",
       "      <td>high</td>\n",
       "      <td>9.592</td>\n",
       "    </tr>\n",
       "  </tbody>\n",
       "</table>\n",
       "</div>"
      ],
      "text/plain": [
       "      X     Y  facies  porosity     perm     ai  % porosity  perm-por ratio  \\\n",
       "0  3505  1525       2    0.2232  174.654  3.344       22.32      782.500000   \n",
       "1  2665  3205       2    0.2159  273.980  2.551       21.59     1269.013432   \n",
       "2  2455  2885       2    0.2158    9.592  2.773       21.58       44.448563   \n",
       "\n",
       "  porosity type  perm cutoff  \n",
       "0          high      174.654  \n",
       "1          high      273.980  \n",
       "2          high        9.592  "
      ]
     },
     "execution_count": 20,
     "metadata": {},
     "output_type": "execute_result"
    }
   ],
   "source": [
    "df['perm cutoff'] = np.where(df['porosity'] > 0.12, df['perm'], 0.0001) \n",
    "df.head(n=3)"
   ]
  },
  {
   "cell_type": "code",
   "execution_count": 21,
   "metadata": {},
   "outputs": [
    {
     "data": {
      "text/html": [
       "<div>\n",
       "<style scoped>\n",
       "    .dataframe tbody tr th:only-of-type {\n",
       "        vertical-align: middle;\n",
       "    }\n",
       "\n",
       "    .dataframe tbody tr th {\n",
       "        vertical-align: top;\n",
       "    }\n",
       "\n",
       "    .dataframe thead th {\n",
       "        text-align: right;\n",
       "    }\n",
       "</style>\n",
       "<table border=\"1\" class=\"dataframe\">\n",
       "  <thead>\n",
       "    <tr style=\"text-align: right;\">\n",
       "      <th></th>\n",
       "      <th>X</th>\n",
       "      <th>Y</th>\n",
       "      <th>facies</th>\n",
       "      <th>porosity</th>\n",
       "      <th>perm</th>\n",
       "      <th>ai</th>\n",
       "      <th>% porosity</th>\n",
       "      <th>perm-por ratio</th>\n",
       "      <th>porosity type</th>\n",
       "      <th>perm cutoff</th>\n",
       "    </tr>\n",
       "  </thead>\n",
       "  <tbody>\n",
       "    <tr>\n",
       "      <th>165</th>\n",
       "      <td>1365</td>\n",
       "      <td>2715</td>\n",
       "      <td>1</td>\n",
       "      <td>0.1191</td>\n",
       "      <td>0.2666</td>\n",
       "      <td>2.788</td>\n",
       "      <td>11.91</td>\n",
       "      <td>2.238455</td>\n",
       "      <td>low</td>\n",
       "      <td>0.0001</td>\n",
       "    </tr>\n",
       "    <tr>\n",
       "      <th>166</th>\n",
       "      <td>2765</td>\n",
       "      <td>925</td>\n",
       "      <td>1</td>\n",
       "      <td>0.1190</td>\n",
       "      <td>0.7731</td>\n",
       "      <td>2.323</td>\n",
       "      <td>11.90</td>\n",
       "      <td>6.496639</td>\n",
       "      <td>low</td>\n",
       "      <td>0.0001</td>\n",
       "    </tr>\n",
       "    <tr>\n",
       "      <th>167</th>\n",
       "      <td>565</td>\n",
       "      <td>1485</td>\n",
       "      <td>1</td>\n",
       "      <td>0.1184</td>\n",
       "      <td>6.1700</td>\n",
       "      <td>2.009</td>\n",
       "      <td>11.84</td>\n",
       "      <td>52.111486</td>\n",
       "      <td>low</td>\n",
       "      <td>0.0001</td>\n",
       "    </tr>\n",
       "  </tbody>\n",
       "</table>\n",
       "</div>"
      ],
      "text/plain": [
       "        X     Y  facies  porosity    perm     ai  % porosity  perm-por ratio  \\\n",
       "165  1365  2715       1    0.1191  0.2666  2.788       11.91        2.238455   \n",
       "166  2765   925       1    0.1190  0.7731  2.323       11.90        6.496639   \n",
       "167   565  1485       1    0.1184  6.1700  2.009       11.84       52.111486   \n",
       "\n",
       "    porosity type  perm cutoff  \n",
       "165           low       0.0001  \n",
       "166           low       0.0001  \n",
       "167           low       0.0001  "
      ]
     },
     "execution_count": 21,
     "metadata": {},
     "output_type": "execute_result"
    }
   ],
   "source": [
    "df[df['perm cutoff'] == 0.0001].head(n=3)"
   ]
  },
  {
   "cell_type": "markdown",
   "metadata": {
    "slideshow": {
     "scrolling": true,
     "slide_type": "subslide"
    }
   },
   "source": [
    "### Applying functions to Series/DataFrame"
   ]
  },
  {
   "cell_type": "markdown",
   "metadata": {
    "slideshow": {
     "slide_type": "skip"
    }
   },
   "source": [
    "We can apply any function that we can define in Python to entries of a Series or DataFrame.  First we define a function.  This function returns the Kozeny-Carmen relationship to predict permeability from porosity ϕ, for values of ϕ greater that $0.12$, otherwise it returns $0.0001$.  The proportionality constant $m$ is given as an additional keyword argument."
   ]
  },
  {
   "cell_type": "code",
   "execution_count": 22,
   "metadata": {
    "slideshow": {
     "slide_type": "-"
    }
   },
   "outputs": [],
   "source": [
    "def kozeny_carmen_with_threshold(ϕ, m=5):\n",
    "    \n",
    "    if ϕ > 0.12:\n",
    "        return m * ϕ ** 3 / (1 - ϕ) ** 2\n",
    "    else:\n",
    "        return 0.0001"
   ]
  },
  {
   "cell_type": "markdown",
   "metadata": {
    "slideshow": {
     "slide_type": "-"
    }
   },
   "source": [
    " Using the [`apply`](https://pandas.pydata.org/pandas-docs/stable/reference/api/pandas.DataFrame.apply.html) member function we can transform the `'porosity'` column into permeability via the `kozeny_carmen_with_threshold` function above.  "
   ]
  },
  {
   "cell_type": "code",
   "execution_count": 23,
   "metadata": {
    "slideshow": {
     "slide_type": "-"
    }
   },
   "outputs": [
    {
     "data": {
      "text/html": [
       "<div>\n",
       "<style scoped>\n",
       "    .dataframe tbody tr th:only-of-type {\n",
       "        vertical-align: middle;\n",
       "    }\n",
       "\n",
       "    .dataframe tbody tr th {\n",
       "        vertical-align: top;\n",
       "    }\n",
       "\n",
       "    .dataframe thead th {\n",
       "        text-align: right;\n",
       "    }\n",
       "</style>\n",
       "<table border=\"1\" class=\"dataframe\">\n",
       "  <thead>\n",
       "    <tr style=\"text-align: right;\">\n",
       "      <th></th>\n",
       "      <th>X</th>\n",
       "      <th>Y</th>\n",
       "      <th>facies</th>\n",
       "      <th>porosity</th>\n",
       "      <th>perm</th>\n",
       "      <th>ai</th>\n",
       "      <th>% porosity</th>\n",
       "      <th>perm-por ratio</th>\n",
       "      <th>porosity type</th>\n",
       "      <th>perm cutoff</th>\n",
       "      <th>kozeny carmen</th>\n",
       "    </tr>\n",
       "  </thead>\n",
       "  <tbody>\n",
       "    <tr>\n",
       "      <th>0</th>\n",
       "      <td>3505</td>\n",
       "      <td>1525</td>\n",
       "      <td>2</td>\n",
       "      <td>0.22320</td>\n",
       "      <td>174.65400</td>\n",
       "      <td>3.344</td>\n",
       "      <td>22.320</td>\n",
       "      <td>782.500000</td>\n",
       "      <td>high</td>\n",
       "      <td>174.6540</td>\n",
       "      <td>0.184274</td>\n",
       "    </tr>\n",
       "    <tr>\n",
       "      <th>1</th>\n",
       "      <td>2665</td>\n",
       "      <td>3205</td>\n",
       "      <td>2</td>\n",
       "      <td>0.21590</td>\n",
       "      <td>273.98000</td>\n",
       "      <td>2.551</td>\n",
       "      <td>21.590</td>\n",
       "      <td>1269.013432</td>\n",
       "      <td>high</td>\n",
       "      <td>273.9800</td>\n",
       "      <td>0.163687</td>\n",
       "    </tr>\n",
       "    <tr>\n",
       "      <th>2</th>\n",
       "      <td>2455</td>\n",
       "      <td>2885</td>\n",
       "      <td>2</td>\n",
       "      <td>0.21580</td>\n",
       "      <td>9.59200</td>\n",
       "      <td>2.773</td>\n",
       "      <td>21.580</td>\n",
       "      <td>44.448563</td>\n",
       "      <td>high</td>\n",
       "      <td>9.5920</td>\n",
       "      <td>0.163418</td>\n",
       "    </tr>\n",
       "    <tr>\n",
       "      <th>3</th>\n",
       "      <td>1975</td>\n",
       "      <td>2745</td>\n",
       "      <td>2</td>\n",
       "      <td>0.21580</td>\n",
       "      <td>361.70400</td>\n",
       "      <td>3.839</td>\n",
       "      <td>21.580</td>\n",
       "      <td>1676.107507</td>\n",
       "      <td>high</td>\n",
       "      <td>361.7040</td>\n",
       "      <td>0.163418</td>\n",
       "    </tr>\n",
       "    <tr>\n",
       "      <th>4</th>\n",
       "      <td>1855</td>\n",
       "      <td>3025</td>\n",
       "      <td>2</td>\n",
       "      <td>0.21540</td>\n",
       "      <td>463.64100</td>\n",
       "      <td>3.091</td>\n",
       "      <td>21.540</td>\n",
       "      <td>2152.465181</td>\n",
       "      <td>high</td>\n",
       "      <td>463.6410</td>\n",
       "      <td>0.162346</td>\n",
       "    </tr>\n",
       "    <tr>\n",
       "      <th>...</th>\n",
       "      <td>...</td>\n",
       "      <td>...</td>\n",
       "      <td>...</td>\n",
       "      <td>...</td>\n",
       "      <td>...</td>\n",
       "      <td>...</td>\n",
       "      <td>...</td>\n",
       "      <td>...</td>\n",
       "      <td>...</td>\n",
       "      <td>...</td>\n",
       "      <td>...</td>\n",
       "    </tr>\n",
       "    <tr>\n",
       "      <th>195</th>\n",
       "      <td>1745</td>\n",
       "      <td>255</td>\n",
       "      <td>2</td>\n",
       "      <td>0.07840</td>\n",
       "      <td>1.01500</td>\n",
       "      <td>3.949</td>\n",
       "      <td>7.840</td>\n",
       "      <td>12.946429</td>\n",
       "      <td>low</td>\n",
       "      <td>0.0001</td>\n",
       "      <td>0.000100</td>\n",
       "    </tr>\n",
       "    <tr>\n",
       "      <th>196</th>\n",
       "      <td>3835</td>\n",
       "      <td>1095</td>\n",
       "      <td>1</td>\n",
       "      <td>0.07338</td>\n",
       "      <td>0.02198</td>\n",
       "      <td>3.775</td>\n",
       "      <td>7.338</td>\n",
       "      <td>0.299537</td>\n",
       "      <td>low</td>\n",
       "      <td>0.0001</td>\n",
       "      <td>0.000100</td>\n",
       "    </tr>\n",
       "    <tr>\n",
       "      <th>197</th>\n",
       "      <td>2365</td>\n",
       "      <td>355</td>\n",
       "      <td>1</td>\n",
       "      <td>0.06726</td>\n",
       "      <td>0.15170</td>\n",
       "      <td>3.833</td>\n",
       "      <td>6.726</td>\n",
       "      <td>2.255427</td>\n",
       "      <td>low</td>\n",
       "      <td>0.0001</td>\n",
       "      <td>0.000100</td>\n",
       "    </tr>\n",
       "    <tr>\n",
       "      <th>198</th>\n",
       "      <td>3795</td>\n",
       "      <td>535</td>\n",
       "      <td>1</td>\n",
       "      <td>0.06092</td>\n",
       "      <td>0.01582</td>\n",
       "      <td>3.907</td>\n",
       "      <td>6.092</td>\n",
       "      <td>0.259685</td>\n",
       "      <td>low</td>\n",
       "      <td>0.0001</td>\n",
       "      <td>0.000100</td>\n",
       "    </tr>\n",
       "    <tr>\n",
       "      <th>199</th>\n",
       "      <td>3745</td>\n",
       "      <td>115</td>\n",
       "      <td>1</td>\n",
       "      <td>0.05000</td>\n",
       "      <td>0.01653</td>\n",
       "      <td>3.527</td>\n",
       "      <td>5.000</td>\n",
       "      <td>0.330600</td>\n",
       "      <td>low</td>\n",
       "      <td>0.0001</td>\n",
       "      <td>0.000100</td>\n",
       "    </tr>\n",
       "  </tbody>\n",
       "</table>\n",
       "<p>200 rows × 11 columns</p>\n",
       "</div>"
      ],
      "text/plain": [
       "        X     Y  facies  porosity       perm     ai  % porosity  \\\n",
       "0    3505  1525       2   0.22320  174.65400  3.344      22.320   \n",
       "1    2665  3205       2   0.21590  273.98000  2.551      21.590   \n",
       "2    2455  2885       2   0.21580    9.59200  2.773      21.580   \n",
       "3    1975  2745       2   0.21580  361.70400  3.839      21.580   \n",
       "4    1855  3025       2   0.21540  463.64100  3.091      21.540   \n",
       "..    ...   ...     ...       ...        ...    ...         ...   \n",
       "195  1745   255       2   0.07840    1.01500  3.949       7.840   \n",
       "196  3835  1095       1   0.07338    0.02198  3.775       7.338   \n",
       "197  2365   355       1   0.06726    0.15170  3.833       6.726   \n",
       "198  3795   535       1   0.06092    0.01582  3.907       6.092   \n",
       "199  3745   115       1   0.05000    0.01653  3.527       5.000   \n",
       "\n",
       "     perm-por ratio porosity type  perm cutoff  kozeny carmen  \n",
       "0        782.500000          high     174.6540       0.184274  \n",
       "1       1269.013432          high     273.9800       0.163687  \n",
       "2         44.448563          high       9.5920       0.163418  \n",
       "3       1676.107507          high     361.7040       0.163418  \n",
       "4       2152.465181          high     463.6410       0.162346  \n",
       "..              ...           ...          ...            ...  \n",
       "195       12.946429           low       0.0001       0.000100  \n",
       "196        0.299537           low       0.0001       0.000100  \n",
       "197        2.255427           low       0.0001       0.000100  \n",
       "198        0.259685           low       0.0001       0.000100  \n",
       "199        0.330600           low       0.0001       0.000100  \n",
       "\n",
       "[200 rows x 11 columns]"
      ]
     },
     "execution_count": 23,
     "metadata": {},
     "output_type": "execute_result"
    }
   ],
   "source": [
    "df['kozeny carmen'] = df['porosity'].apply(kozeny_carmen_with_threshold, m=10)\n",
    "df"
   ]
  },
  {
   "cell_type": "markdown",
   "metadata": {
    "slideshow": {
     "slide_type": "subslide"
    }
   },
   "source": [
    "### Missing Features"
   ]
  },
  {
   "cell_type": "markdown",
   "metadata": {
    "slideshow": {
     "slide_type": "skip"
    }
   },
   "source": [
    "It's very common in data analysis to have missing and/or invalid values in our our DataFrames.  Pandas offers several built in methods to identify and deal with missing Data.  "
   ]
  },
  {
   "cell_type": "markdown",
   "metadata": {},
   "source": [
    "First, let's create a missing data point in the `'porosity'` column of `df`."
   ]
  },
  {
   "cell_type": "markdown",
   "metadata": {
    "slideshow": {
     "slide_type": "skip"
    },
    "tags": [
     "popout"
    ]
   },
   "source": [
    "The [`at`](https://pandas.pydata.org/pandas-docs/stable/reference/api/pandas.DataFrame.at.html#pandas.DataFrame.at) member function allows for fast selection of a single row/label position within a Series/DataFrame."
   ]
  },
  {
   "cell_type": "code",
   "execution_count": 24,
   "metadata": {},
   "outputs": [
    {
     "data": {
      "text/html": [
       "<div>\n",
       "<style scoped>\n",
       "    .dataframe tbody tr th:only-of-type {\n",
       "        vertical-align: middle;\n",
       "    }\n",
       "\n",
       "    .dataframe tbody tr th {\n",
       "        vertical-align: top;\n",
       "    }\n",
       "\n",
       "    .dataframe thead th {\n",
       "        text-align: right;\n",
       "    }\n",
       "</style>\n",
       "<table border=\"1\" class=\"dataframe\">\n",
       "  <thead>\n",
       "    <tr style=\"text-align: right;\">\n",
       "      <th></th>\n",
       "      <th>X</th>\n",
       "      <th>Y</th>\n",
       "      <th>facies</th>\n",
       "      <th>porosity</th>\n",
       "      <th>perm</th>\n",
       "      <th>ai</th>\n",
       "      <th>% porosity</th>\n",
       "      <th>perm-por ratio</th>\n",
       "      <th>porosity type</th>\n",
       "      <th>perm cutoff</th>\n",
       "      <th>kozeny carmen</th>\n",
       "    </tr>\n",
       "  </thead>\n",
       "  <tbody>\n",
       "    <tr>\n",
       "      <th>0</th>\n",
       "      <td>3505</td>\n",
       "      <td>1525</td>\n",
       "      <td>2</td>\n",
       "      <td>0.2232</td>\n",
       "      <td>174.654</td>\n",
       "      <td>3.344</td>\n",
       "      <td>22.32</td>\n",
       "      <td>782.500000</td>\n",
       "      <td>high</td>\n",
       "      <td>174.654</td>\n",
       "      <td>0.184274</td>\n",
       "    </tr>\n",
       "    <tr>\n",
       "      <th>1</th>\n",
       "      <td>2665</td>\n",
       "      <td>3205</td>\n",
       "      <td>2</td>\n",
       "      <td>NaN</td>\n",
       "      <td>273.980</td>\n",
       "      <td>2.551</td>\n",
       "      <td>21.59</td>\n",
       "      <td>1269.013432</td>\n",
       "      <td>high</td>\n",
       "      <td>273.980</td>\n",
       "      <td>0.163687</td>\n",
       "    </tr>\n",
       "    <tr>\n",
       "      <th>2</th>\n",
       "      <td>2455</td>\n",
       "      <td>2885</td>\n",
       "      <td>2</td>\n",
       "      <td>0.2158</td>\n",
       "      <td>9.592</td>\n",
       "      <td>2.773</td>\n",
       "      <td>21.58</td>\n",
       "      <td>44.448563</td>\n",
       "      <td>high</td>\n",
       "      <td>9.592</td>\n",
       "      <td>0.163418</td>\n",
       "    </tr>\n",
       "  </tbody>\n",
       "</table>\n",
       "</div>"
      ],
      "text/plain": [
       "      X     Y  facies  porosity     perm     ai  % porosity  perm-por ratio  \\\n",
       "0  3505  1525       2    0.2232  174.654  3.344       22.32      782.500000   \n",
       "1  2665  3205       2       NaN  273.980  2.551       21.59     1269.013432   \n",
       "2  2455  2885       2    0.2158    9.592  2.773       21.58       44.448563   \n",
       "\n",
       "  porosity type  perm cutoff  kozeny carmen  \n",
       "0          high      174.654       0.184274  \n",
       "1          high      273.980       0.163687  \n",
       "2          high        9.592       0.163418  "
      ]
     },
     "execution_count": 24,
     "metadata": {},
     "output_type": "execute_result"
    }
   ],
   "source": [
    "df.at[1, 'porosity'] = None\n",
    "df.head(n = 3)"
   ]
  },
  {
   "cell_type": "markdown",
   "metadata": {},
   "source": [
    "The [`isnull`](https://pandas.pydata.org/pandas-docs/stable/reference/api/pandas.isnull.html) member function returns a boolean array that identifies rows with missing values."
   ]
  },
  {
   "cell_type": "code",
   "execution_count": 25,
   "metadata": {},
   "outputs": [
    {
     "data": {
      "text/html": [
       "<div>\n",
       "<style scoped>\n",
       "    .dataframe tbody tr th:only-of-type {\n",
       "        vertical-align: middle;\n",
       "    }\n",
       "\n",
       "    .dataframe tbody tr th {\n",
       "        vertical-align: top;\n",
       "    }\n",
       "\n",
       "    .dataframe thead th {\n",
       "        text-align: right;\n",
       "    }\n",
       "</style>\n",
       "<table border=\"1\" class=\"dataframe\">\n",
       "  <thead>\n",
       "    <tr style=\"text-align: right;\">\n",
       "      <th></th>\n",
       "      <th>X</th>\n",
       "      <th>Y</th>\n",
       "      <th>facies</th>\n",
       "      <th>porosity</th>\n",
       "      <th>perm</th>\n",
       "      <th>ai</th>\n",
       "      <th>% porosity</th>\n",
       "      <th>perm-por ratio</th>\n",
       "      <th>porosity type</th>\n",
       "      <th>perm cutoff</th>\n",
       "      <th>kozeny carmen</th>\n",
       "    </tr>\n",
       "  </thead>\n",
       "  <tbody>\n",
       "    <tr>\n",
       "      <th>1</th>\n",
       "      <td>2665</td>\n",
       "      <td>3205</td>\n",
       "      <td>2</td>\n",
       "      <td>NaN</td>\n",
       "      <td>273.98</td>\n",
       "      <td>2.551</td>\n",
       "      <td>21.59</td>\n",
       "      <td>1269.013432</td>\n",
       "      <td>high</td>\n",
       "      <td>273.98</td>\n",
       "      <td>0.163687</td>\n",
       "    </tr>\n",
       "  </tbody>\n",
       "</table>\n",
       "</div>"
      ],
      "text/plain": [
       "      X     Y  facies  porosity    perm     ai  % porosity  perm-por ratio  \\\n",
       "1  2665  3205       2       NaN  273.98  2.551       21.59     1269.013432   \n",
       "\n",
       "  porosity type  perm cutoff  kozeny carmen  \n",
       "1          high       273.98       0.163687  "
      ]
     },
     "execution_count": 25,
     "metadata": {},
     "output_type": "execute_result"
    }
   ],
   "source": [
    "df[df['porosity'].isnull()]"
   ]
  },
  {
   "cell_type": "markdown",
   "metadata": {
    "slideshow": {
     "slide_type": "subslide"
    }
   },
   "source": [
    "### Dropping missing rows"
   ]
  },
  {
   "cell_type": "markdown",
   "metadata": {},
   "source": [
    "The [`dropna`](https://pandas.pydata.org/pandas-docs/stable/reference/api/pandas.DataFrame.dropna.html) member function allows us to remove missing rows from the DataFrame."
   ]
  },
  {
   "cell_type": "code",
   "execution_count": 26,
   "metadata": {},
   "outputs": [
    {
     "data": {
      "text/html": [
       "<div>\n",
       "<style scoped>\n",
       "    .dataframe tbody tr th:only-of-type {\n",
       "        vertical-align: middle;\n",
       "    }\n",
       "\n",
       "    .dataframe tbody tr th {\n",
       "        vertical-align: top;\n",
       "    }\n",
       "\n",
       "    .dataframe thead th {\n",
       "        text-align: right;\n",
       "    }\n",
       "</style>\n",
       "<table border=\"1\" class=\"dataframe\">\n",
       "  <thead>\n",
       "    <tr style=\"text-align: right;\">\n",
       "      <th></th>\n",
       "      <th>X</th>\n",
       "      <th>Y</th>\n",
       "      <th>facies</th>\n",
       "      <th>porosity</th>\n",
       "      <th>perm</th>\n",
       "      <th>ai</th>\n",
       "      <th>% porosity</th>\n",
       "      <th>perm-por ratio</th>\n",
       "      <th>porosity type</th>\n",
       "      <th>perm cutoff</th>\n",
       "      <th>kozeny carmen</th>\n",
       "    </tr>\n",
       "  </thead>\n",
       "  <tbody>\n",
       "    <tr>\n",
       "      <th>0</th>\n",
       "      <td>3505</td>\n",
       "      <td>1525</td>\n",
       "      <td>2</td>\n",
       "      <td>0.2232</td>\n",
       "      <td>174.654</td>\n",
       "      <td>3.344</td>\n",
       "      <td>22.32</td>\n",
       "      <td>782.500000</td>\n",
       "      <td>high</td>\n",
       "      <td>174.654</td>\n",
       "      <td>0.184274</td>\n",
       "    </tr>\n",
       "    <tr>\n",
       "      <th>2</th>\n",
       "      <td>2455</td>\n",
       "      <td>2885</td>\n",
       "      <td>2</td>\n",
       "      <td>0.2158</td>\n",
       "      <td>9.592</td>\n",
       "      <td>2.773</td>\n",
       "      <td>21.58</td>\n",
       "      <td>44.448563</td>\n",
       "      <td>high</td>\n",
       "      <td>9.592</td>\n",
       "      <td>0.163418</td>\n",
       "    </tr>\n",
       "    <tr>\n",
       "      <th>3</th>\n",
       "      <td>1975</td>\n",
       "      <td>2745</td>\n",
       "      <td>2</td>\n",
       "      <td>0.2158</td>\n",
       "      <td>361.704</td>\n",
       "      <td>3.839</td>\n",
       "      <td>21.58</td>\n",
       "      <td>1676.107507</td>\n",
       "      <td>high</td>\n",
       "      <td>361.704</td>\n",
       "      <td>0.163418</td>\n",
       "    </tr>\n",
       "  </tbody>\n",
       "</table>\n",
       "</div>"
      ],
      "text/plain": [
       "      X     Y  facies  porosity     perm     ai  % porosity  perm-por ratio  \\\n",
       "0  3505  1525       2    0.2232  174.654  3.344       22.32      782.500000   \n",
       "2  2455  2885       2    0.2158    9.592  2.773       21.58       44.448563   \n",
       "3  1975  2745       2    0.2158  361.704  3.839       21.58     1676.107507   \n",
       "\n",
       "  porosity type  perm cutoff  kozeny carmen  \n",
       "0          high      174.654       0.184274  \n",
       "2          high        9.592       0.163418  \n",
       "3          high      361.704       0.163418  "
      ]
     },
     "execution_count": 26,
     "metadata": {},
     "output_type": "execute_result"
    }
   ],
   "source": [
    "df.dropna(inplace=True)\n",
    "df.head(n = 3)"
   ]
  },
  {
   "cell_type": "markdown",
   "metadata": {
    "slideshow": {
     "scrolling": true,
     "slide_type": "slide"
    }
   },
   "source": [
    "## Creating New DataFrames"
   ]
  },
  {
   "cell_type": "markdown",
   "metadata": {
    "slideshow": {
     "slide_type": "skip"
    }
   },
   "source": [
    "Up to now, we've utilized a DataFrame that was created by reading in the data from a CSV file.  We can also create DataFrames from scratch.  First we'll create a couple of NumPy arrays with representative data for demonstration."
   ]
  },
  {
   "cell_type": "code",
   "execution_count": 27,
   "metadata": {},
   "outputs": [],
   "source": [
    "porosity = np.random.random_sample(100) * 0.2\n",
    "permeability = 10 * porosity ** 3 / (1 - porosity) ** 2 "
   ]
  },
  {
   "cell_type": "markdown",
   "metadata": {},
   "source": [
    "Create a Python dictionary where the keywords are the desired DataFrame labels and the values are the associated data."
   ]
  },
  {
   "cell_type": "code",
   "execution_count": 28,
   "metadata": {},
   "outputs": [],
   "source": [
    "df_dict = {'porosity': porosity, 'permeability': permeability}"
   ]
  },
  {
   "cell_type": "markdown",
   "metadata": {},
   "source": [
    "Pass the dictionary as an argument to `pd.Dataframe` to create the DataFrame"
   ]
  },
  {
   "cell_type": "code",
   "execution_count": 29,
   "metadata": {},
   "outputs": [
    {
     "data": {
      "text/html": [
       "<div>\n",
       "<style scoped>\n",
       "    .dataframe tbody tr th:only-of-type {\n",
       "        vertical-align: middle;\n",
       "    }\n",
       "\n",
       "    .dataframe tbody tr th {\n",
       "        vertical-align: top;\n",
       "    }\n",
       "\n",
       "    .dataframe thead th {\n",
       "        text-align: right;\n",
       "    }\n",
       "</style>\n",
       "<table border=\"1\" class=\"dataframe\">\n",
       "  <thead>\n",
       "    <tr style=\"text-align: right;\">\n",
       "      <th></th>\n",
       "      <th>porosity</th>\n",
       "      <th>permeability</th>\n",
       "    </tr>\n",
       "  </thead>\n",
       "  <tbody>\n",
       "    <tr>\n",
       "      <th>0</th>\n",
       "      <td>0.001229</td>\n",
       "      <td>1.861892e-08</td>\n",
       "    </tr>\n",
       "    <tr>\n",
       "      <th>1</th>\n",
       "      <td>0.003123</td>\n",
       "      <td>3.063777e-07</td>\n",
       "    </tr>\n",
       "    <tr>\n",
       "      <th>2</th>\n",
       "      <td>0.004042</td>\n",
       "      <td>6.657801e-07</td>\n",
       "    </tr>\n",
       "    <tr>\n",
       "      <th>3</th>\n",
       "      <td>0.006254</td>\n",
       "      <td>2.477464e-06</td>\n",
       "    </tr>\n",
       "    <tr>\n",
       "      <th>4</th>\n",
       "      <td>0.012498</td>\n",
       "      <td>2.001806e-05</td>\n",
       "    </tr>\n",
       "  </tbody>\n",
       "</table>\n",
       "</div>"
      ],
      "text/plain": [
       "   porosity  permeability\n",
       "0  0.001229  1.861892e-08\n",
       "1  0.003123  3.063777e-07\n",
       "2  0.004042  6.657801e-07\n",
       "3  0.006254  2.477464e-06\n",
       "4  0.012498  2.001806e-05"
      ]
     },
     "execution_count": 29,
     "metadata": {},
     "output_type": "execute_result"
    }
   ],
   "source": [
    "df_new = pd.DataFrame(df_dict)\n",
    "df_new.sort_values('porosity', inplace=True, ignore_index=True)\n",
    "df_new.head()"
   ]
  },
  {
   "cell_type": "markdown",
   "metadata": {
    "slideshow": {
     "scrolling": true,
     "slide_type": "subslide"
    }
   },
   "source": [
    "## Merging DataFrames"
   ]
  },
  {
   "cell_type": "markdown",
   "metadata": {},
   "source": [
    "In this example, we'll take a couple subsets from our original DataFrame and create a new one by joining them with the [`concat`](https://pandas.pydata.org/pandas-docs/stable/reference/api/pandas.concat.html) function."
   ]
  },
  {
   "cell_type": "code",
   "execution_count": 30,
   "metadata": {},
   "outputs": [
    {
     "data": {
      "text/html": [
       "<div>\n",
       "<style scoped>\n",
       "    .dataframe tbody tr th:only-of-type {\n",
       "        vertical-align: middle;\n",
       "    }\n",
       "\n",
       "    .dataframe tbody tr th {\n",
       "        vertical-align: top;\n",
       "    }\n",
       "\n",
       "    .dataframe thead th {\n",
       "        text-align: right;\n",
       "    }\n",
       "</style>\n",
       "<table border=\"1\" class=\"dataframe\">\n",
       "  <thead>\n",
       "    <tr style=\"text-align: right;\">\n",
       "      <th></th>\n",
       "      <th>facies</th>\n",
       "      <th>porosity</th>\n",
       "      <th>perm</th>\n",
       "      <th>ai</th>\n",
       "      <th>% porosity</th>\n",
       "      <th>perm-por ratio</th>\n",
       "      <th>porosity type</th>\n",
       "      <th>perm cutoff</th>\n",
       "      <th>kozeny carmen</th>\n",
       "    </tr>\n",
       "  </thead>\n",
       "  <tbody>\n",
       "    <tr>\n",
       "      <th>0</th>\n",
       "      <td>2</td>\n",
       "      <td>0.2232</td>\n",
       "      <td>174.654</td>\n",
       "      <td>3.344</td>\n",
       "      <td>22.32</td>\n",
       "      <td>782.500000</td>\n",
       "      <td>high</td>\n",
       "      <td>174.654</td>\n",
       "      <td>0.184274</td>\n",
       "    </tr>\n",
       "    <tr>\n",
       "      <th>2</th>\n",
       "      <td>2</td>\n",
       "      <td>0.2158</td>\n",
       "      <td>9.592</td>\n",
       "      <td>2.773</td>\n",
       "      <td>21.58</td>\n",
       "      <td>44.448563</td>\n",
       "      <td>high</td>\n",
       "      <td>9.592</td>\n",
       "      <td>0.163418</td>\n",
       "    </tr>\n",
       "    <tr>\n",
       "      <th>3</th>\n",
       "      <td>2</td>\n",
       "      <td>0.2158</td>\n",
       "      <td>361.704</td>\n",
       "      <td>3.839</td>\n",
       "      <td>21.58</td>\n",
       "      <td>1676.107507</td>\n",
       "      <td>high</td>\n",
       "      <td>361.704</td>\n",
       "      <td>0.163418</td>\n",
       "    </tr>\n",
       "  </tbody>\n",
       "</table>\n",
       "</div>"
      ],
      "text/plain": [
       "   facies  porosity     perm     ai  % porosity  perm-por ratio porosity type  \\\n",
       "0       2    0.2232  174.654  3.344       22.32      782.500000          high   \n",
       "2       2    0.2158    9.592  2.773       21.58       44.448563          high   \n",
       "3       2    0.2158  361.704  3.839       21.58     1676.107507          high   \n",
       "\n",
       "   perm cutoff  kozeny carmen  \n",
       "0      174.654       0.184274  \n",
       "2        9.592       0.163418  \n",
       "3      361.704       0.163418  "
      ]
     },
     "execution_count": 30,
     "metadata": {},
     "output_type": "execute_result"
    }
   ],
   "source": [
    "df1 = df.iloc[0:3,2:]; df1"
   ]
  },
  {
   "cell_type": "code",
   "execution_count": 31,
   "metadata": {},
   "outputs": [
    {
     "data": {
      "text/html": [
       "<div>\n",
       "<style scoped>\n",
       "    .dataframe tbody tr th:only-of-type {\n",
       "        vertical-align: middle;\n",
       "    }\n",
       "\n",
       "    .dataframe tbody tr th {\n",
       "        vertical-align: top;\n",
       "    }\n",
       "\n",
       "    .dataframe thead th {\n",
       "        text-align: right;\n",
       "    }\n",
       "</style>\n",
       "<table border=\"1\" class=\"dataframe\">\n",
       "  <thead>\n",
       "    <tr style=\"text-align: right;\">\n",
       "      <th></th>\n",
       "      <th>facies</th>\n",
       "      <th>porosity</th>\n",
       "      <th>perm</th>\n",
       "      <th>ai</th>\n",
       "      <th>% porosity</th>\n",
       "      <th>perm-por ratio</th>\n",
       "      <th>porosity type</th>\n",
       "      <th>perm cutoff</th>\n",
       "      <th>kozeny carmen</th>\n",
       "    </tr>\n",
       "  </thead>\n",
       "  <tbody>\n",
       "    <tr>\n",
       "      <th>11</th>\n",
       "      <td>2</td>\n",
       "      <td>0.1974</td>\n",
       "      <td>159.567</td>\n",
       "      <td>3.167</td>\n",
       "      <td>19.74</td>\n",
       "      <td>808.343465</td>\n",
       "      <td>high</td>\n",
       "      <td>159.567</td>\n",
       "      <td>0.119411</td>\n",
       "    </tr>\n",
       "    <tr>\n",
       "      <th>12</th>\n",
       "      <td>2</td>\n",
       "      <td>0.1973</td>\n",
       "      <td>114.044</td>\n",
       "      <td>2.750</td>\n",
       "      <td>19.73</td>\n",
       "      <td>578.023315</td>\n",
       "      <td>high</td>\n",
       "      <td>114.044</td>\n",
       "      <td>0.119200</td>\n",
       "    </tr>\n",
       "    <tr>\n",
       "      <th>13</th>\n",
       "      <td>2</td>\n",
       "      <td>0.1965</td>\n",
       "      <td>199.952</td>\n",
       "      <td>2.747</td>\n",
       "      <td>19.65</td>\n",
       "      <td>1017.567430</td>\n",
       "      <td>high</td>\n",
       "      <td>199.952</td>\n",
       "      <td>0.117521</td>\n",
       "    </tr>\n",
       "  </tbody>\n",
       "</table>\n",
       "</div>"
      ],
      "text/plain": [
       "    facies  porosity     perm     ai  % porosity  perm-por ratio  \\\n",
       "11       2    0.1974  159.567  3.167       19.74      808.343465   \n",
       "12       2    0.1973  114.044  2.750       19.73      578.023315   \n",
       "13       2    0.1965  199.952  2.747       19.65     1017.567430   \n",
       "\n",
       "   porosity type  perm cutoff  kozeny carmen  \n",
       "11          high      159.567       0.119411  \n",
       "12          high      114.044       0.119200  \n",
       "13          high      199.952       0.117521  "
      ]
     },
     "execution_count": 31,
     "metadata": {},
     "output_type": "execute_result"
    }
   ],
   "source": [
    "df2 = df.iloc[10:13,2:]; df2"
   ]
  },
  {
   "cell_type": "markdown",
   "metadata": {
    "slideshow": {
     "slide_type": "skip"
    },
    "tags": [
     "popout"
    ]
   },
   "source": [
    "We could have reindexed with the `ingnore_index = True` keyword argument."
   ]
  },
  {
   "cell_type": "code",
   "execution_count": 32,
   "metadata": {},
   "outputs": [
    {
     "data": {
      "text/html": [
       "<div>\n",
       "<style scoped>\n",
       "    .dataframe tbody tr th:only-of-type {\n",
       "        vertical-align: middle;\n",
       "    }\n",
       "\n",
       "    .dataframe tbody tr th {\n",
       "        vertical-align: top;\n",
       "    }\n",
       "\n",
       "    .dataframe thead th {\n",
       "        text-align: right;\n",
       "    }\n",
       "</style>\n",
       "<table border=\"1\" class=\"dataframe\">\n",
       "  <thead>\n",
       "    <tr style=\"text-align: right;\">\n",
       "      <th></th>\n",
       "      <th>facies</th>\n",
       "      <th>porosity</th>\n",
       "      <th>perm</th>\n",
       "      <th>ai</th>\n",
       "      <th>% porosity</th>\n",
       "      <th>perm-por ratio</th>\n",
       "      <th>porosity type</th>\n",
       "      <th>perm cutoff</th>\n",
       "      <th>kozeny carmen</th>\n",
       "    </tr>\n",
       "  </thead>\n",
       "  <tbody>\n",
       "    <tr>\n",
       "      <th>0</th>\n",
       "      <td>2</td>\n",
       "      <td>0.2232</td>\n",
       "      <td>174.654</td>\n",
       "      <td>3.344</td>\n",
       "      <td>22.32</td>\n",
       "      <td>782.500000</td>\n",
       "      <td>high</td>\n",
       "      <td>174.654</td>\n",
       "      <td>0.184274</td>\n",
       "    </tr>\n",
       "    <tr>\n",
       "      <th>2</th>\n",
       "      <td>2</td>\n",
       "      <td>0.2158</td>\n",
       "      <td>9.592</td>\n",
       "      <td>2.773</td>\n",
       "      <td>21.58</td>\n",
       "      <td>44.448563</td>\n",
       "      <td>high</td>\n",
       "      <td>9.592</td>\n",
       "      <td>0.163418</td>\n",
       "    </tr>\n",
       "    <tr>\n",
       "      <th>3</th>\n",
       "      <td>2</td>\n",
       "      <td>0.2158</td>\n",
       "      <td>361.704</td>\n",
       "      <td>3.839</td>\n",
       "      <td>21.58</td>\n",
       "      <td>1676.107507</td>\n",
       "      <td>high</td>\n",
       "      <td>361.704</td>\n",
       "      <td>0.163418</td>\n",
       "    </tr>\n",
       "    <tr>\n",
       "      <th>11</th>\n",
       "      <td>2</td>\n",
       "      <td>0.1974</td>\n",
       "      <td>159.567</td>\n",
       "      <td>3.167</td>\n",
       "      <td>19.74</td>\n",
       "      <td>808.343465</td>\n",
       "      <td>high</td>\n",
       "      <td>159.567</td>\n",
       "      <td>0.119411</td>\n",
       "    </tr>\n",
       "    <tr>\n",
       "      <th>12</th>\n",
       "      <td>2</td>\n",
       "      <td>0.1973</td>\n",
       "      <td>114.044</td>\n",
       "      <td>2.750</td>\n",
       "      <td>19.73</td>\n",
       "      <td>578.023315</td>\n",
       "      <td>high</td>\n",
       "      <td>114.044</td>\n",
       "      <td>0.119200</td>\n",
       "    </tr>\n",
       "    <tr>\n",
       "      <th>13</th>\n",
       "      <td>2</td>\n",
       "      <td>0.1965</td>\n",
       "      <td>199.952</td>\n",
       "      <td>2.747</td>\n",
       "      <td>19.65</td>\n",
       "      <td>1017.567430</td>\n",
       "      <td>high</td>\n",
       "      <td>199.952</td>\n",
       "      <td>0.117521</td>\n",
       "    </tr>\n",
       "  </tbody>\n",
       "</table>\n",
       "</div>"
      ],
      "text/plain": [
       "    facies  porosity     perm     ai  % porosity  perm-por ratio  \\\n",
       "0        2    0.2232  174.654  3.344       22.32      782.500000   \n",
       "2        2    0.2158    9.592  2.773       21.58       44.448563   \n",
       "3        2    0.2158  361.704  3.839       21.58     1676.107507   \n",
       "11       2    0.1974  159.567  3.167       19.74      808.343465   \n",
       "12       2    0.1973  114.044  2.750       19.73      578.023315   \n",
       "13       2    0.1965  199.952  2.747       19.65     1017.567430   \n",
       "\n",
       "   porosity type  perm cutoff  kozeny carmen  \n",
       "0           high      174.654       0.184274  \n",
       "2           high        9.592       0.163418  \n",
       "3           high      361.704       0.163418  \n",
       "11          high      159.567       0.119411  \n",
       "12          high      114.044       0.119200  \n",
       "13          high      199.952       0.117521  "
      ]
     },
     "execution_count": 32,
     "metadata": {},
     "output_type": "execute_result"
    }
   ],
   "source": [
    "pd.concat([df1, df2], axis=0)"
   ]
  },
  {
   "cell_type": "markdown",
   "metadata": {
    "slideshow": {
     "slide_type": "slide"
    }
   },
   "source": [
    "## Plotting DataFrames"
   ]
  },
  {
   "cell_type": "markdown",
   "metadata": {
    "slideshow": {
     "slide_type": "skip"
    }
   },
   "source": [
    "Pandas has some built in automatic plotting methods for DataFrames. They are most useful for quick-look plots of relationships between DataFrame columns, but they can be fully customized to make publication quality plots with additional options available in the [Matplotlib](https://matplotlib.org/) plotting library.  The default [`plot`](https://pandas.pydata.org/pandas-docs/stable/reference/api/pandas.DataFrame.plot.html) member function will create a line plot of all DataFrame labels as functions of the index."
   ]
  },
  {
   "cell_type": "code",
   "execution_count": 33,
   "metadata": {},
   "outputs": [
    {
     "data": {
      "image/png": "[encoded data removed]",
      "text/plain": [
       "<Figure size 640x480 with 1 Axes>"
      ]
     },
     "metadata": {},
     "output_type": "display_data"
    }
   ],
   "source": [
    "df_new.plot();"
   ]
  },
  {
   "cell_type": "markdown",
   "metadata": {
    "slideshow": {
     "slide_type": "skip"
    }
   },
   "source": [
    "Of course, this is not that useful a plot.  What we are likely looking for is a relationship between the DataFrame columns.  One way to visualize this is to set the desired abscissa as the DataFrame index and create a plot. "
   ]
  },
  {
   "cell_type": "code",
   "execution_count": 34,
   "metadata": {
    "slideshow": {
     "slide_type": "subslide"
    }
   },
   "outputs": [
    {
     "data": {
      "image/png": "[encoded data removed]",
      "text/plain": [
       "<Figure size 640x480 with 1 Axes>"
      ]
     },
     "metadata": {},
     "output_type": "display_data"
    }
   ],
   "source": [
    "df_new.set_index(['porosity']).plot();"
   ]
  },
  {
   "cell_type": "markdown",
   "metadata": {
    "slideshow": {
     "slide_type": "skip"
    }
   },
   "source": [
    "Or explicitly pass the desired independent variable to the `x` keyword arguments and the dependent variable to the `y` keyword argument.  This time we'll also explicitly create a scatter plot."
   ]
  },
  {
   "cell_type": "markdown",
   "metadata": {
    "slideshow": {
     "slide_type": "skip"
    },
    "tags": [
     "popout"
    ]
   },
   "source": [
    "When the DataFrame columns are explicitly passed as arguments, the axis labels are correctly populated."
   ]
  },
  {
   "cell_type": "code",
   "execution_count": 35,
   "metadata": {
    "slideshow": {
     "slide_type": "subslide"
    }
   },
   "outputs": [
    {
     "data": {
      "image/png": "[encoded data removed]",
      "text/plain": [
       "<Figure size 640x480 with 1 Axes>"
      ]
     },
     "metadata": {},
     "output_type": "display_data"
    }
   ],
   "source": [
    "df_new.plot.scatter(x='porosity', y='permeability');"
   ]
  },
  {
   "cell_type": "markdown",
   "metadata": {
    "slideshow": {
     "slide_type": "slide"
    }
   },
   "source": [
    "## Writing a DataFrame to a File"
   ]
  },
  {
   "cell_type": "markdown",
   "metadata": {
    "slideshow": {
     "slide_type": "skip"
    }
   },
   "source": [
    "The most common way way to store and share DataFrames among different computers is the export the DataFrame to a CSV file.  This is accomplished with the [`to_csv`](https://pandas.pydata.org/pandas-docs/stable/reference/api/pandas.DataFrame.to_csv.html) member function."
   ]
  },
  {
   "cell_type": "code",
   "execution_count": 36,
   "metadata": {},
   "outputs": [],
   "source": [
    "df.to_csv(\"datasets/200wells_out.csv\", index = False)"
   ]
  },
  {
   "cell_type": "markdown",
   "metadata": {},
   "source": [
    "Displaying the raw data is the file with the UNIX `head` command"
   ]
  },
  {
   "cell_type": "code",
   "execution_count": 37,
   "metadata": {},
   "outputs": [
    {
     "name": "stdout",
     "output_type": "stream",
     "text": [
      "X,Y,facies,porosity,perm,ai,% porosity,perm-por ratio,porosity type,perm cutoff,kozeny carmen\r\n",
      "3505,1525,2,0.2232,174.65400000000002,3.344,22.32,782.5000000000001,high,174.65400000000002,0.18427403135841575\r\n",
      "2455,2885,2,0.2158,9.592,2.773,21.58,44.44856348470807,high,9.592,0.16341828373836473\r\n",
      "1975,2745,2,0.2158,361.704,3.839,21.58,1676.1075069508806,high,361.704,0.16341828373836473\r\n",
      "1855,3025,2,0.2154,463.641,3.091,21.54,2152.465181058496,high,463.641,0.1623455875592409\r\n"
     ]
    }
   ],
   "source": [
    "!head -n 5 datasets/200wells_out.csv"
   ]
  },
  {
   "cell_type": "markdown",
   "metadata": {
    "slideshow": {
     "slide_type": "skip"
    }
   },
   "source": [
    "## Further Reading \n",
    "\n",
    "Further reading on Pandas is avialable in the [official Pandas documentation](https://pandas.pydata.org/pandas-docs/stable/index.html)"
   ]
  },
  {
   "cell_type": "code",
   "execution_count": 38,
   "metadata": {
    "hide_input": true,
    "init_cell": true,
    "javascript_last_cell": true,
    "jupyter": {
     "source_hidden": true
    },
    "slideshow": {
     "slide_type": "skip"
    },
    "tags": [
     "remove_cell"
    ]
   },
   "outputs": [
    {
     "data": {
      "application/javascript": [
       "function hideElements(elements, start) {\n",
       "for(var i = 0, length = elements.length; i < length;i++) {\n",
       "    if(i >= start) {\n",
       "        elements[i].style.display = \"none\";\n",
       "    }\n",
       "}\n",
       "}\n",
       "var prompt_elements = document.getElementsByClassName(\"prompt\");\n",
       "hideElements(prompt_elements, 0)\n"
      ],
      "text/plain": [
       "<IPython.core.display.Javascript object>"
      ]
     },
     "metadata": {},
     "output_type": "display_data"
    }
   ],
   "source": [
    "%%javascript\n",
    "function hideElements(elements, start) {\n",
    "for(var i = 0, length = elements.length; i < length;i++) {\n",
    "    if(i >= start) {\n",
    "        elements[i].style.display = \"none\";\n",
    "    }\n",
    "}\n",
    "}\n",
    "var prompt_elements = document.getElementsByClassName(\"prompt\");\n",
    "hideElements(prompt_elements, 0)"
   ]
  }
 ],
 "metadata": {
  "celltoolbar": "Edit Metadata",
  "kernelspec": {
   "display_name": "Python 3 (ipykernel)",
   "language": "python",
   "name": "python3"
  },
  "language_info": {
   "codemirror_mode": {
    "name": "ipython",
    "version": 3
   },
   "file_extension": ".py",
   "mimetype": "text/x-python",
   "name": "python",
   "nbconvert_exporter": "python",
   "pygments_lexer": "ipython3",
   "version": "3.12.8"
  },
  "rise": {
   "auto_select": null,
   "autolaunch": false,
   "controls": true,
   "footer": "",
   "progress": true,
   "scroll": true,
   "slideNumber": false,
   "theme": "simple"
  }
 },
 "nbformat": 4,
 "nbformat_minor": 4
}
