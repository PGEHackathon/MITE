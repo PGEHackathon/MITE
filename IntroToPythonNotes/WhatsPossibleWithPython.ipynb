{
 "cells": [
  {
   "cell_type": "markdown",
   "metadata": {
    "slideshow": {
     "slide_type": "slide"
    }
   },
   "source": [
    "# What's Possible in Python?"
   ]
  },
  {
   "cell_type": "markdown",
   "metadata": {
    "slideshow": {
     "slide_type": "slide"
    }
   },
   "source": [
    "# Python Data Science Ecosystem"
   ]
  },
  {
   "cell_type": "markdown",
   "metadata": {},
   "source": [
    "<img src=\"images/pydata.png\" alt=\"PyData\" width=\"600\">"
   ]
  },
  {
   "cell_type": "markdown",
   "metadata": {
    "slideshow": {
     "slide_type": "slide"
    }
   },
   "source": [
    "# General Programming Tasks\n",
    "\n",
    "<table border=\"1\">\n",
    "  <tr style=\"border: 1px solid black\">\n",
    "    <td style=\"border: 1px solid black\">8</td>\n",
    "    <td style=\"border: 1px solid black\">9</td>\n",
    "    <td style=\"border: 1px solid black\">10</td>\n",
    "    <td style=\"border: 1px solid black\">11</td>\n",
    "  </tr>\n",
    "  <tr style=\"border: 1px solid black\">\n",
    "    <td style=\"border: 1px solid black\">4</td>\n",
    "    <td style=\"border: 1px solid black\">5</td>\n",
    "    <td style=\"border: 1px solid black\">6</td>\n",
    "    <td style=\"border: 1px solid black\">7\n",
    "    </td>\n",
    "  </tr>\n",
    "  <tr style=\"border: 1px solid black\">\n",
    "    <td style=\"border: 1px solid black\">0</td>\n",
    "    <td style=\"border: 1px solid black\">1</td>\n",
    "    <td style=\"border: 1px solid black\">2</td>\n",
    "    <td style=\"border: 1px solid black\">3</td>\n",
    "  </tr>\n",
    "</table>"
   ]
  },
  {
   "cell_type": "code",
   "execution_count": 11,
   "metadata": {
    "slideshow": {
     "slide_type": "-"
    }
   },
   "outputs": [
    {
     "data": {
      "text/plain": [
       "[[2, -1, 0, -1, 0, 0, 0, 0, 0],\n",
       " [-1, 3, -1, 0, -1, 0, 0, 0, 0],\n",
       " [0, -1, 2, 0, 0, -1, 0, 0, 0],\n",
       " [-1, 0, 0, 3, -1, 0, -1, 0, 0],\n",
       " [0, -1, 0, -1, 4, -1, 0, -1, 0],\n",
       " [0, 0, -1, 0, -1, 3, 0, 0, -1],\n",
       " [0, 0, 0, -1, 0, 0, 2, -1, 0],\n",
       " [0, 0, 0, 0, -1, 0, -1, 3, -1],\n",
       " [0, 0, 0, 0, 0, -1, 0, -1, 2]]"
      ]
     },
     "execution_count": 11,
     "metadata": {},
     "output_type": "execute_result"
    }
   ],
   "source": [
    "def pentadiagonal(Nx, Ny):\n",
    "\n",
    "    A = [[0 for i in range(Nx*Ny)] for i in range(Nx*Ny)]\n",
    "\n",
    "    for i in range(Nx*Ny):\n",
    "        \n",
    "        if i+1 > Nx:\n",
    "            A[i][i-Nx] = -1\n",
    "\n",
    "        if i+1 <= Nx*(Ny-1):\n",
    "            A[i][i+Nx] = -1\n",
    "\n",
    "        if (i+1) % Nx != 0:\n",
    "            A[i][i+1] = -1\n",
    "            \n",
    "        if (i+1) % Nx != 1:\n",
    "            A[i][i-1] = -1\n",
    "        \n",
    "        A[i][i] = abs(sum(A[i]))\n",
    "\n",
    "    return A\n",
    "\n",
    "pentadiagonal(3,3)"
   ]
  },
  {
   "cell_type": "markdown",
   "metadata": {
    "hide_input": false,
    "slideshow": {
     "slide_type": "slide"
    }
   },
   "source": [
    "# Excel-like tasks"
   ]
  },
  {
   "cell_type": "code",
   "execution_count": 2,
   "metadata": {
    "hide_input": false,
    "slideshow": {
     "slide_type": "-"
    }
   },
   "outputs": [
    {
     "data": {
      "text/html": [
       "<div>\n",
       "<style scoped>\n",
       "    .dataframe tbody tr th:only-of-type {\n",
       "        vertical-align: middle;\n",
       "    }\n",
       "\n",
       "    .dataframe tbody tr th {\n",
       "        vertical-align: top;\n",
       "    }\n",
       "\n",
       "    .dataframe thead th {\n",
       "        text-align: right;\n",
       "    }\n",
       "</style>\n",
       "<table border=\"1\" class=\"dataframe\">\n",
       "  <thead>\n",
       "    <tr style=\"text-align: right;\">\n",
       "      <th></th>\n",
       "      <th>X</th>\n",
       "      <th>Y</th>\n",
       "      <th>facies_threshold_0.3</th>\n",
       "      <th>porosity</th>\n",
       "      <th>permeability</th>\n",
       "      <th>acoustic_impedance</th>\n",
       "      <th>porosity type</th>\n",
       "    </tr>\n",
       "  </thead>\n",
       "  <tbody>\n",
       "    <tr>\n",
       "      <th>0</th>\n",
       "      <td>565</td>\n",
       "      <td>1485</td>\n",
       "      <td>1</td>\n",
       "      <td>0.1184</td>\n",
       "      <td>6.170</td>\n",
       "      <td>2.009</td>\n",
       "      <td>low</td>\n",
       "    </tr>\n",
       "    <tr>\n",
       "      <th>1</th>\n",
       "      <td>2585</td>\n",
       "      <td>1185</td>\n",
       "      <td>1</td>\n",
       "      <td>0.1566</td>\n",
       "      <td>6.275</td>\n",
       "      <td>2.864</td>\n",
       "      <td>high</td>\n",
       "    </tr>\n",
       "    <tr>\n",
       "      <th>2</th>\n",
       "      <td>2065</td>\n",
       "      <td>2865</td>\n",
       "      <td>2</td>\n",
       "      <td>0.1920</td>\n",
       "      <td>92.297</td>\n",
       "      <td>3.524</td>\n",
       "      <td>high</td>\n",
       "    </tr>\n",
       "    <tr>\n",
       "      <th>3</th>\n",
       "      <td>3575</td>\n",
       "      <td>2655</td>\n",
       "      <td>1</td>\n",
       "      <td>0.1621</td>\n",
       "      <td>9.048</td>\n",
       "      <td>2.157</td>\n",
       "      <td>high</td>\n",
       "    </tr>\n",
       "    <tr>\n",
       "      <th>4</th>\n",
       "      <td>1835</td>\n",
       "      <td>35</td>\n",
       "      <td>1</td>\n",
       "      <td>0.1766</td>\n",
       "      <td>7.123</td>\n",
       "      <td>3.979</td>\n",
       "      <td>high</td>\n",
       "    </tr>\n",
       "  </tbody>\n",
       "</table>\n",
       "</div>"
      ],
      "text/plain": [
       "      X     Y  facies_threshold_0.3  porosity  permeability  \\\n",
       "0   565  1485                     1    0.1184         6.170   \n",
       "1  2585  1185                     1    0.1566         6.275   \n",
       "2  2065  2865                     2    0.1920        92.297   \n",
       "3  3575  2655                     1    0.1621         9.048   \n",
       "4  1835    35                     1    0.1766         7.123   \n",
       "\n",
       "   acoustic_impedance porosity type  \n",
       "0               2.009           low  \n",
       "1               2.864          high  \n",
       "2               3.524          high  \n",
       "3               2.157          high  \n",
       "4               3.979          high  "
      ]
     },
     "execution_count": 2,
     "metadata": {},
     "output_type": "execute_result"
    }
   ],
   "source": [
    "import warnings\n",
    "warnings.filterwarnings(\"ignore\", category=FutureWarning)\n",
    "\n",
    "import pandas as pd\n",
    "import numpy as np\n",
    "from intake import cat\n",
    "\n",
    "df = cat.MV_2D_200wells.read()\n",
    "df['porosity type'] = np.where(df['porosity'] > 0.12, 'high', 'low')\n",
    "df.head()"
   ]
  },
  {
   "cell_type": "markdown",
   "metadata": {
    "slideshow": {
     "slide_type": "fragment"
    }
   },
   "source": [
    "## Create pivot table (median aggregation)"
   ]
  },
  {
   "cell_type": "code",
   "execution_count": 3,
   "metadata": {
    "hide_input": false,
    "slideshow": {
     "slide_type": "-"
    }
   },
   "outputs": [
    {
     "data": {
      "text/html": [
       "<div>\n",
       "<style scoped>\n",
       "    .dataframe tbody tr th:only-of-type {\n",
       "        vertical-align: middle;\n",
       "    }\n",
       "\n",
       "    .dataframe tbody tr th {\n",
       "        vertical-align: top;\n",
       "    }\n",
       "\n",
       "    .dataframe thead th {\n",
       "        text-align: right;\n",
       "    }\n",
       "</style>\n",
       "<table border=\"1\" class=\"dataframe\">\n",
       "  <thead>\n",
       "    <tr style=\"text-align: right;\">\n",
       "      <th>porosity type</th>\n",
       "      <th>high</th>\n",
       "      <th>low</th>\n",
       "    </tr>\n",
       "  </thead>\n",
       "  <tbody>\n",
       "    <tr>\n",
       "      <th>porosity</th>\n",
       "      <td>0.1579</td>\n",
       "      <td>0.1026</td>\n",
       "    </tr>\n",
       "  </tbody>\n",
       "</table>\n",
       "</div>"
      ],
      "text/plain": [
       "porosity type    high     low\n",
       "porosity       0.1579  0.1026"
      ]
     },
     "execution_count": 3,
     "metadata": {},
     "output_type": "execute_result"
    }
   ],
   "source": [
    "pd.pivot_table(df[['porosity', 'porosity type']], columns='porosity type', aggfunc=np.median)"
   ]
  },
  {
   "cell_type": "markdown",
   "metadata": {
    "slideshow": {
     "slide_type": "slide"
    }
   },
   "source": [
    "# Plotting / Curve Fitting"
   ]
  },
  {
   "cell_type": "code",
   "execution_count": 4,
   "metadata": {
    "hide_input": true
   },
   "outputs": [
    {
     "data": {
      "image/png": "[encoded data removed]",
      "text/plain": [
       "<Figure size 640x480 with 1 Axes>"
      ]
     },
     "metadata": {},
     "output_type": "display_data"
    }
   ],
   "source": [
    "import scipy.optimize\n",
    "df = cat.production.production_by_api(api='05123341850000').read()\n",
    "df.set_index(['date'])\n",
    "months = df.index.to_numpy()\n",
    "oil = df['volume_oil_formation_bbls'].interpolate(method='polynomial', order=1).to_numpy()\n",
    "model = lambda t, q_i, D, b: q_i / (1 + b * D * t) ** (1 / b)\n",
    "parameters, _ = scipy.optimize.curve_fit(model, months, oil, bounds=[[0, 0, 0], [np.inf, np.inf, 1]])\n",
    "df = pd.DataFrame({'month': months, 'oil': oil, 'model': model(months, *parameters)}).set_index(['month'])\n",
    "df.plot();"
   ]
  },
  {
   "cell_type": "markdown",
   "metadata": {
    "hide_input": false,
    "slideshow": {
     "slide_type": "slide"
    }
   },
   "source": [
    "# Interactive Dashboards"
   ]
  },
  {
   "cell_type": "code",
   "execution_count": 5,
   "metadata": {
    "hide_input": true,
    "slideshow": {
     "slide_type": "-"
    }
   },
   "outputs": [
    {
     "data": {
      "application/javascript": [
       "(function(root) {\n",
       "  function now() {\n",
       "    return new Date();\n",
       "  }\n",
       "\n",
       "  var force = true;\n",
       "\n",
       "  if (typeof root._bokeh_onload_callbacks === \"undefined\" || force === true) {\n",
       "    root._bokeh_onload_callbacks = [];\n",
       "    root._bokeh_is_loading = undefined;\n",
       "  }\n",
       "\n",
       "  if (typeof (root._bokeh_timeout) === \"undefined\" || force === true) {\n",
       "    root._bokeh_timeout = Date.now() + 5000;\n",
       "    root._bokeh_failed_load = false;\n",
       "  }\n",
       "\n",
       "  function run_callbacks() {\n",
       "    try {\n",
       "      root._bokeh_onload_callbacks.forEach(function(callback) {\n",
       "        if (callback != null)\n",
       "          callback();\n",
       "      });\n",
       "    } finally {\n",
       "      delete root._bokeh_onload_callbacks\n",
       "    }\n",
       "    console.debug(\"Bokeh: all callbacks have finished\");\n",
       "  }\n",
       "\n",
       "  function load_libs(css_urls, js_urls, js_modules, callback) {\n",
       "    if (css_urls == null) css_urls = [];\n",
       "    if (js_urls == null) js_urls = [];\n",
       "    if (js_modules == null) js_modules = [];\n",
       "\n",
       "    root._bokeh_onload_callbacks.push(callback);\n",
       "    if (root._bokeh_is_loading > 0) {\n",
       "      console.debug(\"Bokeh: BokehJS is being loaded, scheduling callback at\", now());\n",
       "      return null;\n",
       "    }\n",
       "    if (js_urls.length === 0 && js_modules.length === 0) {\n",
       "      run_callbacks();\n",
       "      return null;\n",
       "    }\n",
       "    console.debug(\"Bokeh: BokehJS not loaded, scheduling load and callback at\", now());\n",
       "\n",
       "    function on_load() {\n",
       "      root._bokeh_is_loading--;\n",
       "      if (root._bokeh_is_loading === 0) {\n",
       "        console.debug(\"Bokeh: all BokehJS libraries/stylesheets loaded\");\n",
       "        run_callbacks()\n",
       "      }\n",
       "    }\n",
       "\n",
       "    function on_error() {\n",
       "      console.error(\"failed to load \" + url);\n",
       "    }\n",
       "\n",
       "    for (var i = 0; i < css_urls.length; i++) {\n",
       "      var url = css_urls[i];\n",
       "      const element = document.createElement(\"link\");\n",
       "      element.onload = on_load;\n",
       "      element.onerror = on_error;\n",
       "      element.rel = \"stylesheet\";\n",
       "      element.type = \"text/css\";\n",
       "      element.href = url;\n",
       "      console.debug(\"Bokeh: injecting link tag for BokehJS stylesheet: \", url);\n",
       "      document.body.appendChild(element);\n",
       "    }\n",
       "\n",
       "    var skip = [];\n",
       "    if (window.requirejs) {\n",
       "      window.requirejs.config({'packages': {}, 'paths': {'gridstack': 'https://cdn.jsdelivr.net/npm/gridstack@4.2.5/dist/gridstack-h5', 'notyf': 'https://cdn.jsdelivr.net/npm/notyf@3/notyf.min'}, 'shim': {'gridstack': {'exports': 'GridStack'}}});\n",
       "      require([\"gridstack\"], function(GridStack) {\n",
       "\twindow.GridStack = GridStack\n",
       "\ton_load()\n",
       "      })\n",
       "      require([\"notyf\"], function() {\n",
       "\ton_load()\n",
       "      })\n",
       "      root._bokeh_is_loading = css_urls.length + 2;\n",
       "    } else {\n",
       "      root._bokeh_is_loading = css_urls.length + js_urls.length + js_modules.length;\n",
       "    }    if (((window['GridStack'] !== undefined) && (!(window['GridStack'] instanceof HTMLElement))) || window.requirejs) {\n",
       "      var urls = ['https://cdn.holoviz.org/panel/0.14.1/dist/bundled/gridstack/gridstack@4.2.5/dist/gridstack-h5.js'];\n",
       "      for (var i = 0; i < urls.length; i++) {\n",
       "        skip.push(urls[i])\n",
       "      }\n",
       "    }    if (((window['Notyf'] !== undefined) && (!(window['Notyf'] instanceof HTMLElement))) || window.requirejs) {\n",
       "      var urls = ['https://cdn.holoviz.org/panel/0.14.1/dist/bundled/notificationarea/notyf@3/notyf.min.js'];\n",
       "      for (var i = 0; i < urls.length; i++) {\n",
       "        skip.push(urls[i])\n",
       "      }\n",
       "    }    for (var i = 0; i < js_urls.length; i++) {\n",
       "      var url = js_urls[i];\n",
       "      if (skip.indexOf(url) >= 0) {\n",
       "\tif (!window.requirejs) {\n",
       "\t  on_load();\n",
       "\t}\n",
       "\tcontinue;\n",
       "      }\n",
       "      var element = document.createElement('script');\n",
       "      element.onload = on_load;\n",
       "      element.onerror = on_error;\n",
       "      element.async = false;\n",
       "      element.src = url;\n",
       "      console.debug(\"Bokeh: injecting script tag for BokehJS library: \", url);\n",
       "      document.head.appendChild(element);\n",
       "    }\n",
       "    for (var i = 0; i < js_modules.length; i++) {\n",
       "      var url = js_modules[i];\n",
       "      if (skip.indexOf(url) >= 0) {\n",
       "\tif (!window.requirejs) {\n",
       "\t  on_load();\n",
       "\t}\n",
       "\tcontinue;\n",
       "      }\n",
       "      var element = document.createElement('script');\n",
       "      element.onload = on_load;\n",
       "      element.onerror = on_error;\n",
       "      element.async = false;\n",
       "      element.src = url;\n",
       "      element.type = \"module\";\n",
       "      console.debug(\"Bokeh: injecting script tag for BokehJS library: \", url);\n",
       "      document.head.appendChild(element);\n",
       "    }\n",
       "    if (!js_urls.length && !js_modules.length) {\n",
       "      on_load()\n",
       "    }\n",
       "  };\n",
       "\n",
       "  function inject_raw_css(css) {\n",
       "    const element = document.createElement(\"style\");\n",
       "    element.appendChild(document.createTextNode(css));\n",
       "    document.body.appendChild(element);\n",
       "  }\n",
       "\n",
       "  var js_urls = [\"https://cdn.bokeh.org/bokeh/release/bokeh-2.4.3.min.js\", \"https://cdn.bokeh.org/bokeh/release/bokeh-gl-2.4.3.min.js\", \"https://cdn.bokeh.org/bokeh/release/bokeh-widgets-2.4.3.min.js\", \"https://cdn.bokeh.org/bokeh/release/bokeh-tables-2.4.3.min.js\", \"https://cdn.bokeh.org/bokeh/release/bokeh-mathjax-2.4.3.min.js\", \"https://unpkg.com/@holoviz/panel@0.14.1/dist/panel.min.js\"];\n",
       "  var js_modules = [];\n",
       "  var css_urls = [\"https://cdn.holoviz.org/panel/0.14.1/dist/css/card.css\", \"https://cdn.holoviz.org/panel/0.14.1/dist/css/dataframe.css\", \"https://cdn.holoviz.org/panel/0.14.1/dist/css/json.css\", \"https://cdn.holoviz.org/panel/0.14.1/dist/css/markdown.css\", \"https://cdn.holoviz.org/panel/0.14.1/dist/css/loading.css\", \"https://cdn.holoviz.org/panel/0.14.1/dist/css/debugger.css\", \"https://cdn.holoviz.org/panel/0.14.1/dist/css/widgets.css\", \"https://cdn.holoviz.org/panel/0.14.1/dist/css/alerts.css\"];\n",
       "  var inline_js = [    function(Bokeh) {\n",
       "      inject_raw_css(\"\\n    .bk.pn-loading.arc:before {\\n      background-image: url(\\\"data:image/svg+xml;base64,PHN2ZyB4bWxucz0iaHR0cDovL3d3dy53My5vcmcvMjAwMC9zdmciIHN0eWxlPSJtYXJnaW46IGF1dG87IGJhY2tncm91bmQ6IG5vbmU7IGRpc3BsYXk6IGJsb2NrOyBzaGFwZS1yZW5kZXJpbmc6IGF1dG87IiB2aWV3Qm94PSIwIDAgMTAwIDEwMCIgcHJlc2VydmVBc3BlY3RSYXRpbz0ieE1pZFlNaWQiPiAgPGNpcmNsZSBjeD0iNTAiIGN5PSI1MCIgZmlsbD0ibm9uZSIgc3Ryb2tlPSIjYzNjM2MzIiBzdHJva2Utd2lkdGg9IjEwIiByPSIzNSIgc3Ryb2tlLWRhc2hhcnJheT0iMTY0LjkzMzYxNDMxMzQ2NDE1IDU2Ljk3Nzg3MTQzNzgyMTM4Ij4gICAgPGFuaW1hdGVUcmFuc2Zvcm0gYXR0cmlidXRlTmFtZT0idHJhbnNmb3JtIiB0eXBlPSJyb3RhdGUiIHJlcGVhdENvdW50PSJpbmRlZmluaXRlIiBkdXI9IjFzIiB2YWx1ZXM9IjAgNTAgNTA7MzYwIDUwIDUwIiBrZXlUaW1lcz0iMDsxIj48L2FuaW1hdGVUcmFuc2Zvcm0+ICA8L2NpcmNsZT48L3N2Zz4=\\\");\\n      background-size: auto calc(min(50%, 400px));\\n    }\\n    \");\n",
       "    },    function(Bokeh) {\n",
       "      Bokeh.set_log_level(\"info\");\n",
       "    },\n",
       "function(Bokeh) {} // ensure no trailing comma for IE\n",
       "  ];\n",
       "\n",
       "  function run_inline_js() {\n",
       "    if ((root.Bokeh !== undefined) || (force === true)) {\n",
       "      for (var i = 0; i < inline_js.length; i++) {\n",
       "        inline_js[i].call(root, root.Bokeh);\n",
       "      }} else if (Date.now() < root._bokeh_timeout) {\n",
       "      setTimeout(run_inline_js, 100);\n",
       "    } else if (!root._bokeh_failed_load) {\n",
       "      console.log(\"Bokeh: BokehJS failed to load within specified timeout.\");\n",
       "      root._bokeh_failed_load = true;\n",
       "    }\n",
       "  }\n",
       "\n",
       "  if (root._bokeh_is_loading === 0) {\n",
       "    console.debug(\"Bokeh: BokehJS loaded, going straight to plotting\");\n",
       "    run_inline_js();\n",
       "  } else {\n",
       "    load_libs(css_urls, js_urls, js_modules, function() {\n",
       "      console.debug(\"Bokeh: BokehJS plotting callback run at\", now());\n",
       "      run_inline_js();\n",
       "    });\n",
       "  }\n",
       "}(window));"
      ],
      "application/vnd.holoviews_load.v0+json": "(function(root) {\n  function now() {\n    return new Date();\n  }\n\n  var force = true;\n\n  if (typeof root._bokeh_onload_callbacks === \"undefined\" || force === true) {\n    root._bokeh_onload_callbacks = [];\n    root._bokeh_is_loading = undefined;\n  }\n\n  if (typeof (root._bokeh_timeout) === \"undefined\" || force === true) {\n    root._bokeh_timeout = Date.now() + 5000;\n    root._bokeh_failed_load = false;\n  }\n\n  function run_callbacks() {\n    try {\n      root._bokeh_onload_callbacks.forEach(function(callback) {\n        if (callback != null)\n          callback();\n      });\n    } finally {\n      delete root._bokeh_onload_callbacks\n    }\n    console.debug(\"Bokeh: all callbacks have finished\");\n  }\n\n  function load_libs(css_urls, js_urls, js_modules, callback) {\n    if (css_urls == null) css_urls = [];\n    if (js_urls == null) js_urls = [];\n    if (js_modules == null) js_modules = [];\n\n    root._bokeh_onload_callbacks.push(callback);\n    if (root._bokeh_is_loading > 0) {\n      console.debug(\"Bokeh: BokehJS is being loaded, scheduling callback at\", now());\n      return null;\n    }\n    if (js_urls.length === 0 && js_modules.length === 0) {\n      run_callbacks();\n      return null;\n    }\n    console.debug(\"Bokeh: BokehJS not loaded, scheduling load and callback at\", now());\n\n    function on_load() {\n      root._bokeh_is_loading--;\n      if (root._bokeh_is_loading === 0) {\n        console.debug(\"Bokeh: all BokehJS libraries/stylesheets loaded\");\n        run_callbacks()\n      }\n    }\n\n    function on_error() {\n      console.error(\"failed to load \" + url);\n    }\n\n    for (var i = 0; i < css_urls.length; i++) {\n      var url = css_urls[i];\n      const element = document.createElement(\"link\");\n      element.onload = on_load;\n      element.onerror = on_error;\n      element.rel = \"stylesheet\";\n      element.type = \"text/css\";\n      element.href = url;\n      console.debug(\"Bokeh: injecting link tag for BokehJS stylesheet: \", url);\n      document.body.appendChild(element);\n    }\n\n    var skip = [];\n    if (window.requirejs) {\n      window.requirejs.config({'packages': {}, 'paths': {'gridstack': 'https://cdn.jsdelivr.net/npm/gridstack@4.2.5/dist/gridstack-h5', 'notyf': 'https://cdn.jsdelivr.net/npm/notyf@3/notyf.min'}, 'shim': {'gridstack': {'exports': 'GridStack'}}});\n      require([\"gridstack\"], function(GridStack) {\n\twindow.GridStack = GridStack\n\ton_load()\n      })\n      require([\"notyf\"], function() {\n\ton_load()\n      })\n      root._bokeh_is_loading = css_urls.length + 2;\n    } else {\n      root._bokeh_is_loading = css_urls.length + js_urls.length + js_modules.length;\n    }    if (((window['GridStack'] !== undefined) && (!(window['GridStack'] instanceof HTMLElement))) || window.requirejs) {\n      var urls = ['https://cdn.holoviz.org/panel/0.14.1/dist/bundled/gridstack/gridstack@4.2.5/dist/gridstack-h5.js'];\n      for (var i = 0; i < urls.length; i++) {\n        skip.push(urls[i])\n      }\n    }    if (((window['Notyf'] !== undefined) && (!(window['Notyf'] instanceof HTMLElement))) || window.requirejs) {\n      var urls = ['https://cdn.holoviz.org/panel/0.14.1/dist/bundled/notificationarea/notyf@3/notyf.min.js'];\n      for (var i = 0; i < urls.length; i++) {\n        skip.push(urls[i])\n      }\n    }    for (var i = 0; i < js_urls.length; i++) {\n      var url = js_urls[i];\n      if (skip.indexOf(url) >= 0) {\n\tif (!window.requirejs) {\n\t  on_load();\n\t}\n\tcontinue;\n      }\n      var element = document.createElement('script');\n      element.onload = on_load;\n      element.onerror = on_error;\n      element.async = false;\n      element.src = url;\n      console.debug(\"Bokeh: injecting script tag for BokehJS library: \", url);\n      document.head.appendChild(element);\n    }\n    for (var i = 0; i < js_modules.length; i++) {\n      var url = js_modules[i];\n      if (skip.indexOf(url) >= 0) {\n\tif (!window.requirejs) {\n\t  on_load();\n\t}\n\tcontinue;\n      }\n      var element = document.createElement('script');\n      element.onload = on_load;\n      element.onerror = on_error;\n      element.async = false;\n      element.src = url;\n      element.type = \"module\";\n      console.debug(\"Bokeh: injecting script tag for BokehJS library: \", url);\n      document.head.appendChild(element);\n    }\n    if (!js_urls.length && !js_modules.length) {\n      on_load()\n    }\n  };\n\n  function inject_raw_css(css) {\n    const element = document.createElement(\"style\");\n    element.appendChild(document.createTextNode(css));\n    document.body.appendChild(element);\n  }\n\n  var js_urls = [\"https://cdn.bokeh.org/bokeh/release/bokeh-2.4.3.min.js\", \"https://cdn.bokeh.org/bokeh/release/bokeh-gl-2.4.3.min.js\", \"https://cdn.bokeh.org/bokeh/release/bokeh-widgets-2.4.3.min.js\", \"https://cdn.bokeh.org/bokeh/release/bokeh-tables-2.4.3.min.js\", \"https://cdn.bokeh.org/bokeh/release/bokeh-mathjax-2.4.3.min.js\", \"https://unpkg.com/@holoviz/panel@0.14.1/dist/panel.min.js\"];\n  var js_modules = [];\n  var css_urls = [\"https://cdn.holoviz.org/panel/0.14.1/dist/css/card.css\", \"https://cdn.holoviz.org/panel/0.14.1/dist/css/dataframe.css\", \"https://cdn.holoviz.org/panel/0.14.1/dist/css/json.css\", \"https://cdn.holoviz.org/panel/0.14.1/dist/css/markdown.css\", \"https://cdn.holoviz.org/panel/0.14.1/dist/css/loading.css\", \"https://cdn.holoviz.org/panel/0.14.1/dist/css/debugger.css\", \"https://cdn.holoviz.org/panel/0.14.1/dist/css/widgets.css\", \"https://cdn.holoviz.org/panel/0.14.1/dist/css/alerts.css\"];\n  var inline_js = [    function(Bokeh) {\n      inject_raw_css(\"\\n    .bk.pn-loading.arc:before {\\n      background-image: url(\\\"data:image/svg+xml;base64,PHN2ZyB4bWxucz0iaHR0cDovL3d3dy53My5vcmcvMjAwMC9zdmciIHN0eWxlPSJtYXJnaW46IGF1dG87IGJhY2tncm91bmQ6IG5vbmU7IGRpc3BsYXk6IGJsb2NrOyBzaGFwZS1yZW5kZXJpbmc6IGF1dG87IiB2aWV3Qm94PSIwIDAgMTAwIDEwMCIgcHJlc2VydmVBc3BlY3RSYXRpbz0ieE1pZFlNaWQiPiAgPGNpcmNsZSBjeD0iNTAiIGN5PSI1MCIgZmlsbD0ibm9uZSIgc3Ryb2tlPSIjYzNjM2MzIiBzdHJva2Utd2lkdGg9IjEwIiByPSIzNSIgc3Ryb2tlLWRhc2hhcnJheT0iMTY0LjkzMzYxNDMxMzQ2NDE1IDU2Ljk3Nzg3MTQzNzgyMTM4Ij4gICAgPGFuaW1hdGVUcmFuc2Zvcm0gYXR0cmlidXRlTmFtZT0idHJhbnNmb3JtIiB0eXBlPSJyb3RhdGUiIHJlcGVhdENvdW50PSJpbmRlZmluaXRlIiBkdXI9IjFzIiB2YWx1ZXM9IjAgNTAgNTA7MzYwIDUwIDUwIiBrZXlUaW1lcz0iMDsxIj48L2FuaW1hdGVUcmFuc2Zvcm0+ICA8L2NpcmNsZT48L3N2Zz4=\\\");\\n      background-size: auto calc(min(50%, 400px));\\n    }\\n    \");\n    },    function(Bokeh) {\n      Bokeh.set_log_level(\"info\");\n    },\nfunction(Bokeh) {} // ensure no trailing comma for IE\n  ];\n\n  function run_inline_js() {\n    if ((root.Bokeh !== undefined) || (force === true)) {\n      for (var i = 0; i < inline_js.length; i++) {\n        inline_js[i].call(root, root.Bokeh);\n      }} else if (Date.now() < root._bokeh_timeout) {\n      setTimeout(run_inline_js, 100);\n    } else if (!root._bokeh_failed_load) {\n      console.log(\"Bokeh: BokehJS failed to load within specified timeout.\");\n      root._bokeh_failed_load = true;\n    }\n  }\n\n  if (root._bokeh_is_loading === 0) {\n    console.debug(\"Bokeh: BokehJS loaded, going straight to plotting\");\n    run_inline_js();\n  } else {\n    load_libs(css_urls, js_urls, js_modules, function() {\n      console.debug(\"Bokeh: BokehJS plotting callback run at\", now());\n      run_inline_js();\n    });\n  }\n}(window));"
     },
     "metadata": {},
     "output_type": "display_data"
    },
    {
     "data": {
      "application/javascript": [
       "\n",
       "if ((window.PyViz === undefined) || (window.PyViz instanceof HTMLElement)) {\n",
       "  window.PyViz = {comms: {}, comm_status:{}, kernels:{}, receivers: {}, plot_index: []}\n",
       "}\n",
       "\n",
       "\n",
       "    function JupyterCommManager() {\n",
       "    }\n",
       "\n",
       "    JupyterCommManager.prototype.register_target = function(plot_id, comm_id, msg_handler) {\n",
       "      if (window.comm_manager || ((window.Jupyter !== undefined) && (Jupyter.notebook.kernel != null))) {\n",
       "        var comm_manager = window.comm_manager || Jupyter.notebook.kernel.comm_manager;\n",
       "        comm_manager.register_target(comm_id, function(comm) {\n",
       "          comm.on_msg(msg_handler);\n",
       "        });\n",
       "      } else if ((plot_id in window.PyViz.kernels) && (window.PyViz.kernels[plot_id])) {\n",
       "        window.PyViz.kernels[plot_id].registerCommTarget(comm_id, function(comm) {\n",
       "          comm.onMsg = msg_handler;\n",
       "        });\n",
       "      } else if (typeof google != 'undefined' && google.colab.kernel != null) {\n",
       "        google.colab.kernel.comms.registerTarget(comm_id, (comm) => {\n",
       "          var messages = comm.messages[Symbol.asyncIterator]();\n",
       "          function processIteratorResult(result) {\n",
       "            var message = result.value;\n",
       "            console.log(message)\n",
       "            var content = {data: message.data, comm_id};\n",
       "            var buffers = []\n",
       "            for (var buffer of message.buffers || []) {\n",
       "              buffers.push(new DataView(buffer))\n",
       "            }\n",
       "            var metadata = message.metadata || {};\n",
       "            var msg = {content, buffers, metadata}\n",
       "            msg_handler(msg);\n",
       "            return messages.next().then(processIteratorResult);\n",
       "          }\n",
       "          return messages.next().then(processIteratorResult);\n",
       "        })\n",
       "      }\n",
       "    }\n",
       "\n",
       "    JupyterCommManager.prototype.get_client_comm = function(plot_id, comm_id, msg_handler) {\n",
       "      if (comm_id in window.PyViz.comms) {\n",
       "        return window.PyViz.comms[comm_id];\n",
       "      } else if (window.comm_manager || ((window.Jupyter !== undefined) && (Jupyter.notebook.kernel != null))) {\n",
       "        var comm_manager = window.comm_manager || Jupyter.notebook.kernel.comm_manager;\n",
       "        var comm = comm_manager.new_comm(comm_id, {}, {}, {}, comm_id);\n",
       "        if (msg_handler) {\n",
       "          comm.on_msg(msg_handler);\n",
       "        }\n",
       "      } else if ((plot_id in window.PyViz.kernels) && (window.PyViz.kernels[plot_id])) {\n",
       "        var comm = window.PyViz.kernels[plot_id].connectToComm(comm_id);\n",
       "        comm.open();\n",
       "        if (msg_handler) {\n",
       "          comm.onMsg = msg_handler;\n",
       "        }\n",
       "      } else if (typeof google != 'undefined' && google.colab.kernel != null) {\n",
       "        var comm_promise = google.colab.kernel.comms.open(comm_id)\n",
       "        comm_promise.then((comm) => {\n",
       "          window.PyViz.comms[comm_id] = comm;\n",
       "          if (msg_handler) {\n",
       "            var messages = comm.messages[Symbol.asyncIterator]();\n",
       "            function processIteratorResult(result) {\n",
       "              var message = result.value;\n",
       "              var content = {data: message.data};\n",
       "              var metadata = message.metadata || {comm_id};\n",
       "              var msg = {content, metadata}\n",
       "              msg_handler(msg);\n",
       "              return messages.next().then(processIteratorResult);\n",
       "            }\n",
       "            return messages.next().then(processIteratorResult);\n",
       "          }\n",
       "        }) \n",
       "        var sendClosure = (data, metadata, buffers, disposeOnDone) => {\n",
       "          return comm_promise.then((comm) => {\n",
       "            comm.send(data, metadata, buffers, disposeOnDone);\n",
       "          });\n",
       "        };\n",
       "        var comm = {\n",
       "          send: sendClosure\n",
       "        };\n",
       "      }\n",
       "      window.PyViz.comms[comm_id] = comm;\n",
       "      return comm;\n",
       "    }\n",
       "    window.PyViz.comm_manager = new JupyterCommManager();\n",
       "    \n",
       "\n",
       "\n",
       "var JS_MIME_TYPE = 'application/javascript';\n",
       "var HTML_MIME_TYPE = 'text/html';\n",
       "var EXEC_MIME_TYPE = 'application/vnd.holoviews_exec.v0+json';\n",
       "var CLASS_NAME = 'output';\n",
       "\n",
       "/**\n",
       " * Render data to the DOM node\n",
       " */\n",
       "function render(props, node) {\n",
       "  var div = document.createElement(\"div\");\n",
       "  var script = document.createElement(\"script\");\n",
       "  node.appendChild(div);\n",
       "  node.appendChild(script);\n",
       "}\n",
       "\n",
       "/**\n",
       " * Handle when a new output is added\n",
       " */\n",
       "function handle_add_output(event, handle) {\n",
       "  var output_area = handle.output_area;\n",
       "  var output = handle.output;\n",
       "  if ((output.data == undefined) || (!output.data.hasOwnProperty(EXEC_MIME_TYPE))) {\n",
       "    return\n",
       "  }\n",
       "  var id = output.metadata[EXEC_MIME_TYPE][\"id\"];\n",
       "  var toinsert = output_area.element.find(\".\" + CLASS_NAME.split(' ')[0]);\n",
       "  if (id !== undefined) {\n",
       "    var nchildren = toinsert.length;\n",
       "    var html_node = toinsert[nchildren-1].children[0];\n",
       "    html_node.innerHTML = output.data[HTML_MIME_TYPE];\n",
       "    var scripts = [];\n",
       "    var nodelist = html_node.querySelectorAll(\"script\");\n",
       "    for (var i in nodelist) {\n",
       "      if (nodelist.hasOwnProperty(i)) {\n",
       "        scripts.push(nodelist[i])\n",
       "      }\n",
       "    }\n",
       "\n",
       "    scripts.forEach( function (oldScript) {\n",
       "      var newScript = document.createElement(\"script\");\n",
       "      var attrs = [];\n",
       "      var nodemap = oldScript.attributes;\n",
       "      for (var j in nodemap) {\n",
       "        if (nodemap.hasOwnProperty(j)) {\n",
       "          attrs.push(nodemap[j])\n",
       "        }\n",
       "      }\n",
       "      attrs.forEach(function(attr) { newScript.setAttribute(attr.name, attr.value) });\n",
       "      newScript.appendChild(document.createTextNode(oldScript.innerHTML));\n",
       "      oldScript.parentNode.replaceChild(newScript, oldScript);\n",
       "    });\n",
       "    if (JS_MIME_TYPE in output.data) {\n",
       "      toinsert[nchildren-1].children[1].textContent = output.data[JS_MIME_TYPE];\n",
       "    }\n",
       "    output_area._hv_plot_id = id;\n",
       "    if ((window.Bokeh !== undefined) && (id in Bokeh.index)) {\n",
       "      window.PyViz.plot_index[id] = Bokeh.index[id];\n",
       "    } else {\n",
       "      window.PyViz.plot_index[id] = null;\n",
       "    }\n",
       "  } else if (output.metadata[EXEC_MIME_TYPE][\"server_id\"] !== undefined) {\n",
       "    var bk_div = document.createElement(\"div\");\n",
       "    bk_div.innerHTML = output.data[HTML_MIME_TYPE];\n",
       "    var script_attrs = bk_div.children[0].attributes;\n",
       "    for (var i = 0; i < script_attrs.length; i++) {\n",
       "      toinsert[toinsert.length - 1].childNodes[1].setAttribute(script_attrs[i].name, script_attrs[i].value);\n",
       "    }\n",
       "    // store reference to server id on output_area\n",
       "    output_area._bokeh_server_id = output.metadata[EXEC_MIME_TYPE][\"server_id\"];\n",
       "  }\n",
       "}\n",
       "\n",
       "/**\n",
       " * Handle when an output is cleared or removed\n",
       " */\n",
       "function handle_clear_output(event, handle) {\n",
       "  var id = handle.cell.output_area._hv_plot_id;\n",
       "  var server_id = handle.cell.output_area._bokeh_server_id;\n",
       "  if (((id === undefined) || !(id in PyViz.plot_index)) && (server_id !== undefined)) { return; }\n",
       "  var comm = window.PyViz.comm_manager.get_client_comm(\"hv-extension-comm\", \"hv-extension-comm\", function () {});\n",
       "  if (server_id !== null) {\n",
       "    comm.send({event_type: 'server_delete', 'id': server_id});\n",
       "    return;\n",
       "  } else if (comm !== null) {\n",
       "    comm.send({event_type: 'delete', 'id': id});\n",
       "  }\n",
       "  delete PyViz.plot_index[id];\n",
       "  if ((window.Bokeh !== undefined) & (id in window.Bokeh.index)) {\n",
       "    var doc = window.Bokeh.index[id].model.document\n",
       "    doc.clear();\n",
       "    const i = window.Bokeh.documents.indexOf(doc);\n",
       "    if (i > -1) {\n",
       "      window.Bokeh.documents.splice(i, 1);\n",
       "    }\n",
       "  }\n",
       "}\n",
       "\n",
       "/**\n",
       " * Handle kernel restart event\n",
       " */\n",
       "function handle_kernel_cleanup(event, handle) {\n",
       "  delete PyViz.comms[\"hv-extension-comm\"];\n",
       "  window.PyViz.plot_index = {}\n",
       "}\n",
       "\n",
       "/**\n",
       " * Handle update_display_data messages\n",
       " */\n",
       "function handle_update_output(event, handle) {\n",
       "  handle_clear_output(event, {cell: {output_area: handle.output_area}})\n",
       "  handle_add_output(event, handle)\n",
       "}\n",
       "\n",
       "function register_renderer(events, OutputArea) {\n",
       "  function append_mime(data, metadata, element) {\n",
       "    // create a DOM node to render to\n",
       "    var toinsert = this.create_output_subarea(\n",
       "    metadata,\n",
       "    CLASS_NAME,\n",
       "    EXEC_MIME_TYPE\n",
       "    );\n",
       "    this.keyboard_manager.register_events(toinsert);\n",
       "    // Render to node\n",
       "    var props = {data: data, metadata: metadata[EXEC_MIME_TYPE]};\n",
       "    render(props, toinsert[0]);\n",
       "    element.append(toinsert);\n",
       "    return toinsert\n",
       "  }\n",
       "\n",
       "  events.on('output_added.OutputArea', handle_add_output);\n",
       "  events.on('output_updated.OutputArea', handle_update_output);\n",
       "  events.on('clear_output.CodeCell', handle_clear_output);\n",
       "  events.on('delete.Cell', handle_clear_output);\n",
       "  events.on('kernel_ready.Kernel', handle_kernel_cleanup);\n",
       "\n",
       "  OutputArea.prototype.register_mime_type(EXEC_MIME_TYPE, append_mime, {\n",
       "    safe: true,\n",
       "    index: 0\n",
       "  });\n",
       "}\n",
       "\n",
       "if (window.Jupyter !== undefined) {\n",
       "  try {\n",
       "    var events = require('base/js/events');\n",
       "    var OutputArea = require('notebook/js/outputarea').OutputArea;\n",
       "    if (OutputArea.prototype.mime_types().indexOf(EXEC_MIME_TYPE) == -1) {\n",
       "      register_renderer(events, OutputArea);\n",
       "    }\n",
       "  } catch(err) {\n",
       "  }\n",
       "}\n"
      ],
      "application/vnd.holoviews_load.v0+json": "\nif ((window.PyViz === undefined) || (window.PyViz instanceof HTMLElement)) {\n  window.PyViz = {comms: {}, comm_status:{}, kernels:{}, receivers: {}, plot_index: []}\n}\n\n\n    function JupyterCommManager() {\n    }\n\n    JupyterCommManager.prototype.register_target = function(plot_id, comm_id, msg_handler) {\n      if (window.comm_manager || ((window.Jupyter !== undefined) && (Jupyter.notebook.kernel != null))) {\n        var comm_manager = window.comm_manager || Jupyter.notebook.kernel.comm_manager;\n        comm_manager.register_target(comm_id, function(comm) {\n          comm.on_msg(msg_handler);\n        });\n      } else if ((plot_id in window.PyViz.kernels) && (window.PyViz.kernels[plot_id])) {\n        window.PyViz.kernels[plot_id].registerCommTarget(comm_id, function(comm) {\n          comm.onMsg = msg_handler;\n        });\n      } else if (typeof google != 'undefined' && google.colab.kernel != null) {\n        google.colab.kernel.comms.registerTarget(comm_id, (comm) => {\n          var messages = comm.messages[Symbol.asyncIterator]();\n          function processIteratorResult(result) {\n            var message = result.value;\n            console.log(message)\n            var content = {data: message.data, comm_id};\n            var buffers = []\n            for (var buffer of message.buffers || []) {\n              buffers.push(new DataView(buffer))\n            }\n            var metadata = message.metadata || {};\n            var msg = {content, buffers, metadata}\n            msg_handler(msg);\n            return messages.next().then(processIteratorResult);\n          }\n          return messages.next().then(processIteratorResult);\n        })\n      }\n    }\n\n    JupyterCommManager.prototype.get_client_comm = function(plot_id, comm_id, msg_handler) {\n      if (comm_id in window.PyViz.comms) {\n        return window.PyViz.comms[comm_id];\n      } else if (window.comm_manager || ((window.Jupyter !== undefined) && (Jupyter.notebook.kernel != null))) {\n        var comm_manager = window.comm_manager || Jupyter.notebook.kernel.comm_manager;\n        var comm = comm_manager.new_comm(comm_id, {}, {}, {}, comm_id);\n        if (msg_handler) {\n          comm.on_msg(msg_handler);\n        }\n      } else if ((plot_id in window.PyViz.kernels) && (window.PyViz.kernels[plot_id])) {\n        var comm = window.PyViz.kernels[plot_id].connectToComm(comm_id);\n        comm.open();\n        if (msg_handler) {\n          comm.onMsg = msg_handler;\n        }\n      } else if (typeof google != 'undefined' && google.colab.kernel != null) {\n        var comm_promise = google.colab.kernel.comms.open(comm_id)\n        comm_promise.then((comm) => {\n          window.PyViz.comms[comm_id] = comm;\n          if (msg_handler) {\n            var messages = comm.messages[Symbol.asyncIterator]();\n            function processIteratorResult(result) {\n              var message = result.value;\n              var content = {data: message.data};\n              var metadata = message.metadata || {comm_id};\n              var msg = {content, metadata}\n              msg_handler(msg);\n              return messages.next().then(processIteratorResult);\n            }\n            return messages.next().then(processIteratorResult);\n          }\n        }) \n        var sendClosure = (data, metadata, buffers, disposeOnDone) => {\n          return comm_promise.then((comm) => {\n            comm.send(data, metadata, buffers, disposeOnDone);\n          });\n        };\n        var comm = {\n          send: sendClosure\n        };\n      }\n      window.PyViz.comms[comm_id] = comm;\n      return comm;\n    }\n    window.PyViz.comm_manager = new JupyterCommManager();\n    \n\n\nvar JS_MIME_TYPE = 'application/javascript';\nvar HTML_MIME_TYPE = 'text/html';\nvar EXEC_MIME_TYPE = 'application/vnd.holoviews_exec.v0+json';\nvar CLASS_NAME = 'output';\n\n/**\n * Render data to the DOM node\n */\nfunction render(props, node) {\n  var div = document.createElement(\"div\");\n  var script = document.createElement(\"script\");\n  node.appendChild(div);\n  node.appendChild(script);\n}\n\n/**\n * Handle when a new output is added\n */\nfunction handle_add_output(event, handle) {\n  var output_area = handle.output_area;\n  var output = handle.output;\n  if ((output.data == undefined) || (!output.data.hasOwnProperty(EXEC_MIME_TYPE))) {\n    return\n  }\n  var id = output.metadata[EXEC_MIME_TYPE][\"id\"];\n  var toinsert = output_area.element.find(\".\" + CLASS_NAME.split(' ')[0]);\n  if (id !== undefined) {\n    var nchildren = toinsert.length;\n    var html_node = toinsert[nchildren-1].children[0];\n    html_node.innerHTML = output.data[HTML_MIME_TYPE];\n    var scripts = [];\n    var nodelist = html_node.querySelectorAll(\"script\");\n    for (var i in nodelist) {\n      if (nodelist.hasOwnProperty(i)) {\n        scripts.push(nodelist[i])\n      }\n    }\n\n    scripts.forEach( function (oldScript) {\n      var newScript = document.createElement(\"script\");\n      var attrs = [];\n      var nodemap = oldScript.attributes;\n      for (var j in nodemap) {\n        if (nodemap.hasOwnProperty(j)) {\n          attrs.push(nodemap[j])\n        }\n      }\n      attrs.forEach(function(attr) { newScript.setAttribute(attr.name, attr.value) });\n      newScript.appendChild(document.createTextNode(oldScript.innerHTML));\n      oldScript.parentNode.replaceChild(newScript, oldScript);\n    });\n    if (JS_MIME_TYPE in output.data) {\n      toinsert[nchildren-1].children[1].textContent = output.data[JS_MIME_TYPE];\n    }\n    output_area._hv_plot_id = id;\n    if ((window.Bokeh !== undefined) && (id in Bokeh.index)) {\n      window.PyViz.plot_index[id] = Bokeh.index[id];\n    } else {\n      window.PyViz.plot_index[id] = null;\n    }\n  } else if (output.metadata[EXEC_MIME_TYPE][\"server_id\"] !== undefined) {\n    var bk_div = document.createElement(\"div\");\n    bk_div.innerHTML = output.data[HTML_MIME_TYPE];\n    var script_attrs = bk_div.children[0].attributes;\n    for (var i = 0; i < script_attrs.length; i++) {\n      toinsert[toinsert.length - 1].childNodes[1].setAttribute(script_attrs[i].name, script_attrs[i].value);\n    }\n    // store reference to server id on output_area\n    output_area._bokeh_server_id = output.metadata[EXEC_MIME_TYPE][\"server_id\"];\n  }\n}\n\n/**\n * Handle when an output is cleared or removed\n */\nfunction handle_clear_output(event, handle) {\n  var id = handle.cell.output_area._hv_plot_id;\n  var server_id = handle.cell.output_area._bokeh_server_id;\n  if (((id === undefined) || !(id in PyViz.plot_index)) && (server_id !== undefined)) { return; }\n  var comm = window.PyViz.comm_manager.get_client_comm(\"hv-extension-comm\", \"hv-extension-comm\", function () {});\n  if (server_id !== null) {\n    comm.send({event_type: 'server_delete', 'id': server_id});\n    return;\n  } else if (comm !== null) {\n    comm.send({event_type: 'delete', 'id': id});\n  }\n  delete PyViz.plot_index[id];\n  if ((window.Bokeh !== undefined) & (id in window.Bokeh.index)) {\n    var doc = window.Bokeh.index[id].model.document\n    doc.clear();\n    const i = window.Bokeh.documents.indexOf(doc);\n    if (i > -1) {\n      window.Bokeh.documents.splice(i, 1);\n    }\n  }\n}\n\n/**\n * Handle kernel restart event\n */\nfunction handle_kernel_cleanup(event, handle) {\n  delete PyViz.comms[\"hv-extension-comm\"];\n  window.PyViz.plot_index = {}\n}\n\n/**\n * Handle update_display_data messages\n */\nfunction handle_update_output(event, handle) {\n  handle_clear_output(event, {cell: {output_area: handle.output_area}})\n  handle_add_output(event, handle)\n}\n\nfunction register_renderer(events, OutputArea) {\n  function append_mime(data, metadata, element) {\n    // create a DOM node to render to\n    var toinsert = this.create_output_subarea(\n    metadata,\n    CLASS_NAME,\n    EXEC_MIME_TYPE\n    );\n    this.keyboard_manager.register_events(toinsert);\n    // Render to node\n    var props = {data: data, metadata: metadata[EXEC_MIME_TYPE]};\n    render(props, toinsert[0]);\n    element.append(toinsert);\n    return toinsert\n  }\n\n  events.on('output_added.OutputArea', handle_add_output);\n  events.on('output_updated.OutputArea', handle_update_output);\n  events.on('clear_output.CodeCell', handle_clear_output);\n  events.on('delete.Cell', handle_clear_output);\n  events.on('kernel_ready.Kernel', handle_kernel_cleanup);\n\n  OutputArea.prototype.register_mime_type(EXEC_MIME_TYPE, append_mime, {\n    safe: true,\n    index: 0\n  });\n}\n\nif (window.Jupyter !== undefined) {\n  try {\n    var events = require('base/js/events');\n    var OutputArea = require('notebook/js/outputarea').OutputArea;\n    if (OutputArea.prototype.mime_types().indexOf(EXEC_MIME_TYPE) == -1) {\n      register_renderer(events, OutputArea);\n    }\n  } catch(err) {\n  }\n}\n"
     },
     "metadata": {},
     "output_type": "display_data"
    },
    {
     "data": {
      "text/html": [
       "<style>.bk-root, .bk-root .bk:before, .bk-root .bk:after {\n",
       "  font-family: var(--jp-ui-font-size1);\n",
       "  font-size: var(--jp-ui-font-size1);\n",
       "  color: var(--jp-ui-font-color1);\n",
       "}\n",
       "</style>"
      ]
     },
     "metadata": {},
     "output_type": "display_data"
    }
   ],
   "source": [
    "import matplotlib.pyplot as plt\n",
    "from pandas.plotting import register_matplotlib_converters\n",
    "register_matplotlib_converters()\n",
    "import panel\n",
    "import panel.widgets as pnw\n",
    "panel.extension()#comms='ipywidgets')"
   ]
  },
  {
   "cell_type": "code",
   "execution_count": 6,
   "metadata": {
    "hide_input": true
   },
   "outputs": [
    {
     "data": {},
     "metadata": {},
     "output_type": "display_data"
    },
    {
     "data": {
      "application/vnd.holoviews_exec.v0+json": "",
      "text/html": [
       "<div id='1002'>\n",
       "  <div class=\"bk-root\" id=\"5a47e841-3196-4bf2-9789-92924f23b7c5\" data-root-id=\"1002\"></div>\n",
       "</div>\n",
       "<script type=\"application/javascript\">(function(root) {\n",
       "  function embed_document(root) {\n",
       "    var docs_json = {\"dd8d424e-332a-4531-983f-73d7de752cd8\":{\"defs\":[{\"extends\":null,\"module\":null,\"name\":\"ReactiveHTML1\",\"overrides\":[],\"properties\":[]},{\"extends\":null,\"module\":null,\"name\":\"FlexBox1\",\"overrides\":[],\"properties\":[{\"default\":\"flex-start\",\"kind\":null,\"name\":\"align_content\"},{\"default\":\"flex-start\",\"kind\":null,\"name\":\"align_items\"},{\"default\":\"row\",\"kind\":null,\"name\":\"flex_direction\"},{\"default\":\"wrap\",\"kind\":null,\"name\":\"flex_wrap\"},{\"default\":\"flex-start\",\"kind\":null,\"name\":\"justify_content\"}]},{\"extends\":null,\"module\":null,\"name\":\"GridStack1\",\"overrides\":[],\"properties\":[{\"default\":\"warn\",\"kind\":null,\"name\":\"mode\"},{\"default\":null,\"kind\":null,\"name\":\"ncols\"},{\"default\":null,\"kind\":null,\"name\":\"nrows\"},{\"default\":true,\"kind\":null,\"name\":\"allow_resize\"},{\"default\":true,\"kind\":null,\"name\":\"allow_drag\"},{\"default\":[],\"kind\":null,\"name\":\"state\"}]},{\"extends\":null,\"module\":null,\"name\":\"click1\",\"overrides\":[],\"properties\":[{\"default\":\"\",\"kind\":null,\"name\":\"terminal_output\"},{\"default\":\"\",\"kind\":null,\"name\":\"debug_name\"},{\"default\":0,\"kind\":null,\"name\":\"clears\"}]},{\"extends\":null,\"module\":null,\"name\":\"NotificationAreaBase1\",\"overrides\":[],\"properties\":[{\"default\":\"bottom-right\",\"kind\":null,\"name\":\"position\"},{\"default\":0,\"kind\":null,\"name\":\"_clear\"}]},{\"extends\":null,\"module\":null,\"name\":\"NotificationArea1\",\"overrides\":[],\"properties\":[{\"default\":[],\"kind\":null,\"name\":\"notifications\"},{\"default\":\"bottom-right\",\"kind\":null,\"name\":\"position\"},{\"default\":0,\"kind\":null,\"name\":\"_clear\"},{\"default\":[{\"background\":\"#ffc107\",\"icon\":{\"className\":\"fas fa-exclamation-triangle\",\"color\":\"white\",\"tagName\":\"i\"},\"type\":\"warning\"},{\"background\":\"#007bff\",\"icon\":{\"className\":\"fas fa-info-circle\",\"color\":\"white\",\"tagName\":\"i\"},\"type\":\"info\"}],\"kind\":null,\"name\":\"types\"}]},{\"extends\":null,\"module\":null,\"name\":\"Notification\",\"overrides\":[],\"properties\":[{\"default\":null,\"kind\":null,\"name\":\"background\"},{\"default\":3000,\"kind\":null,\"name\":\"duration\"},{\"default\":null,\"kind\":null,\"name\":\"icon\"},{\"default\":\"\",\"kind\":null,\"name\":\"message\"},{\"default\":null,\"kind\":null,\"name\":\"notification_type\"},{\"default\":false,\"kind\":null,\"name\":\"_destroyed\"}]},{\"extends\":null,\"module\":null,\"name\":\"TemplateActions1\",\"overrides\":[],\"properties\":[{\"default\":0,\"kind\":null,\"name\":\"open_modal\"},{\"default\":0,\"kind\":null,\"name\":\"close_modal\"}]},{\"extends\":null,\"module\":null,\"name\":\"MaterialTemplateActions1\",\"overrides\":[],\"properties\":[{\"default\":0,\"kind\":null,\"name\":\"open_modal\"},{\"default\":0,\"kind\":null,\"name\":\"close_modal\"}]}],\"roots\":{\"references\":[{\"attributes\":{\"css_classes\":[\"markdown\"],\"margin\":[5,5,5,5],\"name\":\"Markdown00103\",\"text\":\"&lt;p&gt;&lt;strong&gt;Select API and Reservoir Liquid:&lt;/strong&gt;&lt;/p&gt;\"},\"id\":\"1006\",\"type\":\"panel.models.markup.HTML\"},{\"attributes\":{\"children\":[{\"id\":\"1004\"}],\"margin\":[0,0,0,0],\"name\":\"Row00110\"},\"id\":\"1003\",\"type\":\"Row\"},{\"attributes\":{\"children\":[{\"id\":\"1003\"},{\"id\":\"1005\"}],\"margin\":[0,0,0,0],\"name\":\"Row00113\"},\"id\":\"1002\",\"type\":\"Row\"},{\"attributes\":{\"reload\":false},\"id\":\"1010\",\"type\":\"panel.models.location.Location\"},{\"attributes\":{\"height\":345,\"margin\":[5,5,5,5],\"name\":\"ParamFunction00106\",\"text\":\"&lt;img src=&quot;data:image/png;base64,iVBORw0KGgoAAAANSUhEUgAAAoAAAAHgCAYAAAA10dzkAAAAOXRFWHRTb2Z0d2FyZQBNYXRwbG90bGliIHZlcnNpb24zLjYuMywgaHR0cHM6Ly9tYXRwbG90bGliLm9yZy/P9b71AAAACXBIWXMAAA9hAAAPYQGoP6dpAACLv0lEQVR4nO3deVhU9f4H8PewI8IoIpsruaVippiKZmkqSqmZlZqGmkvX1MytbrZpy82Wn2nptbRcKi295pImoZhb7huY+264gCgiICrr+f3x7cwCMzDDnBlmeb+eZ54ZzhzOnDmg8+bz3VSSJEkgIiIiIpfhVtknQERERES2xQBIRERE5GIYAImIiIhcDAMgERERkYthACQiIiJyMQyARERERC6GAZCIiIjIxTAAEhEREbkYBkAiIiIiF8MASERERORiGACJiIiIXAwDIBEREZGLYQAkIiIicjEMgEREREQuhgGQiIiIyMUwABIRERG5GAZAIiIiIhfDAEhERETkYhgAiYiIiFwMAyARERGRi2EAJCIiInIxDIBERERELoYBkIiIiMjFMAASERERuRgGQCIiIiIXwwBIRERE5GIYAImIiIhcDAMgERERkYthACQiIiJyMQyARERERC6GAZCIiIjIxTAAEhEREbkYBkAiIiIiF8MASERERORiGACJiIiIXAwDIBEREZGLYQAksmNfffUVVCoVIiMjje6jUqn0bmq1Gp07d8aGDRv09qtfvz569epl7VPW8/PPP+Oxxx5DSEgIvL29ER4ejt69e2P37t2l9h05ciQiIyNRrVo1+Pr6onHjxnj99ddx8+bNUvveuXMHEyZMQHh4OHx8fPDwww9j+fLlpfbbuXMnRo4ciaioKHh7e0OlUuHSpUul9svNzcXAgQPRpEkT+Pv7w8/PD82bN8dHH32E3NzcUvunp6dj2LBhCAoKQpUqVRAdHY0//vij1H6//fYbhgwZghYtWsDT0xMqlcqk67Z582bNz9PQ+79w4QL69euHatWqoWrVqujevTsOHz6st09qaireeecdREdHIygoCAEBAYiKisKCBQtQVFRU6pimXlMAOHz4MLp164aqVauiWrVq6NevHy5cuGBw3zlz5uDBBx+Et7c3IiIi8P7776OgoKDUfqZeUyJSiEREdqtly5YSAAmAtHfvXoP7AJCee+45ac+ePdKuXbukH3/8UWrSpImkUqmk3377TbNfvXr1pKeeespWpy5JkiTNmTNHevPNN6VffvlF2rZtm/Tzzz9LjzzyiOTu7i5t27ZNb9+BAwdKX375pbRhwwbpjz/+kD799FMpICBAatasmZSXl6e3b/fu3aVq1apJ33zzjbRlyxZp5MiREgBp2bJlevtNnz5dqlevntS3b1+pc+fOEgDp4sWLpc4zMzNT6t+/v/TNN99IGzdulBITE6V3331X8vT0lLp27aq37/3796XIyEipdu3a0tKlS6VNmzZJTz/9tOTh4VHqPQ0fPlxq1KiR1L9/fykqKkoy5b/cnJwcqX79+lJ4eLgEQLpx44be8+np6VJ4eLjUvHlzadWqVdKGDRukRx99VPL395dOnTql2W/9+vVSnTp1pLffflvasGGDtGnTJmnixImSm5ub9NJLL5V6XVOv6cmTJyV/f3+pU6dO0oYNG6RVq1ZJzZs3l8LDw6X09HS9fT/66CNJpVJJU6dOlbZu3Sp99tlnkpeXlzRq1KgKX1MiUgYDIJGdOnDggARAeuqppyQApT40ZQCksWPH6m07d+6cBEDq1q2bZltlBEBDbt++LXl6ekpxcXHl7jtv3jwJgPTHH39otm3YsEECIP300096+3bv3l0KDw+XCgsLNduKioo0jz///HOjAdCYN954QwIgnT9/XrPtv//9rwRA2r17t2ZbQUGB1KxZM6lt27Z636/7+mPHjjUpAI4dO1Zq1aqV9M477xgMgK+//rrk6ekpXbp0SbMtKytLCgoKkvr376/ZduvWLSk/P9/g8QFIKSkpmm3mXNPnn39eCgoKkrKysjTbLl26JHl6ekpvvPGGZtvNmzclHx8f6eWXX9Y75n/+8x9JpVJJx48f12wz55oSkTLYBExkpxYuXAgA+OSTT9ChQwcsX74cd+/eNel7GzRogJo1a+Lvv/+25ilWiL+/P3x8fODh4VHuvjVr1gQAvX3XrFmDqlWr4vnnn9fb96WXXsK1a9ewb98+zTY3N8v+izP2+k2aNEF0dLRmm4eHB1588UXs378fV69erfDr//nnn1iwYAG+++47uLu7G9xnzZo1eOKJJ1CvXj3NtoCAAPTr1w/r169HYWEhAKB69erw9PQs9f1t27YFAFy5ckXvmKZc08LCQvz222949tlnERAQoNmvXr166NKlC9asWaPZlpCQgPv37+Oll14qdUxJkrB27Vq91zf1mhKRMhgAiezQvXv38PPPP+ORRx5BZGQkhg8fjpycHKxcudKk78/MzERGRoYmwJijuLgYhYWF5d4M9SMzpqioCAUFBbh06RJeeeUVSJKEsWPHGty3sLAQubm52LVrF9599108+uij6Nixo+b5Y8eOoWnTpqUC5EMPPaR5vqIkSUJhYSGys7ORkJCAmTNn4oUXXkDdunX1Xl9+LUOvf/z48Qq99r179zBixAhMmDABrVu3NrrP+fPnjb7+vXv3jPbFk23ZsgUeHh5o3LixZpup1/T8+fO4d++e0dc/d+4c7t+/r/c9LVq00NsvLCwMQUFBej8na11TIjKOAZDIDv3yyy/IysrCiBEjAAADBgxA1apVNVXBkuTgUlBQgFOnTmHw4MEoLi7G4MGDzX7t4cOHw9PTs9xb165dTT5m8+bN4eXlhYiICKxfvx4JCQmIiooqtd/evXvh6emJqlWr4tFHH8UDDzyA+Ph4vWpYRkYGAgMDS32vvC0jI8Ps9yxbsWIFPD09oVarERsbi9jYWPzwww96+1jr9d99910UFRXh/fffN7pPZmYmJEmq8Otv2rQJP/74I1599VXUqFFDs93U9yTfG9tXkiRkZmZq9vX29oafn5/BfXXP05o/UyIyrPw2GCKyuYULF8LX1xcDBw4EAE3z3OLFi3H27Fk0atRIb/958+Zh3rx5mq/VajU++OADjBkzxuzXnj59OsaNG1fufv7+/iYfc9WqVcjNzUVKSgq++eYbxMbGYt26dejcubPefi1atMCBAwdw9+5dJCcn45NPPkH37t2xZcsWVKlSRbNfWaNpTR1pa0iPHj1w4MAB5OTkYM+ePfj000+RkZGBNWvW6DXnKv36+/fvx+zZs5GQkABfX99y96/I6x8+fBj9+/dH+/btMWPGDIuOaeq+1jgmESmDAZDIzpw7dw47duzAs88+C0mScPv2bQDAc889h8WLF2PRokWlPsD79++P119/HSqVCv7+/mjQoIHRPmTlqVu3LmrXrl3ufuZ8KDdv3hyA6H/Wt29ftGrVCq+99hqOHDmit5+fnx/atGkDAHjsscfQrl07tG/fHvPnz8fEiRMBADVq1DBYEbp16xYAw9UpU1WvXl3z+l26dEGDBg0wcOBA/Prrr3jmmWes9vrDhw9Hv3790KZNG83PW25Kzc7Ohre3N/z9/VG9enWoVCqzXz8pKQndu3dHo0aNEB8fD29vb73nTX1PctXQ2L4qlQrVqlXT7Hv//n3cvXtXL7zL++pWgK35MyUiw9gETGRnFi1aBEmS8Msvv6B69eqa21NPPQUA+P7770v1v6tZsybatGmDqKgoNG7cuMLhD7BOE7AuDw8PtG7dGmfOnCl33zZt2sDNzU1v3xYtWuDkyZOawQ6yo0ePAkCZcyaaSx4wUfL15ddS6vWPHz+OlStX6v28P/30UwBiQE+nTp0AAL6+vmjYsKHR1/f19cUDDzygtz0pKQndunVDvXr1sGnTJqjV6lLfa+o1bdCgAXx9fY2+fsOGDeHj46M5pu4xZGlpabh586bedbLGNSWisjEAEtmRoqIifP/992jQoAG2bt1a6jZ58mSkpqbi999/t9o5TJ8+HQcOHCj3Nn/+/Aod//79+9i7dy8aNmxY7r7bt29HcXGx3r7PPPMM7ty5g1WrVunt+/333yM8PBzt2rWr0HkZsnXrVgAo9fqnTp3SG21cWFiIpUuXol27dggPD6/Q65S8DR06FACwdu1afPfdd3qvv2XLFly+fFmzLScnB6tXr0afPn30BnIkJyejW7duqF27NhITE1G9enWDr2/qNfXw8EDv3r2xevVq5OTkaPZLSUnB1q1b0a9fP822nj17wsfHB0uWLNE75pIlS6BSqdC3b1+911f6mhJROSpvBhoiKmn9+vUSAOnTTz81+PyNGzckb29vqW/fvpptMDAPoCGVMQ9gdHS0NGPGDGnt2rXS1q1bpcWLF0tt27aV3N3dpXXr1mn2W79+vdSnTx/pu+++kxITE6X4+Hjpgw8+kAIDA6WGDRtKt2/f1jtu9+7dperVq0sLFiyQtmzZIo0aNUoCIC1dulRvv/T0dGnlypXSypUrpSFDhkgApHnz5kkrV67Um2D4m2++kQYPHix9//330pYtW6T169dLb7zxhuTr6yt16NBBKigo0Ox7//59qXnz5lKdOnWkZcuWSYmJidIzzzxjcNLiS5cuaV6/Z8+eEgDN1wcOHCjz2k2bNs3oRNBhYWFSixYtpDVr1kjx8fHSY489Jvn7+0snT57U7Hfq1CmpRo0aUmBgoLR+/Xppz549ereSkzabek1PnjwpVa1aVXrsscek+Ph4afXq1VJkZGSZE0G/9dZb0rZt26TPP/9c8vb2NjgRtKnXlIiUwQBIZEf69u0reXl5lfog1TVw4EDJw8NDSktLkyTJvgPg5MmTpZYtW0pqtVry8PCQQkNDpWeeeUbatWuX3n4nT56UnnvuOalevXqSj4+P5OPjIz344IPS66+/LmVkZJQ6bk5OjjR+/HgpNDRU8vLykh566CHp559/LrXf1q1bNSuplLw9/vjjmv127dol9erVSwoPD5e8vLykKlWqSC1btpQ+/PBDKTc3t9Rx09LSpCFDhkiBgYGSj4+P1L59eykxMbHUfosXLzb6+kOHDi3z2hkLgJIkJvru27evFBAQIFWpUkXq2rWrdOjQIZNfG4C0ePHiCl1TSZKkgwcPSl27dpWqVKkiBQQESH379pXOnTtncN8vv/xSaty4seTl5SXVrVtXmjZtmsEJqk29pkSkDJUkSZJtao1EREREZA/YB5CIiIjIxTAAEhEREbkYBkAiIiIiF8MASERERFSGHTt2oHfv3ggPD4dKpcLatWvL/Z7t27cjKioKPj4+eOCBB/DNN99Y/0TNwABIREREVIbc3Fy0bNkSc+fONWn/ixcv4sknn0SnTp2QlJSEt956C+PHjy8112Zl4ihgIiIiIhOpVCqsWbNGbzLzkv79739j3bp1OHnypGbb6NGjceTIEezZs8cGZ1k+VgCJiIiIFLRnzx7ExMTobevRowcOHjyIgoKCSjorfR7l70LGFBYWIikpCSEhIXBzY5YmIiJyBMXFxUhJSUGzZs30lk/09vaGt7e3xcdPS0tDSEiI3raQkBAUFhbi5s2bCAsLs/g1LMUAaIGkpCTNYvFERETk2KZNm4bp06crciyVSqX3tdzjruT2ysIAaAE53e/fv98u0jwRERGVLzU1FW3btsWxY8dQp04dzXYlqn8AEBoairS0NL1t6enp8PDwQI0aNRR5DUsxAFpAbvYNCwtD7dq1K/lsiIiIyBxqtRoBAQGKHzc6Ohrr16/X27Zp0ya0adMGnp6eir9eRbDjGhEREVEZ7ty5g+TkZCQnJwMQ07wkJycjJSUFADB16lQMGTJEs//o0aPx999/Y9KkSTh58iQWLVqEhQsXYsqUKZVx+gaxAkhERERUhoMHD6JLly6arydNmgQAGDp0KJYsWYLU1FRNGASAiIgIxMfHY+LEifjvf/+L8PBwfPXVV3j22Wdtfu7GcB5AC1y5cgV16tTB5cuX2QRMRETkIPj5zSZgIiIiIpfDAEhERETkYhgAiYiIiFwMAyARERGRi2EAJCIiInIxDIBERERELoYBkIiIiMjFMAASERERuRgGQCIiIiIXwwDowH7+Gfjyy8o+CyIiInI0XAvYQRUXAyNGAPfuAc89B9SqVdlnRERERI6CFUAHdfu2CH8AkJ5eqadCREREDoYB0EHphr6MjMo7DyIiInI8DIAOSjcA3rpVeedBREREjocB0EGxAkhEREQVxQBoh5YtA556Cpg3z/g+rAASERFRRXEUsB06fx6Ijwfq1DG+DwMgERERVZTdVQB37NiB3r17Izw8HCqVCmvXrtV7XqVSGbx9/vnnmn06d+5c6vmBAwfqHSczMxNxcXFQq9VQq9WIi4vD7du3bfAOy1e1qrjPyTG+z40b2sdsAiYiIiJz2F0AzM3NRcuWLTF37lyDz6empurdFi1aBJVKhWeffVZvv1GjRuntN3/+fL3nBw0ahOTkZCQkJCAhIQHJycmIi4uz2vsyh7+/uL9zx/g+rAASERFRRdldE3BsbCxiY2ONPh8aGqr39a+//oouXbrggQce0NtepUqVUvvKTp48iYSEBOzduxft2rUDAHz77beIjo7G6dOn0aRJEwvfhWVMqQByEAgRERFVlN1VAM1x/fp1bNiwASNGjCj13LJlyxAUFITmzZtjypQpyNFJU3v27IFardaEPwBo37491Go1du/ebZNzLwsrgERERGRNdlcBNMf3338Pf39/9OvXT2/74MGDERERgdDQUBw7dgxTp07FkSNHkJiYCABIS0tDcHBwqeMFBwcjLS3N6Ovl5eUhLy9P83VOWSU6C5hbAWQAJCIiInM4dABctGgRBg8eDB8fH73to0aN0jyOjIxEo0aN0KZNGxw+fBitW7cGIAaTlCRJksHtshkzZuD9999X6OyNkwOgsQpgYaF+6Lt1C5AkoIxTJyIiItJw2CbgP//8E6dPn8bIkSPL3bd169bw9PTE2bNnAYh+hNevXy+1340bNxASEmL0OFOnTkVWVpbmduLEiYq/gTLITcDGKoA3b+p/XVhYdrWQiIiISJfDBsCFCxciKioKLVu2LHff48ePo6CgAGFhYQCA6OhoZGVlYf/+/Zp99u3bh6ysLHTo0MHocby9vREQEKC5+ctJTWG6FUBJKv283PwbHAzIxU8OBCEiIiJT2V0T8J07d3Du3DnN1xcvXkRycjICAwNRt25dAEB2djZWrlyJmTNnlvr+8+fPY9myZXjyyScRFBSEEydOYPLkyWjVqhU6duwIAGjatCl69uyJUaNGaaaHefnll9GrV69KHwEMaCuARUXA/fuAr6/+87oB0MMDuHZNNANHRNj2PImIiMgx2V0F8ODBg2jVqhVatWoFAJg0aRJatWqF9957T7PP8uXLIUkSXnjhhVLf7+XlhT/++AM9evRAkyZNMH78eMTExGDz5s1wd3fX7Lds2TK0aNECMTExiImJwUMPPYQff/zR+m/QBH5+2seG+gHKAbBmTaBGDfGYA0GIiIjIVHZXAezcuTMkQ+2eOl5++WW8/PLLBp+rU6cOtm/fXu7rBAYGYunSpRU6R2tzdweqVAHu3hV9+2rW1H9eXgUkOBgoLhaP2QRMREREprK7AEhC1aoiAJZVAQwOBgoKxGNWAImIiMhUdtcETEJZk0HrBsDAQPGYFUAiIiIyFSuAdqqsyaB1A6D8PCuAREREZCoGQDtlSgWwZk3g9m3xmAGQiIiITMUmYDtVVgVQdxAIm4CJiIjIXAyAdsrUPoCcBoaIiIjMxQBop4xVAO/d025jBZCIiIgqggHQThmrAMrNv15eQECANgCyAkhERESmYgC0U8YqgLoDQFQq/SZgeVJoIiIiorIwANqp8iqAwcHiXq4AFhcD2dm2OTciIiJybAyAdqq8CqAcAH18xLJxAJuBiYiIyDQMgHbKWAWwZAAEOBCEiIiIzMMAaKdMrQACHAhCRERE5mEAtFNyADSlAigPBGEFkIiIiEzBAGin5CbgskYBy1gBJCIiInMwANopYxXAkqOAAa4GQkREROZhALRT5VUAOQiEiIiIKooB0E7JFcB794CiIvFYkjgIhIiIiCzHAGin5AogAOTmivucHCAvTzzW7QPIQSBERERkDgZAO+XtDbi7i8dyM7Bc/fPz007+DLACSEREROZhALRTKlXpyaANDQABOAiEiIiIzMMAaMdKTgZtqP8fwEEgREREZB4GQDtWsgJoLADKFcDMTKC42DbnRkRERI6LAdCOmVoBrF5d3EsScPu2TU6NiIiIHBgDoB0zVgHUHQEMiAEjfn7iMfsBEhERUXkYAO1YyQqgsUEgAAeCEBERkekYAO2YqX0AAU4FQ0RERKZjALRjpvYBBEqHRSIiIiJjGADtmDkVQDksMgASERFReRgA7ZhuBbC4GLh5U3xdchCI7r4MgERERFQeBkA7plsBzMwEiorE10FBpfeVRwEzABIREVF5GADtmG4FUG7+rV4d8PIyvi8DIBEREZWHAdCO6Ya6svr/ldyXiIiIqCwMgHZMbgLWrQAyABIREZGlGADtmKEKoKEBILr75uZa/7yIiIjIsTEA2jHdQSCsABIREVWuefPmISIiAj4+PoiKisKff/5Z5v7Lli1Dy5YtUaVKFYSFheGll15CRkaGjc62bHYXAHfs2IHevXsjPDwcKpUKa9eu1Xt+2LBhUKlUerf27dvr7ZOXl4dXX30VQUFB8PPzQ58+fXDlyhW9fTIzMxEXFwe1Wg21Wo24uDjcvn3byu/OPLqDQMpaBk53XwZAIiIi5a1YsQITJkzA22+/jaSkJHTq1AmxsbFISUkxuP/OnTsxZMgQjBgxAsePH8fKlStx4MABjBw50sZnbpjdBcDc3Fy0bNkSc+fONbpPz549kZqaqrnFx8frPT9hwgSsWbMGy5cvx86dO3Hnzh306tULRfI8KgAGDRqE5ORkJCQkICEhAcnJyYiLi7Pa+6oI3Qrg9evisbEAyGlgiIiIrOeLL77AiBEjMHLkSDRt2hSzZ89GnTp18PXXXxvcf+/evahfvz7Gjx+PiIgIPProo/jXv/6FgwcP2vjMDfOo7BMoKTY2FrGxsWXu4+3tjdDQUIPPZWVlYeHChfjxxx/RrVs3AMDSpUtRp04dbN68GT169MDJkyeRkJCAvXv3ol27dgCAb7/9FtHR0Th9+jSaNGmi7JuqILmqV1gIXL4sHrMCSEREZFv5+fk4dOgQ3nzzTb3tMTEx2L17t8Hv6dChA95++23Ex8cjNjYW6enp+OWXX/DUU0/Z4pTLZXcVQFNs27YNwcHBaNy4MUaNGoV0uYMcgEOHDqGgoAAxMTGabeHh4YiMjNT8kPbs2QO1Wq0JfwDQvn17qNVqoz9IQDQtZ2dna2458iK9ViKHOgC4cEHcMwASEREpIycnR+9zPS8vz+B+N2/eRFFREUJCQvS2h4SEIC0tzeD3dOjQAcuWLcOAAQPg5eWF0NBQVKtWDXPmzFH8fVSEwwXA2NhYLFu2DFu2bMHMmTNx4MABPPHEE5ofWlpaGry8vFC9enW979P9IaWlpSHYQJIKDg42+oMEgBkzZmj6DKrVajRr1kzBd1aauzvg6ysey31GyxsFzABIRERkmmbNmul9rs+YMaPM/VUqld7XkiSV2iY7ceIExo8fj/feew+HDh1CQkICLl68iNGjRyt2/pawuybg8gwYMEDzODIyEm3atEG9evWwYcMG9OvXz+j3lfwhGfqBlfWDBICpU6di0qRJmq+vXr1q9RDo7w/cu6f9urwKIKeBISIiMs2JEydQq1Ytzdfe3t4G9wsKCoK7u3upIlF6enqpqqBsxowZ6NixI15//XUAwEMPPQQ/Pz906tQJH330EcLCwhR6FxXjcBXAksLCwlCvXj2cPXsWABAaGor8/HxkZmbq7af7QwoNDcV1eVSFjhs3bhj9QQLiFyMgIEBz85dHaViRbjOwmxsQGFj2fgUFQH6+1U+LiIjI4fn7++t9rhsLgF5eXoiKikJiYqLe9sTERHTo0MHg99y9exdubvoxy93dHYAoOFU2hw+AGRkZuHz5siZJR0VFwdPTU++HlJqaimPHjml+SNHR0cjKysL+/fs1++zbtw9ZWVlGf5CVRTdj1qwpQqAh8ihggM3ARERESps0aRK+++47LFq0CCdPnsTEiRORkpKiadKdOnUqhgwZotm/d+/eWL16Nb7++mtcuHABu3btwvjx49G2bVuEh4dX1tvQsLsm4Dt37uDcuXOary9evIjk5GQEBgYiMDAQ06dPx7PPPouwsDBcunQJb731FoKCgvDMM88AANRqNUaMGIHJkyejRo0aCAwMxJQpU9CiRQvNqOCmTZuiZ8+eGDVqFObPnw8AePnll9GrVy+7GQEs060AGmv+BQBPT8DLS1T/7twxXikkIiIi8w0YMAAZGRn44IMPkJqaisjISMTHx6NevXoARLFJd07AYcOGIScnB3PnzsXkyZNRrVo1PPHEE/j0008r6y3ok+zM1q1bJQClbkOHDpXu3r0rxcTESDVr1pQ8PT2lunXrSkOHDpVSUlL0jnHv3j1p3LhxUmBgoOTr6yv16tWr1D4ZGRnS4MGDJX9/f8nf318aPHiwlJmZada5Xr58WQIgXb582dK3bVTPnpIEiNsTT5S9b2Cg2O/4caudDhERkcOzxee3vbO7CmDnzp3LbBvfuHFjucfw8fHBnDlzyhxqHRgYiKVLl1boHG3J1AqgvO+tW2wCJiIiorI5fB9AZ6fbB9CUAAhwJDARERGVjQHQzplbAQRYASQiIqKyMQDauYpUABkAiYiIqCwMgHZOtwJobBWQkvsyABIREVFZGADtnDlNwPJcgAyAREREVBYGQDvHJmAiIiJSGgOgneMgECIiIlIaA6CdkyuA3t761UBDOA0MERERmYIB0M5VqybuQ0MBlarsfVkBJCIiIlPY3UogpK9NG2DsWODRR8vflwGQiIiITMEAaOfc3YG5c03blwGQiIiITMEmYCfCaWCIiIjIFAyAToQVQCIiIjIFA6ATYQAkIiIiUzAAOhFOA0NERESmYAB0IqwAEhERkSkYAJ2IbgWwuLhyz4WIiIjsFwOgE5FHAUsScO9e5Z4LERER2S8GQCdSpYr2sbFm4KVLgeXLbXM+REREZJ8YAJ2Im1vZcwFeuwYMGSJu+fm2PTciIiKyHwyATqasgSB79ojm4YICDhQhIiJyZQyATqasqWD27NE+zsmxzfkQERGR/WEAdDJlVQD37tU+ZgWQiIjIdTEAOhljATA/Hzh4UPs1AyAREZHrYgB0MsYGgRw5AuTlab9mEzAREZHrYgB0MsYqgLr9/ww9T0RERK6DAdDJGAuAuv3/DD1PREREroMB0MkYGwUsVwCrVRP3bAImIiJyXQyATsZQBTAtDbh0CVCpgM6dSz9PREREroUB0MkYCoBy82/z5kCtWqWfJyIiItfCAOhkDAVAufm3fXvt82wCJiIicl0MgE7G0DQwcgUwOrrsiaKJiIjINTAAOpmSAa+gADhwQDyOjgb8/fWfJyIiItfDAOhkSgbAo0eBe/fE6N8mTdgETERERAyATqfkNDD794v7tm0BNzc2ARMREZFCAfD0aWD6dKBrV6BBAyAsDHjoIWDoUOCnn/SXICvPjh070Lt3b4SHh0OlUmHt2rWa5woKCvDvf/8bLVq0gJ+fH8LDwzFkyBBcu3ZN7xidO3eGSqXSuw0cOFBvn8zMTMTFxUGtVkOtViMuLg63b9+u+EWwEyUD3uHD4j4qStzLTcAlK4DXrgFffglkZ1v/HImIiKhyWRQAk5KA7t2Bli2BHTuARx4BJkwAPvwQePFFQJKAt98GwsOBTz81LQjm5uaiZcuWmDt3bqnn7t69i8OHD+Pdd9/F4cOHsXr1apw5cwZ9+vQpte+oUaOQmpqquc2fP1/v+UGDBiE5ORkJCQlISEhAcnIy4uLiKnop7EbJAHjokLiXA6CxCuAnn4if3bffWv0UiYiIqJJ5WPLNffsCr78OrFgBBAYa32/PHmDWLGDmTOCtt8o+ZmxsLGJjYw0+p1arkZiYqLdtzpw5aNu2LVJSUlC3bl3N9ipVqiA0NNTgcU6ePImEhATs3bsX7dq1AwB8++23iI6OxunTp9GkSZOyT9KO6Qa8/HzRBxAAWrcu/bwuuYh67pz1z5GIiIgql0UB8OxZwMur/P2io8UtP9+SVzMsKysLKpUK1eQ1zv6xbNkyLF26FCEhIYiNjcW0adPg/0/75549e6BWqzXhDwDat28PtVqN3bt3Gw2AeXl5yNMpY+bY4UgKeRqYvDwgOVmMAq5eHahfX2w31gQst35fvmyDkyQiIqJKZVEALC/83b6tXXvWlP3Ndf/+fbz55psYNGgQAgICNNsHDx6MiIgIhIaG4tixY5g6dSqOHDmiqR6mpaUhODi41PGCg4ORlpZm9PVmzJiB999/X9k3oTC5wgeIZnlAVP9UKv3n79wRTfTydgZAIiIi16HYKOBPPxVNwbL+/YEaNcTSY0eOKPUqWgUFBRg4cCCKi4sxb948vedGjRqFbt26ITIyEgMHDsQvv/yCzZs347A8IgKASk4+OiRJMrhdNnXqVGRlZWluJ06cUO4NKcTLC/D4J9brBkCZHACLi4H797Xb5QB45UrpYx4/rm0iJiIiIsenWACcPx+oU0c8TkwUt99/B2JjRT9BJRUUFKB///64ePEiEhMT9ap/hrRu3Rqenp44e/YsACA0NBTXr18vtd+NGzcQEhJi9Dje3t4ICAjQ3OQmZXuiUmlD3s6d4l4eAAJom4gB/WZgOQDeugXcvavdnpYmAmRkJHDmjFVOmYiIiGxMsQCYmqoNgL/9JiqAMTHAG29oV6JQghz+zp49i82bN6NGjRrlfs/x48dRUFCAsLAwAEB0dDSysrKwX54kD8C+ffuQlZWFDh06KHeylUQOgJmZ4l63AujmVnq5OEnSBkBAvxn46FHRdzMzE+jVSwREIiIicmyKBcDq1bXBISEB6NZNPJYkoKjI9OPcuXMHycnJSE5OBgBcvHgRycnJSElJQWFhIZ577jkcPHgQy5YtQ1FREdLS0pCWlob8f0aYnD9/Hh988AEOHjyIS5cuIT4+Hs8//zxatWqFjh07AgCaNm2Knj17YtSoUdi7dy/27t2LUaNGoVevXg49Alim2w/Q31/MzWjoeTkA5ubq/4x0A+DFi9rHZ88Czz8vBpYQERGR41IsAPbrBwwaJOYFzMgQTb+AGInasKHpxzl48CBatWqFVq1aAQAmTZqEVq1a4b333sOVK1ewbt06XLlyBQ8//DDCwsI0t927dwMAvLy88Mcff6BHjx5o0qQJxo8fj5iYGGzevBnu7u6a11m2bBlatGiBmJgYxMTE4KGHHsKPP/6o1OWoVLoBsHVrUfUz9LzcBFxy/mvdfoAXLoj7rl3F923ZAowdq+jpEhERkY1ZNApY16xZYqqRy5eBzz7ThozUVGDMGNOP07lzZ0iSZPT5sp4DgDp16mD79u3lvk5gYCCWLl1q+ok5EN1+frrNvzK566JcASwZAHUrgHIA7NVLTBTdp4+YLHrCBKBZM4VOmIiIiGxKsQDo6QlMmVJ6+4QJSr0CmapkBdDY83IAzMrSf95QE3BEhAiBrVqJ5eUuXmQAJCIiclQWBcB160zf18BqbWQlugFQdwRwyefNaQJ+4AFxL0+fmJ5u8WkSERFRJbF4KThTqFTmDQQhy8gBr0oVoHHj0s8bawJ2dxc/J7kCmJWlHfUbESHu5VlyDMyiQ0RERA7CokEgxcWm3Rj+bEsOgA8/LEKdsedLBkB5ALQcAOXm35o1td/DCiAREZHjU2wUMNmPf6Y7hLEpDY01AbdoIe6zssRzJZt/AW0FkAGQiIjIcSk2CAQA/vhDjAY+eVI0+z74oBgEIs8JSLbxyiuiUmesid5YE3CdOkBAAJCdLfoBygFQbv4FtBVANgETERE5LsUqgHPnAj17inDx2mvA+PEiTDz5pHiObCcgAHjpJTE5tyHGmoCrVdOu5nL5srYJWLcCyCZgIiIix6dYBXDGDFH9GzdOu238eKBjR+A//9HfTpXLWBOwHACPH9evABpqAmYFkIiIyHEpVgHMzhYVwJJiYsRzZD+MNQFXqwbUri0e61YADTUB37ghBvgQERGR41EsAPbpA6xZU3r7r78CvXsr9SqkBGNNwGq1tgn4778NNwHXrCnui4u1U8QQERGRY7GoCfirr7SPmzYVTb3btgHR0WLb3r3Arl3A5MmWvAoprWQTsLwSiG4fwP37gfx8wMNDWxUExIovgYEi/F2/DgQF2ey0iYiISCEWBcBZs/S/rl4dOHFC3GTVqgGLFgHvvGPJK5GSTGkCPn5c3NetK0KgrpAQEQDT04Hmza19tkRERKQ0iwKg3ERIjkW3AihJ+gGwZNjTbf6VBQeLqX44EISIiMgxKToPoEySxL1KZY2jk6V0+wDeuwcUFIivq1UTN13GAiDAqWCIiIgclaIrgSxcCERGAj4+4hYZCXz3nZKvQEqQm4Bzc7UDOdzdAT8/EQ51Q6DuCGAZp4IhIiJybIpVAN99V/QJfPVV7SCQPXuAiROBS5eAjz5S6pXIUnIFEACuXhX31appK7Z16mibhVkBJCIicj6KVQC//hr49lsxIXSfPuI2YwawYAHwzTdKvQopwdcXcPvnJ3/lirjXrfrpjvo1FAC5HjAREbmiefPmISIiAj4+PoiKisKff/5Z5v55eXl4++23Ua9ePXh7e6NBgwZYtGiRjc62bIpVAIuKgDZtSm+PigIKC5V6FVKCSiWqgPKav4B+AJSnggEMNwFzPWAiInI1K1aswIQJEzBv3jx07NgR8+fPR2xsLE6cOIG6desa/J7+/fvj+vXrWLhwIRo2bIj09HQU2kkoUqwC+OKLogpY0oIFwODBSr0KKUVuBr58WdwbCoABAWLOv5JYASQiIlfzxRdfYMSIERg5ciSaNm2K2bNno06dOvjaUPgBkJCQgO3btyM+Ph7dunVD/fr10bZtW3To0MHGZ26YRRXASZO0j1UqMeBj0yagfXuxbe9eETCGDLHkVcga5ABYVhNwRIThkdysABIRkTPIyclBts56td7e3vD29i61X35+Pg4dOoQ333xTb3tMTAx2795t8Njr1q1DmzZt8Nlnn+HHH3+En58f+vTpgw8//BC+vr7KvpEKsCgAJiXpfx0VJe7Pnxf3NWuKmzypMNkPeSSwoQD45JNAp07ASy8Z/l45AN69K0YS+/lZ7TSJiIisplmzZnpfT5s2DdOnTy+1382bN1FUVIQQuQnsHyEhIUhLSzN47AsXLmDnzp3w8fHBmjVrcPPmTYwZMwa3bt2yi36AFgXArVuVOg2ytZIVQLVa+1xwMLBjR9nf6+sr5hBMTzfcT5CIiMjenThxArVq1dJ8baj6p0tVollMkqRS22TFxcVQqVRYtmwZ1P98yH7xxRd47rnn8N///rfSq4CKzgNIjkMOgLrTwJhKpWIzMBEROT5/f38EBARobsYCYFBQENzd3UtV+9LT00tVBWVhYWGoVauWJvwBQNOmTSFJEq7I1ZdKZFEAHD1aO4igPCtWAMuWWfJqpCQ5AMqDkcwJgAAHghARkevw8vJCVFQUEhMT9bYnJiYaHdTRsWNHXLt2DXfu3NFsO3PmDNzc3FBbd761SmJRAKxZU6z2ERsrRgAfOCAqShkZwLlzwLp1wBtvAHXrArNnAw89pNBZk8XkPoAycwMgK4BERORKJk2ahO+++w6LFi3CyZMnMXHiRKSkpGD06NEAgKlTp2KIzqjXQYMGoUaNGnjppZdw4sQJ7NixA6+//jqGDx9e6c2/gIV9AD/8UKz8sXChmOz52DH95/39gW7dxOjgmBhLXomUprsaCFDxAMgKIBERuYIBAwYgIyMDH3zwAVJTUxEZGYn4+HjUq1cPAJCamoqUlBTN/lWrVkViYiJeffVVtGnTBjVq1ED//v3xkZ0sjWbxRNDBwcDUqeJ2+zbw999icEBQENCggeFpRKjyWRoA2QRMRESuZsyYMRgzZozB55YsWVJq24MPPliq2dheKLYSCCBChLlBgioHm4CJiIhcF0cBuyhWAImIiFwXA6CLUqoPoFwB/P57IDQU2L/f4lMjIiIiK2MAdFG6TcBubqUDYXl0K4AFBaIP6PXrnOqHiIjIETAAuijdwFetmvmDdeQKYEYGsHIlkJoqvi65PKA9GDdOTFf055+VfSZERET2gQHQRZUMgOaqUUNUDiVJTAckS0oCiostPj3FSBKwaJFYj7pzZ3GuRUWVfVZERESVS7EAeP06EBcHhIcDHh6Au7v+jeyLbhOw7jrApnJ3F1P9AMCpU+JrLy/gzh0xCbi9uHlTTEsEiGD63ntibsrMzMo9LyIiosqk2DQww4YBKSnAu+8CYWGc/8/eWVoBBEQzsDwKuF8/8fPft09UARs3tvgUFXHpkrgPDwdmzADGjAG2bROPP/vM+Pf99JMIiWPH2uIsiYiIbEuxCuDOnWIAwCuvAH37Ak8/rX8z1Y4dO9C7d2+Eh4dDpVJh7dq1es9LkoTp06cjPDwcvr6+6Ny5M44fP663T15eHl599VUEBQXBz88Pffr0KbXwcmZmJuLi4qBWq6FWqxEXF4fbt29X7M07ICUCoO7612PHAq1bi8eHD1f4tBT399/ivl49YMgQQJ6nc9ky403BeXniD5px47TfT0RE5EwUC4B16oj+VpbKzc1Fy5YtMXfuXIPPf/bZZ/jiiy8wd+5cHDhwAKGhoejevTtycnI0+0yYMAFr1qzB8uXLsXPnTty5cwe9evVCkc4n/qBBg5CcnIyEhAQkJCQgOTkZcXFxlr8BB6HbBGxJBRAQAywee8z+AyAA9O4NVK8OXLsGbNli+HsuXBAjmwHgyBHrnyMREZHNSQrZuFGSYmIk6eJFpY4oSQCkNWvWaL4uLi6WQkNDpU8++USz7f79+5JarZa++eYbSZIk6fbt25Knp6e0fPlyzT5Xr16V3NzcpISEBEmSJOnEiRMSAGnv3r2affbs2SMBkE6dOmXy+V2+fFkCIF2+fLmib7HSFBdLkoeHJAGSNHFixY7x3XeS5O4uSStXiq8PHhTHCwwUx7cH48aJc3rzTe220aPFtrg4w9/z66/ieUCSPvrINudJRES248if30pRrAI4YIDoW9WggaguBQbq35Rw8eJFpKWlISYmRrPN29sbjz/+OHbv3g0AOHToEAoKCvT2CQ8PR2RkpGafPXv2QK1Wo127dpp92rdvD7VardnH2alU2mbgilYAR4wAcnOB554TX0dGigFAt24Bly8rcpoWK1kBBMRgJQBYvVqcf0lnz2of//WX9c6NiIiosig2CGT2bKWOZFxaWhoAIES389k/X//9zyd9WloavLy8UL169VL7yN+flpaGYLn9UkdwcLBmH0Py8vKQl5en+Vq32dkR+fsDt29btn6zt7f+48hIIDlZNAPXrWvhCSpADoD162u3RUeLP1TOnwfWrAFefFH/e3QD4NGjVj9FIiIim1MsAA4dqtSRyqcqMcRYkqRS20oquY+h/cs7zowZM/D++++bebb2y9IKoCGtWmkDYN++yh23ouRRwLoVQJVKVAGnTwd+/LHsAHjmjBgUoht0iYiIHJ2iE0EXFQGrVgEffQT85z+iuqLkpLuhoaEAUKpKl56erqkKhoaGIj8/H5klJnoruc91eRFbHTdu3ChVXdQ1depUZGVlaW4nTpyw6P1Utpo1xf0/l1UR8kAQe1gR5PZtIDtbPC5ZjZRD3+bN2lVMZLoBsKgIOHnSaqdIRERUKRQLgOfOAU2biqk2Vq8GfvlFfMg2by6a2pQQERGB0NBQJCYmarbl5+dj+/bt6NChAwAgKioKnp6eevukpqbi2LFjmn2io6ORlZWF/fv3a/bZt28fsrKyNPsY4u3tjYCAAM3NX3corQOaNUvMhffEE8od055GAsvVv5o1AT8//ecaNAA6dhSTQ//0k3b7vXva/ovNm4t79gMkIiJno1gAHD9efKheviw+/JOSxMTAERHiOVPduXMHycnJSE5OBiAGfiQnJyMlJQUqlQoTJkzAxx9/jDVr1uDYsWMYNmwYqlSpgkGDBgEA1Go1RowYgcmTJ+OPP/5AUlISXnzxRbRo0QLdunUDADRt2hQ9e/bEqFGjsHfvXuzduxejRo1Cr1690KRJE6Uuid1r3Rp4/XUxcEMpLVuKJtZr14AyulPahKEBILpeeEHc//67dpv8x0q1amLpOID9AImIyPko9tG/fTuwd6/+iN8aNYBPPhGVFlMdPHgQXbp00Xw9adIkAMDQoUOxZMkSvPHGG7h37x7GjBmDzMxMtGvXDps2bdKrxs2aNQseHh7o378/7t27h65du2LJkiVw11mTbtmyZRg/frxmtHCfPn2Mzj1IpvPzA5o0EcvDJSUBsbGVdy7lBUA54O3dK+b98/TUNv82agQ89JB4zABIRETORrEA6O0NGBoUe+eOWCPWVJ07d4ZUxozSKpUK06dPx/Tp043u4+Pjgzlz5mDOnDlG9wkMDMTSpUtNPzEyWevW9hEA5SZg3RHAupo2FZW+27fFhM9t2ugHwBYtxGMGQCIicjaKNQH36gW8/LJYC1aeRnfvXmD0aKBPH6VehRyB3A9w40bRx66ylFcBdHPTVqd37RL3Z86I+0aNxJQ2gGjOzsiw3nkSERHZmmIB8KuvRB/A6GjAx0fcOnYEGjYEvvxSqVchR9Crl6j67tghBplUlvICIKANgDt3invdCqC/v+jDCrAKSEREzkWxAFitGvDrr8Dp02IE8MqV4vGaNYBardSrkCNo0gSQW9/ffhv444/KOY/ymoAB4NFHxf3OnaJqrRsAATYDExGRc1J0HkBAfHD27i2afRs2VPro5ChGjQKGDRNNwC+8AFy5YtvXz83VNtuWVQFs00YM/khLEyFPnhOQAZCIiJyZRYNAJk0CPvxQjPz8Z7CuUV98YckrkaNRqYB588SqIMnJwEsvATpTM1qd3PyrVpddgfb1FSFwzx7g++/FtqAgQF5JUB4JzLkAiYjImVgUAJOSxPQZ8mMiXb6+wIoVokn4jz/EqhwBAeYf5+5dID/fvCXrTGn+lXXsKAKgPChcrv4B2grgsWOimummeM2ciIjI9iwKgFu3Gn5MJGvcWISwS5eAAweArl3N+/7iYjGqOCNDTCzu62va95kyAET26KPA//0fkJ4uvtYNgI0aiSmOcnPFe3jgAbNOn4iIyC4pVs8YPtzwPIC5ueI5cl3t2on7ffvM/97jx8Vgops3zetHaE4ALLn6n24A9PAQ8wUC7AdIRETOQ7EA+P33Yh3Vku7dA374QalXIUfUvr2437vX/O/dsUP7+PZt07/PnCbgmjVFM7VMNwAC2jWBT50y/fWJiIjsmcUrgWRnayd+zskR8//JioqA+HggONjSVyFHphsAJUkMEDHV9u3ax+YEQHMqgIBoBj59WjwuGQDlr+UpYoiIiBydxQGwWjXxga5Sif5eJalUwPvvW/oq5MgeflhMtXLjhqjMyZMrl0eSKl4BNDcAduwILFwoHjMAEhGRs7M4AG7dKj6on3gCWLUKCAzUPuflJT6Aw8MtfRVyZD4+QKtWwP79ogpoagA8cwa4fl37tTkB8OZNcR8SYtr+TzwhzrNhQ7ECiC4GQCIicjYWB8DHHxf3Fy8Cdeua17xHrqNdO20AfOEF075Ht/kXMD0ASpJ2eiJvb9O+p1494NAhw3MGygEwNRW4cweoWtW0YxIREdkrxQaBbNkiloAraeVK7QS75LrkfoDmjASWm3/lPyoyM037Pjn8AaIKbapmzYBatUpvr1ZNTA4NAOfOmX48IiIie6VYAPzkE+2HpK7gYODjj5V6FXJUcgBMSgLy8srfX5K0FUB5mhZTK4D5+drHplYAyyNXAc+cUeZ4RERElUmxAPj334b7dtWrJybwJdcWESH+QMjPN23VmEuXxLx/Hh5Az55iW0UCoDkVwLKwHyARETkTxQJgcLDh9VKPHAFq1FDqVchRqVTmNQPL1b9HHtE2y5obAN3cAHd3s07TKAZAIiJyJooFwIEDgfHjxajgoiJx27IFeO018RyRORNCywHw8ce1awCbGwCVqv4BDIBERORcLB4FLPvoI9EM3LWraLYDxDquQ4awDyAJ8pJwpgRAeQDIY49pJxevzAAoz3HJAEhERM5AsQDo5QWsWAF8+KFo9vX1BVq0MH0iXnJ+jzwimoIvXRLz+xmbo+/KFeDCBdGE27EjcP682G5qAJQHmSgZABs2FPc3bgBZWYaniyEiInIUijUByxo3Bp5/HujVi+GP9KnVYqoVoOx+gJs3i/uoKCAgwD6agP39gdBQ8ZhVQCIicnSKVQCHDy/7+UWLlHolcmTt2gHHj4tm4D59DO8jB8Du3cW9HADv3RPVvfKmdrFGAAREP8C0NBEA27RR9thERES2pFgFMDNT/5aeLgaBrF5t3hJe5NzKGwksSaUDoFqtnQw6K6v817BmAAS0FcD8fODtt4H4eGVfh4iIyNoUqwCuWVN6W3ExMGYM8MADSr0KOTo5AO7fL0aKl5ym5dgx0T+wShUgOlpsc3MTTcFZWeKPi+Dgsl/D2gFQngx60SIxwKl6dbFMnFKTThMREVmb4n0A9Q7uBkycCMyaZc1XIUfSrJlYS/fOHeDEidLPJyaK+8ce0w9U5vQDtEUFsLgYmD1bfJ2ZCaxfr+xrERERWZNVAyAgRnAWFlr7VchRuLuL0cCA4WZgOQDKzb8yewuAGzcCp09rn1uyRNnXIiIisibFmoAnTdL/WpJEs9iGDcDQoUq9CjmD9u3FhOF79wIjR2q35+Vp5//r1k3/e+whAMpTwWRmAtOmice9e4vq3++/i9/3sDBlX5OIiMgaFAuAJdd3dXMDatYEZs4sf4QwuRZjE0Lv2QPcvSvmB2zRQv+5igRApfvkVakilqW7ehU4cED8jn/5JZCRAezeDSxdCrz+urKvSUREZA2KBcCtW5U6Ejk7OQCeOAFkZ4sBHoB29G+3btpRvzJ7qAACohn46lXxuG9fICICeOklEQCXLAGmTCl97kRERPbG6n0AiUoKDRWThEuSqKTJ5P5/JZt/AfsJgPKScAAwYYK4f/55sfLNiRP674eIiMheWVQBbNXK9GrH4cOWvBI5m/btxdrRe/eK9aMzM4GDB8Vz9hwAmzYV91FRwKOPisdqNdCvH7BsmagCtm2r/OsSEREpyaIKYN++wNNPi1uPHmLEr7c30LmzuPn4iG09eihyruRESk4IvXChmFrlwQeB2rVL728vAXDECOCNN0R/P90/fl56SdwvXQosXy7eCxERkb2yqAIoj4QExGjO8eOBDz8svc/ly5a8Cjkj3YEg48YB//2v+HrQIMP7V68u7k0JgHl54t4aAdDfH/j009Lbu3QRFfGkJOCFF8Q+H38MxMYqfw5ERESWUqwP4MqVwJAhpbe/+CKwapVSr0LOolUrwNMTuHFDG/6mTxdLqxkiVwAzM8s/tjUrgMa4uQHbtwMffCAGtSQnA08+KUbA5+ba7jyIiIhMoVgA9PUFdu4svX3nTtEUTKTLx0eEQED0oVu/XlSL3Yz8RtpLE3BZ/P2Bd98FLlwQ82K6uQGLFwNt2gB//WXbcyEiIiqLYtPATJgAvPIKcOiQtn/X3r1ivdT33lPqVciZfPwx8MMPwDvvaFfZMMYRAqCsRg0x/2Xv3sDgwcCpU2JgyObN2oEjRERElUmxCuCbb4oP86Qk0Rdw/HjxeMkS8ZyS6tevD5VKVeo2duxYAMCwYcNKPddeTqX/yMvLw6uvvoqgoCD4+fmhT58+uHLlirInSmXq2hX4/vvywx/gWAFQ1rkzcOSIuM/LE9VAIiIie6BYBRAA+vcXN2s7cOAAioqKNF8fO3YM3bt3x/PPP6/Z1rNnTyzW+cT1KpEGJkyYgPXr12P58uWoUaMGJk+ejF69euHQoUNwd3e3/psgs8gBMC8PuH+/7G4F9hIAASAoSCyFuG0bwL8viIjIXigaAAHRBHzypJgio1kzbT8vJdWsWVPv608++QQNGjTA448/rtnm7e2N0NBQg9+flZWFhQsX4scff0S3fyadW7p0KerUqYPNmzejB+etsTv+/uJ3SpJEFdDIjxaAfQVAQDutDQMgERHZC8WagNPTgSeeAB55RDT/jhsnJsvt2lWM9LSW/Px8LF26FMOHD4dKZ2K2bdu2ITg4GI0bN8aoUaOQnp6uee7QoUMoKChATEyMZlt4eDgiIyOxe/duo6+Vl5eH7OxszS0nJ8c6b4pKcXMTg0WA8puBrbUWcEXVqSPuOR0SERHZC8UC4KuvinVdjx8Hbt0S03UcOya2jR+v1KuUtnbtWty+fRvDhg3TbIuNjcWyZcuwZcsWzJw5EwcOHMATTzyBvH8miEtLS4OXlxeqy5PL/SMkJARpaWlGX2vGjBlQq9WaW7NmzazynsgwU/sB2msFMCdH/HsgIiKqbIoFwIQE4OuvtUtlAaIJ+L//BX7/XalXKW3hwoWIjY1FeHi4ZtuAAQPw1FNPITIyEr1798bvv/+OM2fOYMOGDWUeS5IkvSpiSVOnTkVWVpbmduLECcXeB5XPUQOgn592ImtTq4Br1gBjx2ontSYiIlKSYgGwuFhM7FuSp6f1lsX6+++/sXnzZowcObLM/cLCwlCvXj2cPXsWABAaGor8/HxklphVOD09HSEhIUaP4+3tjYCAAM3N39/f8jdBJjN1NRB7C4CA+f0Ax48H5s0TQZCc26lTDPpEZHuKBcAnngBeew24dk277epVYOJE0Q/QGhYvXozg4GA89dRTZe6XkZGBy5cvIywsDAAQFRUFT09PJCYmavZJTU3FsWPH0KFDB+ucLFnM1NVA7DEAmtMP8No1bVA0NLk6OY8//hCtJhMmVPaZEJGrUSwAzp0r+jjVrw80aAA0bAhERIhtc+Yo9SpaxcXFWLx4MYYOHQoPD+1g5jt37mDKlCnYs2cPLl26hG3btqF3794ICgrCM888AwBQq9UYMWIEJk+ejD/++ANJSUl48cUX0aJFC82oYLI/jtoEDBiuAObliaXiVqzQ33ffPu1jBkDndv68uD98uHLPg4hMM2/ePERERMDHxwdRUVH4888/Tfq+Xbt2wcPDAw8//LB1T9AMik0DU6eO+E8sMVE0aUiS6ANorTy1efNmpKSkYPjw4Xrb3d3dcfToUfzwww+4ffs2wsLC0KVLF6xYsUKvyXbWrFnw8PBA//79ce/ePXTt2hVLlizhHIB2zJEDoKEK4IYNYnLo334Dnn9euwze/v3aff76S7xf+b2Tc5Gbfq9erdzzIKLyrVixAhMmTMC8efPQsWNHzJ8/H7GxsThx4gTq1q1r9PuysrIwZMgQdO3aFdevX7fhGZdNkQBYWCgm5k1OBrp3Fzdri4mJgSRJpbb7+vpi48aN5X6/j48P5syZgznWKE+SVZgaAOUPVXsKgIYqgGfOiPsbN8SKIfKcmboVQEkC9uwBYmNtc55kW/IfK2lpQFERwL8/iezXF198gREjRmjGHcyePRsbN27E119/jRkzZhj9vn/9618YNGgQ3N3dsXbtWhudbfkUaQL28ADq1RP/gRFZi7NVAP8ZkwQAkP9mKSoCDhwQj9u0EfdsBnZe8h8rRUViLlUisq2cnBy9+X3zjIzIys/Px6FDh/TmDwZEMaqs+YMXL16M8+fPY9q0aYqetxIU6wP4zjvA1KliDkAia3DkAGioAmgoAJ48Cdy5A1StCrz8sthmYhcTckDy7yqgP4COiGyjWbNmevP7Gqvk3bx5E0VFRaVmCilr/uCzZ8/izTffxLJly/TGKtgLxc7oq6+Ac+eA8HBRDfTz03+enZzJUs4QAHNygKwssaqJbgDctUsEP7n/X5s2gLyy4f79olJkLyubkHJ0A+DVq2L1JCKynRMnTqBWrVqar73L+Y+25FzBxuYPLioqwqBBg/D++++jcePGypyswhQLgE8/LdZqJbIWRw6A8mTQmZmiCujmJvp9AWJd47Q0YNs2bf+/tm2BRo2A4GDRNHjoEMAZipyPbmsTB4IQ2Z6/vz8CAgLK3S8oKAju7u6lqn3G5g/OycnBwYMHkZSUhHHjxgEQs5dIkgQPDw9s2rQJTzzxhDJvooIUC4DTpyt1JCLDHDkAAqIfYGam6Acon2NQEPDMM2IVnY0btQGwXTvxB9WjjwKrV4tmYAZA58MmYCLH4OXlhaioKCQmJmqmlAOAxMREPP3006X2DwgIwNGjR/W2zZs3D1u2bMEvv/yCiIgIq59zeSzuA3j3rliyqlYtUa0YNAi4eVOJUyPSp7sSiIEB4Bryh6q9NZnq9gOUm38bNQLkPsXr1on1swERAAERAAEOBHFWJZuAich+TZo0Cd999x0WLVqEkydPYuLEiUhJScHo0aMBiOVihwwZAgBwc3NDZGSk3i04OBg+Pj6IjIyEX8l+cpXA4grgtGnAkiXA4MFiKpiffwZeeQVYuVKBsyPSIVcA8/OBe/eAKlUM72evFUA5AF6+rD23Ro3EKjoeHkBKithWq5a4AdoAuGuXWFLRTbFhW2QPdJuAWQEksm8DBgxARkYGPvjgA6SmpiIyMhLx8fGoV68eALGiWIr8H7kDsDgArl4NLFwIDBwovn7xRaBjR85pRcqrWlUEoOJiUQU0FAAlyX4DoDwVzJUr2imTGjUCAgKA6GjtaN+2bbXf06qV6D+YmQmcOAFERtr2nMm6WAEkcixjxozBmDFjDD63ZMmSMr93+vTpmG5H/eUsridcvgx06qT9um1bUc3gX7OkNJWq/H6AhYXax/YWAHWbgOVJoOXBYbpTS8nNv4D4t9S+vXi8dav1z5FsiwGQiCqLxQGwqKj0B62Hh/4HMZFSyguAuh+o9hYAdSeD1u0DCAA9emj30w2Aus998AFDgrPRbQLOzBRdG0hITARattRfGYeIlGNxE7AkAcOG6Xe4v38fGD1afy7A1astfSUixw6AcgXw/HnteTZsKO5btwZatBDv65FH9L/v1VdF39qkJDHI6o8/xB9Z5Ph0f18B0XLSoEHlnEtFSZK4Kd0/9aefxFrYS5aU/qOIiCxn8T/ZoUPF6F+1Wnt78UUxIbTuNiIlyAEwM9Pw8/IHqkplf31Q5QAon2NoKODvLx67u4tKx6lTpSdR9/EB/vc/se+OHaISSM6h5KpTjlbhlSTgscdE15/iYmWPfeOGuD94UNnjEpFgcR1h8WIlToPINDVrinv5w6Ek+QPVy8v+JibXnQwa0Db/ynx9jX9vw4bAggXACy8AH30kBoM8/7z9vUcyj6EKoCPJytJOUZSRof33qQT53/hff4nrZG8VfSJHx0klyKGEh4t7Y5USex0BLJP7AQKlA2B5Bg4ERo0SVZcBA8QUMX/8UfaciGTf5N9XubLtaBXAjAzt49xcZY8tzyebnw8cP67ssYmIAZAcjBwAjVVK7D0Ays3AgHYEsDm++gqYPFk0C+/eDXTrJrpcWDMEXr0KDB8uOuWTsuSKdf364t7RKoC6AfDuXWWPrVvlZzMwkfIYAMmhyBMku2IFEBDB7//+D7hwQQwOcXcXneVPnlTuHHXdvAl07y66egwaJJr8SDny7+sDD4h7R64AKhkA8/KAnBzt14cOKXdsIhIYAMmhOFMFsCIBUBYWJqqB8hQxa9YY3/fwYWDSJGD+fDFC31Q5OUBsrDZc3rwp+h9a6scfgTlz2HQNaH9f5WVBGQCFkn18WQEkUh4DIDkUuQJ47ZrhAGGv6wDLdCuASkz3Ia9JbigAHjkino+KAmbNElMz1a8PzJhRfiXv/n3g6afFB29QkPh+APjyS+DcuYqfb16eaE4eP140Ybs6Z2oCVrIPoNz/T57u6K+/So+YJiLLWDQKeN060/ft08eSVyISwsLEfW4ukJ1deoohe68A1q2rvTe2lrE5evcWI4EPHRJrCcvHX7AA+Ne/xGM3NxHm5H3eekus1X3ggPGpcmbMECuP+PsDCQkiRG7cKB6//nrZFceyXL+unST+q6/EspGuzFATsCQ5zuhuOagB1qkAPviguCaZmcCxY+L3kIiUYVEA7NvXtP1UKu3ap0SW8PMToS8rS1RLHC0Aduok+u49/rgyxwsJESFq505g7VpRWcvJAaZOFc/36yeabZs2BQoKgOXLxesnJQG//iqeN+TECXH/3nvaD92ZM8VAkLVrRTjs0sX8801N1T5etUqsiqJbFXU18u+rXAHMyxNhJzCw0k7JLNZuAq5ZU/zRl5go/oBhACRSjkVNwMXFpt0Y/khJZQ0EsfcA6OEhKl/PPqvcMeVm4LVrxf3XXwO3bolRxv/7nwh/AODpCcTFAePGia8//dR4Pzy5uU2engQAmjUDXnlFPI6NFf0PZ80SVcGFC4Fp08StrCCgGwCLisS5ujL5Ovv7AzVqiMeO1A/QFgFQDn3sB0ikLPYBJIdT1kAQew+A1iAHwB07REXt//5PfP3WW4abeMePF6OJ9+8Htm0zfEw5mJTsSzl9uli2Li8P2LRJDC6JjQVGjhQrlMg3Y+QAKAfLBQtcd/1bSdLvs1reCHd7ZO0+gDVrAm3aiMccCUykLIuagL/6Cnj5ZfFh8tVXZe87frwlr0SkpTsQpCRXDIAREUDLlmLQx3PPiepJRISYtsWQ4GDgpZdE9e3TTw035cqjhX189LfXqCEqMadOicpfQoIIdbVriyrW//4nqoIvv6zt16YrLU3cP/+8CJB//y2msRkxouLv31EVFGgfe3mJP2z++suxBoLYsgJ49Kj4w8NeB3gRORqLAuCsWcDgweJDQh4laIhKxQBIyilrNRBXDICAqAIeOSKqeoDoA+jpaXz/KVPEtDAbNwLJycDDD+s/b6wCCIh/z02bitvEidrtkiT6ryUmAm+8AfzyS+nvlSuAtWuLpujXXxd/PA4f7jgDH5Siuwycl5fjVwCtFQDr1RN9Im/dEiFQrggSkWUsagK+eFHbb+XiReO3CxeUOFUigU3ApcnNwIAYVDF0aNn7P/CAqMIBwGeflX6+rABojEoFfPGFGHW8ahWwfXvpfeQAGBoqqn5Vqoiq19tvu940H7oB0BmagK0RAIOCxO8Vm4GJlKd4H8CbN/X/UyBSmiMPArGWFi2Ahg3F43//27T3/+9/i/sVK/QHZwDGm4DLExmpnX5m4sTSA8Dk1wkLA6pXF5VIQEw78/DDoh9jerqYa/DIEecOhfJ7c3MTfTXLm+Tc3ty/rx/6lOwDqFsBBDgQhMgaFAmAt28DY8eKv9ZCQkQfo6Ag0cRz+7YSr0CkVdYHpfyh6moBUKUSU7x8+aWY8NkUrVqJeQOLi8XgEV0VqQDK3n9fTM+TlCRW/dAl9wGU53OcPl3MSRgSIvoVPv64eNyokQiEcpXSGZX8Y8XRKoAl/9BXsgKoOwgEANq2FfebN4vfVyKynMUB8NYtoF074PvvxdQWM2eKUYj9+gFLlgDR0aJfEJFS5A/K1NTSHwauWgEERJVk/HjjkzsbIk9GXXIkriUBsGZNMToY0J8svrhYTAQNaAOgSiUGrpw4IQamuP3zP1LVquI+IcF5RwmXXLWmrMFN9shaAbCoSHtsOQD26CFGjl+6JAYPEZHlLA6AH3wgPmzPnxedyidMEE0/CxaIZhxPz7KnhSAyV0iICA6FhaXXDHXlAFgRvr7ivmTIqmgTsOyRR8T92bPabTdvip+ZSiVaCXQFBgKLFokQUVgoVnkJDRUjZeWBLc6mZLW6Xj1xn5YmmsHtXckAqFQT8K1b2vkp5QmxfX2BYcPEY1efO5JIKRYHwLVrRcUvJKT0c6GhooN5RZeNIjLE01MbIEpWSxgAzSMHPCUrgIBowgXEH4ZylVZu/g0KMj5C2dtbVDBVKuCxx8S2P/+s2DnYu5K/q4GBolkeEKOz7Z21KoDyH3XVq+v/nsh9S3/7rXSXBSIyn8UBMDUVaN7c+PORkdr/+ImUYqy/VMlmNSqbXAGUK34ySwNgvXoiyN27pw3pugNATNGpk7h31gBo6BrHxor733+3/fmYSw6A8vkrFQBL9v+TPfigmLOyuBj49ltlXovIlVkcAIOCRL8MY3SniiFSirGBIKwAmsdQE3BRkWiGBSreBOzpKSajBkRXEKDiAXD3bu35lOXSJdH30FH+4DT0uyoHwI0b7X8JTTkAyms5K10BLBkAAe0Ap+++059Im4jMZ3EA7NlTzOGlO6eVLC8PePddsQ+Rkox1mGcANI+hJmDdqVcsqaTK09LI/QB15wA0RWSkGE18546YrLo8I0aICenfecfsU60UhqrV7duLwQ63bgEHDlTKaZmsZABUqg+g7hyAJfXtK7obpaYC69cr83pErsriAPj++8Dp06LPz2efiVF/69YBn3witp08KaZ6IFKSsdVAGADNY6gJWKkAKPcDlCuAJaeAKY+7O9Cxo3gsNwMXFQFPPimmi9ENHLt3A1u2iMerVxv+g9TeGJqyyMMD6N5dPLZWM/Ddu+L/7ePHLTuOHADr1tUeVwllVQC9vLTLBn7xhWP8nInslcUBsHZtYM8eoFkzsfxU377i9vbbYtuuXdq/EImUwiZgZRhqApbDoJubCCQVZawCaGoABEr3A1y7VgSjHTuAN9/U7vfhh9rHmZlivjh7Z+x31dr9AD/6SPxR/sIL2tG2FWGtAGisD6Ds5ZfFNdu1S0wPc+uWMq9L5GoUmQg6IkL8Z3XzJrB3r7jduCHm8JI/BJQ0ffp0qFQqvVuoTruSJEmYPn06wsPD4evri86dO+N4iT938/Ly8OqrryIoKAh+fn7o06cPrly5ovzJklWwCVgZhgKg7uAES9bnLVkBrEgAlEcC79wpwsrnn2ufmzsX+OMPMU1MQoKoGPbqJZ5bscL4Md95R8xdWtnzkxobsCR3mTl4sPQ0R5bKzgbmzROPjx4Ftm6t+LFKNgHfv6/MJM1lVQABMcBo7VrA3x/Ytk00m+tON0REplF0Kbjq1cWM7W3baudvspbmzZsjNTVVczt69Kjmuc8++wxffPEF5s6diwMHDiA0NBTdu3dHTk6OZp8JEyZgzZo1WL58OXbu3Ik7d+6gV69eKLL3ntcEgE3ASimrD6ClI6nlP/7OnRPBwNw+gIBYA9bHR4SC774D9u0T5zVggHj+pZdEawMADB6sXd5u7drSI5sB0Vrxn/+I0PjbbxV6W4oxtmpNWJhYBUWStNPBLFkC9O5tedBZsADIytJ+PWtWxY9VMgACylQBy+oDKIuNFRXAunXFNYmOLr2cIRGVTfG1gG3Fw8MDoaGhmlvNf/5clCQJs2fPxttvv41+/fohMjIS33//Pe7evYuffvoJAJCVlYWFCxdi5syZ6NatG1q1aoWlS5fi6NGj2OwIbUekqQDeuKHfD4gB0DyG+gBaOgm0rH597VQwqanm9wEExM+xXTvxeOJEcT90qAiDDzwg5oPbvFlUKt96C+jQQfxuZGeLqqCu4mLtMQDRUqGrsBD473/FzAW2UNbvqtwMvH69WFLzpZdEYB07tuKvl5enDXxyUP7tt4qHSjkA1q6t3aZkADRWAZS1aCH+IGjWTJzLDz9Y/tpErsRhA+DZs2cRHh6OiIgIDBw4EBcuXAAAXLx4EWlpaYiJidHs6+3tjccffxy7d+8GABw6dAgFBQV6+4SHhyMyMlKzD9m3GjW0k8Tq/uXPAGie8pqALeHpKUIgINYFlgdtmBMAAW0/wNxcEfQmTxZLxS1Zom2iHjAAaNJE9Fvs319sK9kM/PPPIjDIdB8DYjnLceOAmBjbLD9X1pyVcgD83/9EKAVEmE5MrHj/xmXLRJeJ8HAxCOSpp8T2r74y/1hFRdom9KAg7e+REgGwvD6AukJDtcsO/vijZX0aiVyNQwbAdu3a4YcffsDGjRvx7bffIi0tDR06dEBGRgbS/ikzhJRYmiQkJETzXFpaGry8vFC9enWj+xiSl5eH7OxszU23SZlsS6UyPBDEWLMaGWbNJmBA2w9wxw5x7+8P+PmZdww5AALA008DjRtrt3/yiZiIXncQiNw8vH69NpDk5mqrXvKKEkeO6AeWxERxf+6caCbWlZSk/KCMsn5Xo6PFFDiACLtr12qrf2++aX5fu+JiMUsDIKqg3t7aaujixcDt2+Yd7/Zt7TkEBmp/ppYGQEkyvQIoe/ZZ8X6OHxc/UyIyjUMGwNjYWDz77LNo0aIFunXrhg0bNgAAvv/+e80+qhK91yVJKrWtpPL2mTFjBtRqtebWrFkzC94FWcrQQBBWAM1jzSZgQNsPUB7Fa07/P1l0tLbaO2WK/nNvvAEcO6Y/2KxtW1F5zM0VU8JcuybWI796VQwgmDVLVCELC4HDh8X3SJIYUCD79FNxXEAco21bMf3ML7+Yf/7GlFUB9PAQVbrOnUW/xaefFn0dq1YFDh0y/zzWrRPTdanVYhQtADzxhGhGzc0VTermkJt//f3Fv7UqVcTXls4FmJOjvS5l9QHUVa2a6B8JiCogEZnGIQNgSX5+fmjRogXOnj2rGQ1cspKXnp6uqQqGhoYiPz8fmSWGAeruY8jUqVORlZWluZ04cULhd0LmMDQQhAHQPNZsAga0FcCDB8W9uc2/gAgZv/wiKlXyvIBlUam0zcBxceIPBbn69fnn4j23by++lvsBnjoFXL8uQu+TT4pw+K9/AStXimPJK5GMHVt6DVzZiRNAnz7A0qWmva/yqtWvvSZG6UZGiq+Dg4HXXxeP5cn3T58WTbunT5f9WsuWifvRo4GAAPFYpQImTBCPP/kE+KcXjUnkayCv8iQHQEsrgHL1r0oV7TFNERcn7n/6yf5XUCGyF04RAPPy8nDy5EmEhYUhIiICoaGhSJTbcwDk5+dj+/bt6NChAwAgKioKnp6eevukpqbi2LFjmn0M8fb2RkBAgObm7+9vvTdF5WIF0HLWbgKWK3NygKpIAAREsBo2zPT9R4zQNku6u4tmyrg44LnnxLaSAVCeDqVDB2D+fFFp271bhL+iIjHCuFkzID1dfyCJbOVKUSVcv970kbUV+V2dNEkEwXPnRPh68EHgxReB558v+/vkqXgefVR/++DBQFSUCHS9eumPEC6LtQKgOf3/dPXsKX7GaWliaiAiKp9DBsApU6Zg+/btuHjxIvbt24fnnnsO2dnZGDp0KFQqFSZMmICPP/4Ya9aswbFjxzBs2DBUqVIFgwYNAgCo1WqMGDECkydPxh9//IGkpCS8+OKLmiZlcgzyVEO6hdyymtWotLImglaiCViuAMoqGgDN1bixCBM5OWLNWHmUqNzDo2QAlJt/u3QRo1pnzNAea8gQMUBk0SIxyOTHH4F/ep3g8mURyvr31zZ/3rlj2jlW5He1alVg2jTt68hN4+fPl/198shmeX1mmbc38Ouvopp+8qToP2nKusslA6BSfQDN7f8n8/LS9v2UK7CSJIIvK4JEhlkwz3/luXLlCl544QXcvHkTNWvWRPv27bF3717Uq1cPAPDGG2/g3r17GDNmDDIzM9GuXTts2rRJr2I3a9YseHh4oH///rh37x66du2KJUuWwN3dvbLeFplJbsrKztZuYwXQPGUtBadEiJangpE/hCvSB7CiygqwUVHivK5eFSFODoCdO4v7V14Rz/n5iRWO3N3FdDQTJwIzZwLDh4uQoju//NNPizBlaj+4ig5YeuUV0ZexRg0xFU5IiAhe9+8bfs+ZmdrKnjwqW1etWqJy2amTmHfw1VfFyGA5XBpirAJoaR/AigZAQFR4v/5a9NmMigK+/Vb8fGJjRR9IS1a1IXJGDlkBXL58Oa5du4b8/HxcvXoVq1at0huQoVKpMH36dKSmpuL+/fvYvn07IuWONP/w8fHBnDlzkJGRgbt372L9+vWowzXrHIo8SpIBsOKs3QdQdyoYwHYVwPL4+YkBEIDoW3jjhrgWjzwitrm7iyrgO++Ix7IPPhDN2unpIly4uYlq4po1oh8dYHoIqujvqkolpnBp314MlHD7539xYyubyNW/4GDjI7Bbt9YOoPjmG6BpU9GfzthoY2v3ATR1AIiu9u1FIM7NFX0b5XD++++Gm+1t7fXXRVO17v9XRJXJIQMgEcAKoBIM9QFUsgkY0B+hay8BENA2A8vz4HXsWH7orVJFVPkmTRLzCqani1G6fftqw5W5AdCSoO3mJlZgAsoPgCWbf0vq10+EwOBg0aQs9w8sudoOYH99AAH9QS3NmgFz5mgnh547VzufYkEBsGmTmAS7oMCy8zXHnDmiwipPR0RU2RgAyWExAFrO2k3AgH4/QHsMgHKYkZt/y9OsmWgGHjhQG4AAbQAsKDAtWCg1Z6XcF/bWLcPPy6N7H3ig/GO9+KIIf//5j6iwJyeLPpAlK4HG+gBWZhMwICbyTk8XU/iMGyeaheXK7Guvia/Dw4EePcTUMQ0aiJ+ltaty9+9rf97ffGPZGsxESmEAJIfFAGg5azcBA/oVQFv2ASyPHABlpgZAY3SbV02phCk1YEmuABoLgKZWAGVVq4pl9fbvF5W9LVuAL77Q38faTcAVDYAqlfhe3elc33hDLB9YVCQGiNy8KfYJDhb9P6dMEX0qk5IsO/eylBxdPXKk5WGZyFIMgOSwSgZASWIANJduE7C8jJbSTcByBdDTU79iVtkaNdKGpypVtP3/KsrLS9sfz5QPd6V+V8urAJobAGWNGwOzZ4vHb70lqoEye+wDaIxKJab2eeUVsaZyQoKYOurvv8UE2I0bi5VN3nvP+DEKCkR1dMqUii03JwfAKlWAunVFVfbttyv0dogUwwBIDks3AEqS+Atf/s+ZAdA0cgUQ0Fb+lK4Atm4tjvXww/qVmcrm5ibm7gNE/z9Lf2dUKvOaQm3VBFzRAAiIStXTT4sANGiQNuDZYx/Asnh7A/Pmial8evQQI4J9fMR8kevXi31++w04c8bw969bJybTnjlT3MwlB8AaNYAFC8Tjr74Sr0lUWRgAyWHJAbCwUFSw5IoKwABoKt0AKFf+lA6AoaHig3XzZmWOpyR5AuUXX1TmeOYEQKWagMsKgMXFwKVL4nFFAqBKJapkoaHaeQLv3LHfPoAV0bixdik5ueJZ0qJF2sdvvgls327ea8gBUK0WAfRf/xJ/rD7/vHadbED8TqxaJQYanT9v/prPROZgACSH5eenrShlZzMAVoSnp7bZUu4HqHQTMCCaveTAbk+GDxdVpyFDlDleZVYADY0CTksTr+PmBlR0lqugINF3zttbVKw6dtT+jihZAczLExN3A7YNgIB2mpjvvy8dpK9eFc3GABATI1oa+vc3PDraGN0ACIgRwb17i+vYu7dYkzo+XkxN9NxzYlR5w4ZiGcQXXyy/2Tkvj2GRzMcASA7LzU38BwmIACh/oAKc9NVUKlXpqWCUrgDaM5VK2X6J5qyIYYs+gHLzb506ZU/sXJ6uXcXI1Zo1gb/+Ets8PLT//pQIgHL1z8NDG5RspXNnoGVLcf5yE63s++9FuOrUScz3+NBDYqTxgAGm9wcsGQA9PYEVK4DHHxf/d3XoIOZ2PHNGDE55+GHx7+/uXdH0fOqU8WPv3y9+78LCxHKJK1da3hRProEBkByabj9A3Q9Ue+prZu9KTgXjSgFQaZXRBFzWKGBL+v+VFB0twkbz5uLrkBDtvzMlloKT+/8FBdn+369Kpa0Czpmj/dkUF2ubf4cPF0F31Srxf8yuXdo1lstz+7a41w22vr6ib2Hr1uLfnKenGGRy9qwYkZybCzz2mNi3rCbnrVtFVTI9XYTV/v3FhNNE5WEAJIdmKAAyuJin5FQw1mgCdhXmLIlmi0Eg5swBaIr69UXwmTAB+L//025XYim4yuj/p2vgQBFqr10Dli8X2/78U/TFq1pV21+0YUMxbQwApKaadmy5Alitmv72gAAgMRH48kvg6FHg88+1/6e5uwNPPCEelxUAr18X908/DUyeLL7vzz/LrhoSAQyA5OB0l4PjFDAV48pNwEqrSAXQFk3ASlQAZWo1MGuWCEwyJZuAKysAenuLyaMB4OWXxYTNCxeKrwcO1J/nUZ7PMi3NtGOXbALWFRgIjB8PNGlS+rnHHxf3O3YYb26WA+Cjj4pQLlf/li417dzIdTEAkkMz1gRMpitZAWQArDh7GwVsjQBoiJIBUMk5AM01aZIYlJGXJ+YNlNdHHjFCfz8lA2BZ2rUT/59duyYqkYbIATAkRNzHxYn7Zcs4MITKxgBIDo0B0HIl+wCyCbjizOkLp3QTcFaW6Aumy1YBUMk+gJVVAQS0az3/3/9pB5I1bSqCmC5bBUBfX+1clcaageUAKJ9T795icM6lS6K5nsgYBkByaAyAlmMTsHIqcxCIJOkvOVZQAFy5Ih7bqgLoyH0AZSqV6Eu3Y4eYkmX+/NKDUmwVAAFtM3B5AVCuAFapAjz7rHjMZmAqCwMgOTQ5AGZlMQBWFJuAlWNOEFLq99XTUwxSAPSbgVNSRBOgj4/112CW33deXukqpKnsJQDKoqPFlCqdOpV+Tg5blR0ACwu1lVP5nABtM/D//qc/PZYxP/4I7Ntn/rmRY2MAJIfGCqDl2ASsHFMrgJKkXBMwYLgfoNz8W7++9adVkQMgoP1Dwlz20AfQVHKglqtv5bEkAHboIJqjU1K0q7rIbt4Uv0tubvrX7fHHgVq1xPQzGzaUffwDB8RE6I89JkYkk+tgACSHxgBoOVYAlWNqANRdt1qJ62woACo9BUxZdJcUrGgzsD30ATSVuU3AhuYBNJWfH9CmjXhcsgooB9CgIDH9i8zdHRg8WDxevFgMIrl2zfDPZu9ecZ+fL6aS+fNP88+RHBMDIDk0BkDLsQ+gckwNgLrNctauAFq7/x8gKoyWjgS2tybgsuhWAMsbaavbN7PkPICmMjYhdMn+f7rk9a1/+01UA2vVEkHx5En9/Q4fFvd+fuL/gKeeElVBcn4MgOTQGAAtx4mglWPqaFil1602tB6wLQMgYFkALCoCMjLEY0cIgMHB4l73vI25f18MyAEqvsSd7nyAusoKgC1aiMmrPTzETaUS57Junf5+cgD87juxJF5Ojhh53KYN8O67DIPOjAGQHBoDoOW4FJxyTK0Ayr+rKpUy61YbWg7OkQLgrVvaJnEl12a2Fk9PbZ+78pqB5eqfSqUdrGOuRx8V/fzOnweuXtVuLysAAmIQSEGBuMkrt+hODXPvHnD8uPY11q0DnnxSfH3oEPDRRyIMvvKK9v8Hch4MgOTQdAOgkp3qXYluE3BhoXYUJwOg+UwdBaz7u6rEAI3KbgIGzJsCpyS5/1/16soEYlswtR+gHAADAkSIq4iAAODhh8XjPXu02+XXNhYAdXXoIO5379aG7aNHxb/3mjVFE7G/vxg0kpoKLFkiKogqlVgVpUMH45NRk2NiACSHxqXgLKfbBKzbN41NwOYztwKoVMguGQDv3NH2qXOECqAj9f+TmRsAK9r8K2vaVNzrhrCSk0CXpXVr8W86IwM4fVpsk5t/W7fW/0MkNBQYOlRUEH//XVQ7k5LEfp98ot/VgBwXAyA5NENNwKxcmUe3CVg3API6ms/cAKjUHyslA6A8XUi1ahUfeGAuBkDDlAqAcpCXK7tA+U3Aury8gEceEY937xb3hw6J+6go49/Xo4cIfx06iP9np04F6tQBJkwA0tPNegvlun9fnFtSkrLHJcMYAMmhyQEwP190XgZYATSXbhOwHADd3BynKc6emDsK2FoB0NbNvwADoDGWTAGjy9IACAAdO4p7uR+gbgWwLLVrixHIS5aIwSW5ucCXXwL9+pn2umWRJHGsDh3ENerYUQxAkacxIuthACSHptupWv4QYQA0j24TMEcAW0Z3FLDcz8oQpavV8iAQuWnOlnMAypToA+gIk0DLzK0AWlqJlQOgbjCyJADm54s+gED5ARAQfxAOHQocOQIkJIiBMLt2aauIsgsXgL//Nu18ALHayoQJom+j/O+iuBg4c8b0Y1DFMACSQ3N314ZA+UOEAdA8hvoAsvm3YuQQVFxc9hJcrADqc+YKoNJNwH//LQZuFBVpr5upAVAeCHL6tKjoFRSIPx7q1zf9PFQq0Sz8/PPi66+/1j537RrQsiUQGQmcPVv+sfLygDffFI9feQU4dw7o1k18Lb83ezNv3jxERETAx8cHUVFR+LOMmbNXr16N7t27o2bNmggICEB0dDQ2btxow7MtGwMgOTy5GZgBsGIM9QFkAKwY3SXRyqqEWbMPoCQxANqCrQNg7driD96CAhG0MjLEHxoqlenXLTBQO5hk7lxxX3IAiKleeUXc//STtvL86adiANKdO2Iiann+Q2PmzRO/q2FhwOefAw0aaN+LPQbAFStWYMKECXj77beRlJSETp06ITY2FikpKQb337FjB7p37474+HgcOnQIXbp0Qe/evZFkJ50cGQDJ4TEAWka3DyCbgC3j4aH9/TMlACo9CrigQLxuZQRAUyfBNoQBsHweHkDduuLxxYva5t8aNczrrytXAdevF/emNP8a0rGj6A947x7www8ilM6fL57z8QH27wc+/ND492dmap//8EPt74/cDUD+/9yefPHFFxgxYgRGjhyJpk2bYvbs2ahTpw6+1i2D6pg9ezbeeOMNPPLII2jUqBE+/vhjNGrUCOvli1/JGADJ4TEAWoZNwMoypS+c0k3AVapoj5WRUbkVQFfrA3jrVtnN/UoFQEB/IIi5/f9kcj9AuY9qWSOAy6JSaauA33wjqn95eWJC6SVLxPb//AfYudPw93/8sQiBkZHAsGHa7bauAObk5CA7O1tzyzPyw8zPz8ehQ4cQExOjtz0mJga75WHV5SguLkZOTg4C5b/YKhkDIDk8OQByEEjFsAlYWaYEQKUrgCqVtgp47pxoggPM69tlKVdrAq5eXQyEAMqeDsVeA6CsohVAQDTzVq0KnDoFzJkjtk2bBgwYAAwZIpqon3tOLDHXqhXQqBHQsKG4zZ4t9v/sM9G0LbN1AGzWrBnUarXmNmPGDIP73bx5E0VFRQgpccFDQkKQVl4Z+B8zZ85Ebm4u+vfvb/F5K4ETPZDD050KBmAANBebgJVlSlOoNX5Xq1cXzZHyqMywMNv+HCsaACXJMQOgm5tYE/jqVXHd69QxvJ+1AqD8/565AbBRI3Gdb9wQK380aFDx8/H3B+LixEAQSRLhsmtX8dycOcCff+qH1ZJ69hQ3XbZuAj5x4gRq1aql+dq7nL/KVCU6TEqSVGqbIT///DOmT5+OX3/9FcHyYtKVjAGQHJ78H6GMAdA8bAJWVmU0AQPaCuDBg+LellPAABXvA5iTow3EjtQEDIhmYDkAGqPUPICA9md68aK2CdqUVUB0qVSiH+Cvv4rqX0WXp5O98op2JPD06doBJQEBwNatwObNokqoVot7+fXc3MSI4ZLZydYVQH9/fwSU/BAxICgoCO7u7qWqfenp6aWqgiWtWLECI0aMwMqVK9FNHuZsBxgAyeGV/I+VAdA8DIDKMqUvnDVWrZEDoFwBtGX/P6DifQDlSk+VKvqjqB2BKQNBlJoHENCvAMph0NwKIAD07SsCYGys5efUogUwa5b4/0Ou/snq1QNGjDDvePY6CtjLywtRUVFITEzEM888o9memJiIp59+2uj3/fzzzxg+fDh+/vlnPPXUU7Y4VZMxAJLDYwXQMnIALCrSfnizCbjizOkDaI0KoDxRcGUFQHMrgI7Y/CszJwAq2QR89SogzzxSkQA4dCjQvr1oDlbChAnKHAfQ/h5kZopR7XI/S3swadIkxMXFoU2bNoiOjsaCBQuQkpKC0aNHAwCmTp2Kq1ev4ocffgAgwt+QIUPw5Zdfon379prqoa+vL9RK/EJYiAGQHF7JAMjqlXl0w57cXMVrWHGV3QQsYwC0PjkAGuvjJknKBsDgYHGd797VNvVXJACqVMCDD1p+PtYQGCjOT5LECOuKvD9rGTBgADIyMvDBBx8gNTUVkZGRiI+PR7169QAAqampenMCzp8/H4WFhRg7dizGjh2r2T506FAskYdKVyIGQHJ4rABahgFQWeYMAlHyOsvLwclsHQAruhScMwRAYxXAe/eAwkLxWIkAqFKJkd0nTmjXPrengKQEd3cRAjMyxO+Gvb2/MWPGYMyYMQafKxnqtm3bZv0TsoBDTgMzY8YMPPLII/D390dwcDD69u2L06dP6+0zbNgwqFQqvVv79u319snLy8Orr76KoKAg+Pn5oU+fPrhy5Yot3wopgAHQMm5u2iAiB0A2AVccK4DmfZ8cAB1tAAhQfgCUq39ubvrrllui5M/V3gKSEuy1H6CzccgAuH37dowdOxZ79+5FYmIiCgsLERMTg9wS/+P27NkTqampmlt8fLze8xMmTMCaNWuwfPly7Ny5E3fu3EGvXr1QVFRky7dDFmIAtJwc+FgBtFxl9wEExMoQtWsrd2xTVDQAyoNAnLECKAfAgICKLbdmSMkAaCcziijKnlcDcSYO2QSckJCg9/XixYsRHByMQ4cO4bHHHtNs9/b2RqiRMfJZWVlYuHAhfvzxR82w7KVLl6JOnTrYvHkzevToYb03QIpiALScr6/4sGIAtFxljwIGxJJhupPr2oIr9wGUA2BeHrBpE9Cli6j4KTkFjEw3AAYG2tcgCaWwAmgbDlkBLCnrnz+zSi6vsm3bNgQHB6Nx48YYNWoU0nWmaz906BAKCgr0lnUJDw9HZGSk0WVd8vLy9JaMyZE7YVClYgC0nDwSWF7UnU3AFWcPTcC2ngMQ0L7vvDwxotxUzhAAc3PFH1DPPQf06QN89JHYruQAEJluAHTG5l+AAdBWHD4ASpKESZMm4dFHH0VkZKRme2xsLJYtW4YtW7Zg5syZOHDgAJ544gnNOn9paWnw8vJC9RI9p8ta1mXGjBl6S8Y0a9bMem+MTMYAaDk2ASunMpaCA/QDoK37/wH6c/iZUwV05ABYtar25z1kCPDbb+Lx9u3iXsk5AGWuEADZBGwbDh8Ax40bh7/++gs///yz3vYBAwbgqaeeQmRkJHr37o3ff/8dZ86cwYYNG8o8XlnLukydOhVZWVma24kTJxR7H1RxDICWkyuA8gcWA2DFVeZScLLKCIC6VWNzAqD8Ie+Ig0AAbRVw3TrttuRkMYedtSuA5q4C4ihYAbQNhw6Ar776KtatW4etW7eidjk9nsPCwlCvXj2cPXsWABAaGor8/Hxkym1e/yhrWRdvb28EBARobv7+/sq8EbIIA6Dl2ASsnMpqAlartQMNKiMAqlQV6wfoyBVAQD+Effyx+Dncvw8cP26dAKhWa6u9zloBZAC0DYcMgJIkYdy4cVi9ejW2bNmCCBP+t8vIyMDly5cRFhYGAIiKioKnpycSExM1+6SmpuLYsWPo0KGD1c6dlOfhod/8xABoPjkA3r8v7lkBrLjKagKW508DKqcPIGD+XIB5edr57By1AihPqDxiBPDmm0BUlPj6wAHrBEBAG/CdNQCyCdg2HHIU8NixY/HTTz/h119/hb+/v6bPnlqthq+vL+7cuYPp06fj2WefRVhYGC5duoS33noLQUFBmjX81Go1RowYgcmTJ6NGjRoIDAzElClT0KJFC7tarJlMExCgrTowAJqvZMWPAbDizBkFrPTv6gcfAEeOAG3aKHtcU5lbAbx1S9y7uyvbT86WPvsMePZZICZGVEEfeQTYskWs1CH/O1I6AEZFiTWfmzdX9rj2ghVA23DIAPj1118DADp37qy3ffHixRg2bBjc3d1x9OhR/PDDD7h9+zbCwsLQpUsXrFixQq/ZdtasWfDw8ED//v1x7949dO3aFUuWLIG7redPIIsFBGinYmAANJ9cAZSxCbjiKqsJGACMLFBgMxUNgNWqKTdPnq0FBgKxsdqv5fB94ADQooV4rHQAnDkTGDYMaNdO2ePaCzkA3rwploRz1N8Ne+eQAVCSpDKf9/X1xcaNG8s9jo+PD+bMmYM5c+YodWpUSXT7ATIAmq9kAGQFsOIqqwnYHpgbAOU+pyVXMXFkjzwi7o8e1QYZpQNg1apAdLSyx7QnchNwQQGQna389SPBIfsAEpWkGwCd7UPVFtgErBxTRgFbqwJY2eT3buoUqXIF0JkCYN26IvgVFgLylLKO2rxdWXx9tb9LbAa2HgZAcgqsAFqGTcDKkT+47t0DiosN7+OsFUB5cMKpU6bt74wBUKXSNgPfuSPuWcEyH/sBWh8DIDkF3QDo4ZAdGyoXm4CVIwdAwHgV0FqDQCpb69bi/vBh0/Z3xgAIaJuBZQyA5uNIYOtjACSnIAdALy92GK4IBkDl6FZPjfUDdNYm4FatxL25AbDEgkwOjwHQcqwAWh8DIDkF3QBI5ivZ5Msm4Ipzcyt/KhhnbQJ++GFxf+WKaR/czjgIBCg9DQ8DoPkYAK2PAZCcAgOgZVgBVFZ5A0GctQnY3x9o3Fg8Tkoqf39nbQIODQV0F6diADSf3ATMAGg9DIDkFOT/YJ3tA9VWGACVVd5UMM7aBAyY1w/QWQMgoK0Curvr9wsl0+jOBUjWwQBIToEVQMuwCVhZ5QVAZ20CBszrB+isfQABbT/AgAD2S64INgFbHwMgOQUGQMuwAqgsUwOgM/6+yhVAU5qAnbUPIKBdpUMOMmQeNgFbHyfMIKcgzz8WHl655+GoGACVVdYgkKIicQOcMwDKFcBz54CsrLL7vzlzE3CXLsC0ac67XJu1sQnY+hgAySk0bw5s3Qo0alTZZ+KYuBKIssqqAMrVP8A5r3ONGkC9esDffwPJycDjjxver6gIuH1bPHbGAOjmBkyfXtln4bjYBGx9bAImp9G5M1CrVmWfhWPSrQC6u3MybUuVNQpYHgACOGcFEDCtH2BWFiAv6+6MfQDJMnIAvHMHuH+/cs/FWTEAEpFeAHTGqpStmVoB9PS0zfnYmikjgeXm36pVnfc6UMWp1do/RNkMbB0MgESkFwA5AthypgRAZ161xpSBIM48AIQsp1JxIIi1MQASkV7oYwXQcmUFQGeeA1AmNwGfPGl8MmxnHgBCymA/QOtiACQiNgErrKxRwM48B6AsLAwICQGKi4G//jK8DwMglUeuALIJ2DoYAImITcAKM7UJ2FmpVOX3A3TmSaBJGawAWhcDIBGxCVhhpowCduYACAAtW4r748cNP88KIJWHAdC6ONkDEcHTU0z/UlTEAKgEUyqAzn6dmzQR96dPG36eg0CoPIMHi4m05T6lpCwGQCICIJqB79xhE7ASXL0JGAAaNxb3Z84Yfp4VQCpPdLS4kXWwCZiIAGj7ATp7ZcoWTBkF7OzXWa4AXr5s+DqwDyBR5WIAJCIA2sqfswcTWzBlFLCzVwBr1NBW986dK/08K4BElYsBkIgAaCuAbAK2HAeBCGU1AzMAElUuBkAiAsAmYCVxEIhQ1kAQDgIhqlwMgEQEgE3ASuIgEMFYBVCS2AeQqLIxABIRADYBK0kOgAUF4qbLFZuAS1YA797VBmFWAIkqBwMgEQFgE7CS5AAIALNniyXRZK7YBHzmjKj6yeTqn6en/rUiItthACQiAGwCVpKXFzB6tHj8xhtAbCyQlia+dqUm4IYNxf3t2/rruer2/1OpbH5aRAQGQCL6ByuAypo3D5g/X1zXTZuAhx4CNmxwnXkAAfHe69YVj3Wbgdn/j6jyMQASEQCgVi1xHxZWuefhLFQq4OWXgUOHxLq4N24AvXoB334rnneFCiCg3wws4xQwRJWPAZCIAABvvQWsWgUMHVrZZ+JcmjYF9u4FJkwQX6ekiHtXCYCGBoIwABJVPgZAIgIAVKsG9OvHUcDW4OMDzJoFxMcDwcFiW82alXtOtsIKIJF98qjsEyAichWxscDRo8Dvv4uw7QoMzQXISaCJKh8DIBGRDQUHu1YzuxwAz50DiooAd3cOAiGyB2wCJiIiq6lbV4x4zs8H/v5bbGMTMFHlc/kAOG/ePERERMDHxwdRUVH4888/K/uUiIichru7dj5AeSAIAyBR5XPpALhixQpMmDABb7/9NpKSktCpUyfExsYiRR6mR0REFivZD5ABkKjyuXQA/OKLLzBixAiMHDkSTZs2xezZs1GnTh18/fXXlX1qREROo+RIYHkQCPsAElUelw2A+fn5OHToEGJiYvS2x8TEYPfu3Qa/Jy8vD9nZ2ZpbTk6OLU6ViMihyRXAhQuByEjgyhXxNSuARJXHZQPgzZs3UVRUhJCQEL3tISEhSJMX7SxhxowZUKvVmluzZs1scapERA6tSxcgIEAsg3f8uBgN7OMDhIZW9pkRuS6XnwZGVWIlckmSSm2TTZ06FZMmTdJ8ffXqVYZAIqJy1K8PpKUBly4Bly+LW9OmgL9/ZZ8Zkety2QAYFBQEd3f3UtW+9PT0UlVBmbe3N7x1VnDPzs626jkSETkLX18R+po2rewzISLAhZuAvby8EBUVhcTERL3tiYmJ6NChQyWdFREREZH1uWwFEAAmTZqEuLg4tGnTBtHR0ViwYAFSUlIwevToyj41IiIiIqtx6QA4YMAAZGRk4IMPPkBqaioiIyMRHx+PevXqVfapEREREVmNSwdAABgzZgzGjBlT2adBREREZDMu2weQiIiIyFUxABIRERG5GAZAIiIiIhfDAEhERETkYhgAiYiIiFwMAyARERGRi2EAJCIiIjLBvHnzEBERAR8fH0RFReHPP/8sc//t27cjKioKPj4+eOCBB/DNN9/Y6EzLxwBIREREVI4VK1ZgwoQJePvtt5GUlIROnTohNjYWKSkpBve/ePEinnzySXTq1AlJSUl46623MH78eKxatcrGZ26YSpIkqbJPwlFduXIFderUweXLl1G7du3KPh0iIiIyQUU+v9u1a4fWrVvj66+/1mxr2rQp+vbtixkzZpTa/9///jfWrVuHkydParaNHj0aR44cwZ49eyx/ExZy+ZVALFFcXAwASE1NreQzISIiIlPJn9tZWVkICAjQbPf29oa3t3ep/fPz83Ho0CG8+eabettjYmKwe/dug6+xZ88exMTE6G3r0aMHFi5ciIKCAnh6elr6NizCAGiB69evAwDatm1byWdCRERE5oqMjNT7etq0aZg+fXqp/W7evImioiKEhITobQ8JCUFaWprBY6elpRncv7CwEDdv3kRYWJhlJ28hBkALtGrVCvv370dISAjc3JTtTpmTk4NmzZrhxIkT8Pf3V/TYzorXzHy8ZubjNasYXjfz8ZqZz9RrVlxcjJSUFDRr1gweHtooZKj6p0ulUul9LUlSqW3l7W9oe2VgALSAh4cHHnnkEascOzs7GwBQq1YtvfI0GcdrZj5eM/PxmlUMr5v5eM3MZ841q1u3rsnHDQoKgru7e6lqX3p6eqkqnyw0NNTg/h4eHqhRo4bJr20tHAVMREREVAYvLy9ERUUhMTFRb3tiYiI6dOhg8Huio6NL7b9p0ya0adOm0vv/AQyAREREROWaNGkSvvvuOyxatAgnT57ExIkTkZKSgtGjRwMApk6diiFDhmj2Hz16NP7++29MmjQJJ0+exKJFi7Bw4UJMmTKlst6CHjYB2ylvb29Mmzat3P4IpMVrZj5eM/PxmlUMr5v5eM3MZ81rNmDAAGRkZOCDDz5AamoqIiMjER8fj3r16gEQI4t15wSMiIhAfHw8Jk6ciP/+978IDw/HV199hWeffVbxc6sIzgNIRERE5GLYBExERETkYhgAiYiIiFwMAyARERGRi2EAJCIiInIxDIBWMmPGDDzyyCPw9/dHcHAw+vbti9OnT+vtI0kSpk+fjvDwcPj6+qJz5844fvy43j4LFixA586dERAQAJVKhdu3b5d6rczMTMTFxUGtVkOtViMuLs7gfvbOVtfs0qVLGDFiBCIiIuDr64sGDRpg2rRpyM/Pt/ZbVJwtf89keXl5ePjhh6FSqZCcnGyFd2V9tr5uGzZsQLt27eDr64ugoCD069fPWm/Namx5zc6cOYOnn34aQUFBCAgIQMeOHbF161Zrvj2rUOKa3bp1C6+++iqaNGmCKlWqoG7duhg/fjyysrL0juMsnwOA7a6bM30WVAQDoJVs374dY8eOxd69e5GYmIjCwkLExMQgNzdXs89nn32GL774AnPnzsWBAwcQGhqK7t27IycnR7PP3bt30bNnT7z11ltGX2vQoEFITk5GQkICEhISkJycjLi4OKu+P2uw1TU7deoUiouLMX/+fBw/fhyzZs3CN998U+Y1tle2/D2TvfHGGwgPD7fK+7EVW163VatWIS4uDi+99BKOHDmCXbt2YdCgQVZ9f9Zgy2v21FNPobCwEFu2bMGhQ4fw8MMPo1evXkbXXLVXSlyza9eu4dq1a/i///s/HD16FEuWLEFCQgJGjBih91rO8jkA2O66OdNnQYVIZBPp6ekSAGn79u2SJElScXGxFBoaKn3yySeafe7fvy+p1Wrpm2++KfX9W7dulQBImZmZettPnDghAZD27t2r2bZnzx4JgHTq1CnrvBkbsdY1M+Szzz6TIiIiFDv3ymLtaxYfHy89+OCD0vHjxyUAUlJSkjXehs1Z67oVFBRItWrVkr777jurnn9lsNY1u3HjhgRA2rFjh2Zbdna2BEDavHmzdd6MjVh6zWT/+9//JC8vL6mgoECSJOf+HJAk6103Q5zls8AUrADaiFx2DgwMBABcvHgRaWlpiImJ0ezj7e2Nxx9/HLt37zb5uHv27IFarUa7du0029q3bw+1Wm3WceyRta6ZsdeSX8eRWfOaXb9+HaNGjcKPP/6IKlWqKHfSdsBa1+3w4cO4evUq3Nzc0KpVK4SFhSE2NrZUs6gjstY1q1GjBpo2bYoffvgBubm5KCwsxPz58xESEoKoqChl34SNKXXNsrKyEBAQAA8PsZaDM38OANa7bsb2cYbPAlMwANqAJEmYNGkSHn30UURGRgKApimj5CLSISEhZjVzpKWlITg4uNT24OBgh2su0WXNa1bS+fPnMWfOHM1yPo7KmtdMkiQMGzYMo0ePRps2bZQ7aTtgzet24cIFAMD06dPxzjvv4LfffkP16tXx+OOP49atWwq9A9uz5jVTqVRITExEUlIS/P394ePjg1mzZiEhIQHVqlVT7D3YmlLXLCMjAx9++CH+9a9/abY56+cAYN3rVpKzfBaYikvB2cC4cePw119/YefOnaWeU6lUel9LklRqW3kM7V+R49gTa18z2bVr19CzZ088//zzGDlyZIWOYS+sec3mzJmD7OxsTJ061eLztDfWvG7FxcUAgLfffluz/NPixYtRu3ZtrFy5sswPI3tmzWsmSRLGjBmD4OBg/Pnnn/D19cV3332HXr164cCBAwgLC7P4/CuDEtcsOzsbTz31FJo1a4Zp06aVeYyyjuNIrH3dZM70WWAqVgCt7NVXX8W6deuwdetW1K5dW7M9NDQUAEr9tZKenl7qr5qyhIaG4vr166W237hxw6zj2BNrXzPZtWvX0KVLF0RHR2PBggWWnXQls/Y127JlC/bu3Qtvb294eHigYcOGAIA2bdpg6NChCryDymHt6yaHlWbNmmm2eXt744EHHtBbM9SR2OJ37bfffsPy5cvRsWNHtG7dGvPmzYOvry++//57Zd6EjSlxzXJyctCzZ09UrVoVa9asgaenp95xnO1zALD+dZM502eBORgArUSSJIwbNw6rV6/Gli1bEBERofd8REQEQkNDkZiYqNmWn5+P7du3o0OHDia/TnR0NLKysrB//37Ntn379iErK8us49gDW10zALh69So6d+6M1q1bY/HixXBzc8x/Cra6Zl999RWOHDmC5ORkJCcnIz4+HgCwYsUK/Oc//1HmzdiQra5bVFQUvL299aawKCgowKVLlzQLyDsKW12zu3fvAkCpf5Nubm6aiqqjUOqaZWdnIyYmBl5eXli3bh18fHz0juNMnwOA7a4b4DyfBRVis+EmLuaVV16R1Gq1tG3bNik1NVVzu3v3rmafTz75RFKr1dLq1aulo0ePSi+88IIUFhYmZWdna/ZJTU2VkpKSpG+//VYzMi4pKUnKyMjQ7NOzZ0/poYcekvbs2SPt2bNHatGihdSrVy+bvl8l2OqaXb16VWrYsKH0xBNPSFeuXNF7LUdjy98zXRcvXnToUcC2vG6vvfaaVKtWLWnjxo3SqVOnpBEjRkjBwcHSrVu3bPqeLWWra3bjxg2pRo0aUr9+/aTk5GTp9OnT0pQpUyRPT08pOTnZ5u/bEkpcs+zsbKldu3ZSixYtpHPnzukdp7CwUHMcZ/kckCTbXTdn+iyoCAZAKwFg8LZ48WLNPsXFxdK0adOk0NBQydvbW3rssceko0eP6h1n2rRp5R4nIyNDGjx4sOTv7y/5+/tLgwcPNmnqE3tjq2u2ePFio6/laGz5e6bL0QOgLa9bfn6+NHnyZCk4OFjy9/eXunXrJh07dsxG71Q5trxmBw4ckGJiYqTAwEDJ399fat++vRQfH2+jd6ocJa6ZPF2OodvFixc1+znL54Ak2e66OdNnQUWoJEmSyqsSEhEREZHzcKHGbiIiIiICGACJiIiIXA4DIBEREZGLYQAkIiIicjEMgEREREQuhgGQiIiIyMUwABIRERG5GAZAIiIiIhfDAEhETkeSJHTr1g09evQo9dy8efOgVquRkpJSCWdGRGQfGACJyOmoVCosXrwY+/btw/z58zXbL168iH//+9/48ssvUbduXUVfs6CgQNHjERFZEwMgETmlOnXq4Msvv8SUKVNw8eJFSJKEESNGoGvXrmjbti2efPJJVK1aFSEhIYiLi8PNmzc135uQkIBHH30U1apVQ40aNdCrVy+cP39e8/ylS5egUqnwv//9D507d4aPjw+WLl2Kv//+G71790b16tXh5+eH5s2bIz4+vjLePhFRmbgWMBE5tb59++L27dt49tln8eGHH+LAgQNo06YNRo0ahSFDhuDevXv497//jcLCQmzZsgUAsGrVKqhUKrRo0QK5ubl47733cOnSJSQnJ8PNzQ2XLl1CREQE6tevj5kzZ6JVq1bw9vbGyy+/jPz8fMycORN+fn44ceIEAgIC8Nhjj1XyVSAi0scASEROLT09HZGRkcjIyMAvv/yCpKQk7Nu3Dxs3btTsc+XKFdSpUwenT59G48aNSx3jxo0bCA4OxtGjRxEZGakJgLNnz8Zrr72m2e+hhx7Cs88+i2nTptnkvRERVRSbgInIqQUHB+Pll19G06ZN8cwzz+DQoUPYunUrqlatqrk9+OCDAKBp5j1//jwGDRqEBx54AAEBAYiIiACAUgNH2rRpo/f1+PHj8dFHH6Fjx46YNm0a/vrrLxu8QyIi8zEAEpHT8/DwgIeHBwCguLgYvXv3RnJyst7t7Nmzmqba3r17IyMjA99++y327duHffv2AQDy8/P1juvn56f39ciRI3HhwgXExcXh6NGjaNOmDebMmWODd0hEZB4GQCJyKa1bt8bx48dRv359NGzYUO/m5+eHjIwMnDx5Eu+88w66du2Kpk2bIjMz0+Tj16lTB6NHj8bq1asxefJkfPvtt1Z8N0REFcMASEQuZezYsbh16xZeeOEF7N+/HxcuXMCmTZswfPhwFBUVoXr16qhRowYWLFiAc+fOYcuWLZg0aZJJx54wYQI2btyIixcv4vDhw9iyZQuaNm1q5XdERGQ+BkAicinh4eHYtWsXioqK0KNHD0RGRuK1116DWq2Gm5sb3NzcsHz5chw6dAiRkZGYOHEiPv/8c5OOXVRUhLFjx6Jp06bo2bMnmjRpgnnz5ln5HRERmY+jgImIiIhcDCuARERERC6GAZCIiIjIxTAAEhEREbkYBkAiIiIiF8MASERERORiGACJiIiIXAwDIBEREZGLYQAkIiIicjEMgEREREQuhgGQiIiIyMUwABIRERG5GAZAIiIiIhfz/zI8xumzbkOCAAAAAElFTkSuQmCC&quot; width=&quot;460px&quot; height=&quot;345px&quot; alt=&quot;&quot;&gt;&lt;/img&gt;\",\"width\":460},\"id\":\"1004\",\"type\":\"panel.models.markup.HTML\"},{\"attributes\":{\"margin\":[5,10,5,10],\"options\":[\"33013014020000\",\"33105029270000\"],\"title\":\"API\",\"value\":\"33013014020000\"},\"id\":\"1007\",\"type\":\"panel.models.widgets.CustomSelect\"},{\"attributes\":{\"client_comm_id\":\"ebda17d66a2343b48f530c098de11878\",\"comm_id\":\"2481e8eb3fc34e9c923d831c27968721\",\"plot_id\":\"1002\"},\"id\":\"1009\",\"type\":\"panel.models.comm_manager.CommManager\"},{\"attributes\":{\"margin\":[5,10,5,10],\"options\":[\"oil\",\"gas\"],\"title\":\"Reservoir Fluid\",\"value\":\"oil\"},\"id\":\"1008\",\"type\":\"panel.models.widgets.CustomSelect\"},{\"attributes\":{\"children\":[{\"id\":\"1006\"},{\"id\":\"1007\"},{\"id\":\"1008\"}],\"margin\":[0,0,0,0],\"name\":\"Column00105\"},\"id\":\"1005\",\"type\":\"Column\"}],\"root_ids\":[\"1002\",\"1009\",\"1010\"]},\"title\":\"Bokeh Application\",\"version\":\"2.4.3\"}};\n",
       "    var render_items = [{\"docid\":\"dd8d424e-332a-4531-983f-73d7de752cd8\",\"root_ids\":[\"1002\"],\"roots\":{\"1002\":\"5a47e841-3196-4bf2-9789-92924f23b7c5\"}}];\n",
       "    root.Bokeh.embed.embed_items_notebook(docs_json, render_items);\n",
       "    for (const render_item of render_items) {\n",
       "      for (const root_id of render_item.root_ids) {\n",
       "\tconst id_el = document.getElementById(root_id)\n",
       "\tif (id_el.children.length && (id_el.children[0].className === 'bk-root')) {\n",
       "\t  const root_el = id_el.children[0]\n",
       "\t  root_el.id = root_el.id + '-rendered'\n",
       "\t}\n",
       "      }\n",
       "    }\n",
       "  }\n",
       "  if (root.Bokeh !== undefined && root.Bokeh.Panel !== undefined) {\n",
       "    embed_document(root);\n",
       "  } else {\n",
       "    var attempts = 0;\n",
       "    var timer = setInterval(function(root) {\n",
       "      if (root.Bokeh !== undefined && root.Bokeh.Panel !== undefined) {\n",
       "        clearInterval(timer);\n",
       "        embed_document(root);\n",
       "      } else if (document.readyState == \"complete\") {\n",
       "        attempts++;\n",
       "        if (attempts > 200) {\n",
       "          clearInterval(timer);\n",
       "          console.log(\"Bokeh: ERROR: Unable to run BokehJS code because BokehJS library is missing\");\n",
       "        }\n",
       "      }\n",
       "    }, 25, root)\n",
       "  }\n",
       "})(window);</script>"
      ],
      "text/plain": [
       "Row\n",
       "    [0] ParamFunction(function)\n",
       "    [1] Column\n",
       "        [0] Markdown(str)\n",
       "        [1] Select(name='API', options=['33013014020000', ...], value='33013014020000')\n",
       "        [2] Select(name='Reservoir Fluid', options=['oil', 'gas'], value='oil')"
      ]
     },
     "execution_count": 6,
     "metadata": {
      "application/vnd.holoviews_exec.v0+json": {
       "id": "1002"
      }
     },
     "output_type": "execute_result"
    }
   ],
   "source": [
    "api  = panel.widgets.Select(name='API', options=['33013014020000','33105029270000'])\n",
    "og = panel.widgets.Select(name='Reservoir Fluid', options=['oil','gas'])\n",
    "\n",
    "@panel.depends(api.param.value, og.param.value)\n",
    "def create_plot(API, oil_or_gas='oil'):\n",
    "    fig, ax1 = plt.subplots()\n",
    "    df = cat.production.production_by_api(api=API).read().set_index(['date'])\n",
    "    if oil_or_gas == 'oil':\n",
    "        liquid = df['volume_oil_formation_bbls'].values\n",
    "        ax1.set_ylabel('Oil Production (bbls)', color='b')\n",
    "    if oil_or_gas == 'gas':\n",
    "        liquid = df['volume_gas_formation_mcf'].values\n",
    "        ax1.set_ylabel('Gas Production (mcf)', color='b')\n",
    "    dates = df.index.values\n",
    "    \n",
    "    ax2 = ax1.twinx()\n",
    "    ax1.plot(dates, liquid, 'b')\n",
    "    ax1.set_xlabel('Years')\n",
    "    ax1.set_title('API = {}'.format(API))\n",
    "    plt.close(fig)\n",
    "    return fig\n",
    "\n",
    "widgets    = panel.Column(\"**Select API and Reservoir Liquid:**\", api, og)\n",
    "side_panel = panel.Row(create_plot, widgets)\n",
    "\n",
    "side_panel"
   ]
  },
  {
   "cell_type": "markdown",
   "metadata": {
    "hide_input": false,
    "slideshow": {
     "slide_type": "slide"
    }
   },
   "source": [
    "# Highly Interactive Visualizations"
   ]
  },
  {
   "cell_type": "code",
   "execution_count": 7,
   "metadata": {
    "hide_input": true,
    "slideshow": {
     "slide_type": "-"
    },
    "tags": [
     "remove_input"
    ]
   },
   "outputs": [
    {
     "data": {
      "text/html": [
       "\n",
       "        <iframe\n",
       "            width=\"510\"\n",
       "            height=\"655\"\n",
       "            src=\"https://johnfoster.pge.utexas.edu/files/nd_production.html\"\n",
       "            frameborder=\"0\"\n",
       "            allowfullscreen\n",
       "            \n",
       "        ></iframe>\n",
       "        "
      ],
      "text/plain": [
       "<IPython.lib.display.IFrame at 0x7f7a1847f430>"
      ]
     },
     "execution_count": 7,
     "metadata": {},
     "output_type": "execute_result"
    }
   ],
   "source": [
    "import IPython\n",
    "IPython.display.IFrame(src=\"https://johnfoster.pge.utexas.edu/files/nd_production.html\", width=510, height=655)"
   ]
  },
  {
   "cell_type": "code",
   "execution_count": 8,
   "metadata": {
    "hide_input": true,
    "init_cell": true,
    "javascript_last_cell": true,
    "jupyter": {
     "source_hidden": true
    },
    "tags": []
   },
   "outputs": [
    {
     "data": {
      "application/javascript": [
       "function hideElements(elements, start) {\n",
       "for(var i = 0, length = elements.length; i < length;i++) {\n",
       "    if(i >= start) {\n",
       "        elements[i].style.display = \"none\";\n",
       "    }\n",
       "}\n",
       "}\n",
       "var prompt_elements = document.getElementsByClassName(\"prompt\");\n",
       "hideElements(prompt_elements, 0)\n"
      ],
      "text/plain": [
       "<IPython.core.display.Javascript object>"
      ]
     },
     "metadata": {},
     "output_type": "display_data"
    }
   ],
   "source": [
    "%%javascript\n",
    "function hideElements(elements, start) {\n",
    "for(var i = 0, length = elements.length; i < length;i++) {\n",
    "    if(i >= start) {\n",
    "        elements[i].style.display = \"none\";\n",
    "    }\n",
    "}\n",
    "}\n",
    "var prompt_elements = document.getElementsByClassName(\"prompt\");\n",
    "hideElements(prompt_elements, 0)"
   ]
  }
 ],
 "metadata": {
  "celltoolbar": "Slideshow",
  "kernelspec": {
   "display_name": "Python 3 (ipykernel)",
   "language": "python",
   "name": "python3"
  },
  "language_info": {
   "codemirror_mode": {
    "name": "ipython",
    "version": 3
   },
   "file_extension": ".py",
   "mimetype": "text/x-python",
   "name": "python",
   "nbconvert_exporter": "python",
   "pygments_lexer": "ipython3",
   "version": "3.10.8"
  },
  "rise": {
   "auto_select": null,
   "autolaunch": false,
   "controls": true,
   "enable_chalkboard": false,
   "footer": "<img src='https://github.com/daytum/logos/blob/master/daytum_logo_2019.png?raw=true' width='220'>",
   "progress": true,
   "scroll": true,
   "slideNumber": false,
   "theme": "simple"
  },
  "widgets": {
   "application/vnd.jupyter.widget-state+json": {
    "state": {},
    "version_major": 2,
    "version_minor": 0
   }
  }
 },
 "nbformat": 4,
 "nbformat_minor": 4
}
